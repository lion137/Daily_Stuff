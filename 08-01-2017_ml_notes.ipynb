{
 "cells": [
  {
   "cell_type": "code",
   "execution_count": 1,
   "metadata": {
    "collapsed": true
   },
   "outputs": [],
   "source": [
    "import numpy as np"
   ]
  },
  {
   "cell_type": "code",
   "execution_count": 87,
   "metadata": {
    "collapsed": false
   },
   "outputs": [],
   "source": [
    "X = [1, 2, 3, 4]\n",
    "Y = np.array([1, 20, 30, 40])\n",
    "a = 0.001"
   ]
  },
  {
   "cell_type": "code",
   "execution_count": 10,
   "metadata": {
    "collapsed": false
   },
   "outputs": [],
   "source": [
    "# Grad descent looking for h(x) to minimize cost func J (in notes)\n",
    "def suma(x, y, f0, f1):\n",
    "        n = len(x)\n",
    "        cnt = 0\n",
    "        s = 0\n",
    "        while cnt < n:\n",
    "            s = s + f0 + f1 * x[cnt] - y[cnt]\n",
    "            cnt += 1\n",
    "        return s\n",
    "    \n",
    "def suma1(x, y, f0, f1):\n",
    "        n = len(x)\n",
    "        cnt = 0\n",
    "        s = 0\n",
    "        while cnt < n:\n",
    "            s = s + (f0 + f1 * x[cnt] - y[cnt]) * x[cnt]\n",
    "            cnt += 1\n",
    "        return s\n",
    "def J(x, y, f0, f1):\n",
    "    n = len(x)\n",
    "    cnt = 0\n",
    "    s = 0\n",
    "    while cnt < n:\n",
    "        s = s + (f0 + f1 * x[cnt] - y[cnt])**2\n",
    "        cnt += 1\n",
    "    return (1 / (2 * n)) * s\n",
    "    \n",
    "\n",
    "def g_d(x, y, alfa):\n",
    "    af = np.array([0, 0])\n",
    "    tmp = np.array([0,0])\n",
    "    m = len(x)\n",
    "    cnt = 0\n",
    "    ma = alfa * (1 / m)\n",
    "    delta = J(x, y, af[0], af[1])\n",
    "    while delta > 0.00001:\n",
    "        #print(af0, af1, ma, suma(X, Y, af0, af1), suma1(X, Y, af0, af1) )\n",
    "        beg = J(x, y, af[0], af[1])\n",
    "        tmp0 = af[0] - (ma *  suma(x, y, af[0], af[1]))\n",
    "        tmp1 = af[1] - (ma * suma1(x, y, af[0], af[1]))\n",
    "        af = np.array([tmp0, tmp1])\n",
    "        cnt += 1\n",
    "        end = J(x, y, af[0], af[1])\n",
    "        delta = abs(end - beg)\n",
    "        if cnt < 100000 and cnt > 99990:\n",
    "            print(delta)\n",
    "        #print(af, beg, end, cnt, af[0], af[1], tmp0, tmp1)\n",
    "        #print(FI)\n",
    "    return (af, cnt)"
   ]
  },
  {
   "cell_type": "code",
   "execution_count": 15,
   "metadata": {
    "collapsed": false
   },
   "outputs": [
    {
     "name": "stdout",
     "output_type": "stream",
     "text": [
      "CPU times: user 492 ms, sys: 4 ms, total: 496 ms\n",
      "Wall time: 496 ms\n"
     ]
    },
    {
     "data": {
      "text/plain": [
       "(array([ -8.36768686,  12.48493642]), 19626)"
      ]
     },
     "execution_count": 15,
     "metadata": {},
     "output_type": "execute_result"
    }
   ],
   "source": [
    "%time g_d(X, Y, a)\n"
   ]
  },
  {
   "cell_type": "code",
   "execution_count": null,
   "metadata": {
    "collapsed": false
   },
   "outputs": [],
   "source": []
  },
  {
   "cell_type": "code",
   "execution_count": 197,
   "metadata": {
    "collapsed": false
   },
   "outputs": [
    {
     "data": {
      "text/plain": [
       "array([ 1.,  2.,  3.])"
      ]
     },
     "execution_count": 197,
     "metadata": {},
     "output_type": "execute_result"
    }
   ],
   "source": [
    "B[:,1]"
   ]
  },
  {
   "cell_type": "code",
   "execution_count": 117,
   "metadata": {
    "collapsed": false
   },
   "outputs": [
    {
     "name": "stdout",
     "output_type": "stream",
     "text": [
      "[ 1.  1.  1.]\n",
      "[ 1.  2.  3.]\n",
      "[ 2.  4.  5.]\n",
      "[ 3.  4.  5.]\n"
     ]
    }
   ],
   "source": [
    "i = 0\n",
    "while i < B.shape[1]:\n",
    "    print(B[:, i])\n",
    "    i += 1"
   ]
  },
  {
   "cell_type": "markdown",
   "metadata": {},
   "source": [
    "# Multivariable Gradient Descent (Linear)"
   ]
  },
  {
   "cell_type": "code",
   "execution_count": 2,
   "metadata": {
    "collapsed": false
   },
   "outputs": [],
   "source": [
    "import numpy as np\n",
    "import matplotlib.pyplot as plt\n",
    "\n",
    "def scaling(X):\n",
    "    \"\"\"mean normalzation\"\"\"\n",
    "    l = []\n",
    "    for k in range(X.shape[1]):\n",
    "        x = X[:,k]\n",
    "        def f(e):\n",
    "            tmp0 = sum(x) / len(x)\n",
    "            tmp1 = max(x) - min(x)\n",
    "            return (e - tmp0) / tmp1\n",
    "        m =  list(map(float, (list(map(f, x[:, 0])))))\n",
    "        l.append(m)\n",
    "    return np.matrix(l).transpose()\n",
    "\n",
    "\n",
    "l_cost_function = [] # lists to record data for debugging\n",
    "l_iterations = [] \n",
    "\n",
    "def m_g_d(A, y, alfa):\n",
    "    \"\"\"computes gradient descent\"\"\"\n",
    "    l = len(A)\n",
    "    X = np.c_[np.ones(l), A]\n",
    "    tmp = np.matrix([0] * X.shape[1], dtype=np.float64)\n",
    "    theta = np.matrix([0] * X.shape[1], dtype=np.float64)\n",
    "    cnt = 0\n",
    "    m = len(X)\n",
    "    ma = alfa * (1 / m)\n",
    "    delta = J_m(X, y, theta)\n",
    "    while delta > 1:\n",
    "        beg = J_m(X, y, theta)\n",
    "        for j in range(X.shape[1]):\n",
    "            tmp[:,j] = theta[:,j] - ma * ((((X * theta.transpose()) - y.transpose()).transpose()) * X[:,j])\n",
    "        theta = tmp\n",
    "        end = J_m(X, y, theta)\n",
    "        l_cost_function.append(end)\n",
    "        l_iterations.append(cnt)\n",
    "        delta = abs(end - beg)\n",
    "        cnt += 1\n",
    "        if cnt > 300000:\n",
    "            return (theta, end, delta)\n",
    "    return (theta, cnt, end)\n",
    "\n",
    "\n",
    "def J_m(A, y, theta):\n",
    "    \"\"\"computes cost function \"\"\"\n",
    "    n = len(A)\n",
    "    return (1 / (2 * n)) * float(sum([x * x for x in A * theta.transpose() - y.transpose()]))\n",
    "def J_multi(T2, z, theta): # also works:)\n",
    "    \"\"\"computes cost function \"\"\"\n",
    "    n = len(T2)\n",
    "    cnt = 0\n",
    "    s = 0\n",
    "    while cnt < n:\n",
    "        s = s + ( float(T2[cnt,:] * theta.transpose()) - z[0,cnt]) ** 2\n",
    "        cnt += 1\n",
    "    return (1 / (2 * n)) * s"
   ]
  },
  {
   "cell_type": "code",
   "execution_count": 7,
   "metadata": {
    "collapsed": false
   },
   "outputs": [
    {
     "name": "stdout",
     "output_type": "stream",
     "text": [
      "[[ 287000.  368500.  329900.  314000.  299000.  179900.  299900.  239500.]]\n",
      "-------------\n",
      "CPU times: user 3min 23s, sys: 272 ms, total: 3min 24s\n",
      "Wall time: 3min 24s\n",
      "(matrix([[ 274854.11360402,   27640.95582442,    6165.51869158]]), 1284114830.5932279, 2782.4446444511414)\n"
     ]
    },
    {
     "data": {
      "image/png": "[encoded data removed]",
      "text/plain": [
       "<matplotlib.figure.Figure at 0x7f3bbc0459b0>"
      ]
     },
     "metadata": {},
     "output_type": "display_data"
    }
   ],
   "source": [
    "f = open('ex1data2.txt', 'r')\n",
    "f1 = list(map(str.rstrip, f.readlines()))\n",
    "\n",
    "f2 = f1[0].split(',')\n",
    "f3 = list(map(split, f1))\n",
    "f4 = split_input_and_to_float(f3)\n",
    "matr2 = np.matrix([0] * len(f4[0]))\n",
    "for elem in f4:\n",
    "       matr2 = np.vstack([matr2, elem])\n",
    "matr2 = matr2[40: ,:]\n",
    "y = matr2[:,2]\n",
    "y = y.transpose()\n",
    "matr2 = matr2[:,:2]\n",
    "matr2 = scaling(matr2)\n",
    "print(y)\n",
    "print(\"-------------\")\n",
    "%time out = m_g_d(matr2, y, 0.000009901)\n",
    "print(out)\n",
    "plt.plot(l_iterations, l_cost_function, color=\"blue\", linewidth=1, label=\"alfa=0.0001\")\n",
    "plt.legend(loc=\"upper right\")\n",
    "plt.show()\n",
    "#(matrix([[  28.64564617,  165.29870221,   49.93247029]]), 2396765593.023439, 3.6411232948303223)"
   ]
  },
  {
   "cell_type": "code",
   "execution_count": 20,
   "metadata": {
    "collapsed": false
   },
   "outputs": [
    {
     "name": "stdout",
     "output_type": "stream",
     "text": [
      "2104,3,399900\r\n",
      "1600,3,329900\r\n",
      "2400,3,369000\r\n",
      "1416,2,232000\r\n",
      "3000,4,539900\r\n",
      "1985,4,299900\r\n",
      "1534,3,314900\r\n",
      "1427,3,198999\r\n",
      "1380,3,212000\r\n",
      "1494,3,242500\r\n"
     ]
    },
    {
     "name": "stderr",
     "output_type": "stream",
     "text": [
      "/home/lion/anaconda3/lib/python3.5/site-packages/ipykernel/__main__.py:12: RuntimeWarning: invalid value encountered in true_divide\n"
     ]
    },
    {
     "ename": "UnboundLocalError",
     "evalue": "local variable 'end' referenced before assignment",
     "output_type": "error",
     "traceback": [
      "\u001b[0;31m---------------------------------------------------------------------------\u001b[0m",
      "\u001b[0;31mUnboundLocalError\u001b[0m                         Traceback (most recent call last)",
      "\u001b[0;32m<ipython-input-20-dd6cf115cc89>\u001b[0m in \u001b[0;36m<module>\u001b[0;34m()\u001b[0m\n\u001b[1;32m      4\u001b[0m \u001b[0mmatfr2\u001b[0m\u001b[0;34m\u001b[0m\u001b[0m\n\u001b[1;32m      5\u001b[0m \u001b[0my\u001b[0m \u001b[0;34m=\u001b[0m \u001b[0mnp\u001b[0m\u001b[0;34m.\u001b[0m\u001b[0mmatrix\u001b[0m\u001b[0;34m(\u001b[0m\u001b[0;34m[\u001b[0m\u001b[0;36m3\u001b[0m\u001b[0;34m,\u001b[0m \u001b[0;36m3\u001b[0m\u001b[0;34m]\u001b[0m\u001b[0;34m)\u001b[0m\u001b[0;34m\u001b[0m\u001b[0m\n\u001b[0;32m----> 6\u001b[0;31m \u001b[0mget_ipython\u001b[0m\u001b[0;34m(\u001b[0m\u001b[0;34m)\u001b[0m\u001b[0;34m.\u001b[0m\u001b[0mmagic\u001b[0m\u001b[0;34m(\u001b[0m\u001b[0;34m'time out = m_g_d(matfr2, y, 0.001)'\u001b[0m\u001b[0;34m)\u001b[0m\u001b[0;34m\u001b[0m\u001b[0m\n\u001b[0m\u001b[1;32m      7\u001b[0m \u001b[0mprint\u001b[0m\u001b[0;34m(\u001b[0m\u001b[0mout\u001b[0m\u001b[0;34m)\u001b[0m\u001b[0;34m\u001b[0m\u001b[0m\n\u001b[1;32m      8\u001b[0m \u001b[0mplt\u001b[0m\u001b[0;34m.\u001b[0m\u001b[0mplot\u001b[0m\u001b[0;34m(\u001b[0m\u001b[0ml_iterations\u001b[0m\u001b[0;34m,\u001b[0m \u001b[0ml_cost_function\u001b[0m\u001b[0;34m,\u001b[0m \u001b[0mcolor\u001b[0m\u001b[0;34m=\u001b[0m\u001b[0;34m\"blue\"\u001b[0m\u001b[0;34m,\u001b[0m \u001b[0mlinewidth\u001b[0m\u001b[0;34m=\u001b[0m\u001b[0;36m1\u001b[0m\u001b[0;34m,\u001b[0m \u001b[0mlabel\u001b[0m\u001b[0;34m=\u001b[0m\u001b[0;34m\"alfa=0.0001\"\u001b[0m\u001b[0;34m)\u001b[0m\u001b[0;34m\u001b[0m\u001b[0m\n",
      "\u001b[0;32m/home/lion/anaconda3/lib/python3.5/site-packages/IPython/core/interactiveshell.py\u001b[0m in \u001b[0;36mmagic\u001b[0;34m(self, arg_s)\u001b[0m\n\u001b[1;32m   2156\u001b[0m         \u001b[0mmagic_name\u001b[0m\u001b[0;34m,\u001b[0m \u001b[0m_\u001b[0m\u001b[0;34m,\u001b[0m \u001b[0mmagic_arg_s\u001b[0m \u001b[0;34m=\u001b[0m \u001b[0marg_s\u001b[0m\u001b[0;34m.\u001b[0m\u001b[0mpartition\u001b[0m\u001b[0;34m(\u001b[0m\u001b[0;34m' '\u001b[0m\u001b[0;34m)\u001b[0m\u001b[0;34m\u001b[0m\u001b[0m\n\u001b[1;32m   2157\u001b[0m         \u001b[0mmagic_name\u001b[0m \u001b[0;34m=\u001b[0m \u001b[0mmagic_name\u001b[0m\u001b[0;34m.\u001b[0m\u001b[0mlstrip\u001b[0m\u001b[0;34m(\u001b[0m\u001b[0mprefilter\u001b[0m\u001b[0;34m.\u001b[0m\u001b[0mESC_MAGIC\u001b[0m\u001b[0;34m)\u001b[0m\u001b[0;34m\u001b[0m\u001b[0m\n\u001b[0;32m-> 2158\u001b[0;31m         \u001b[0;32mreturn\u001b[0m \u001b[0mself\u001b[0m\u001b[0;34m.\u001b[0m\u001b[0mrun_line_magic\u001b[0m\u001b[0;34m(\u001b[0m\u001b[0mmagic_name\u001b[0m\u001b[0;34m,\u001b[0m \u001b[0mmagic_arg_s\u001b[0m\u001b[0;34m)\u001b[0m\u001b[0;34m\u001b[0m\u001b[0m\n\u001b[0m\u001b[1;32m   2159\u001b[0m \u001b[0;34m\u001b[0m\u001b[0m\n\u001b[1;32m   2160\u001b[0m     \u001b[0;31m#-------------------------------------------------------------------------\u001b[0m\u001b[0;34m\u001b[0m\u001b[0;34m\u001b[0m\u001b[0m\n",
      "\u001b[0;32m/home/lion/anaconda3/lib/python3.5/site-packages/IPython/core/interactiveshell.py\u001b[0m in \u001b[0;36mrun_line_magic\u001b[0;34m(self, magic_name, line)\u001b[0m\n\u001b[1;32m   2077\u001b[0m                 \u001b[0mkwargs\u001b[0m\u001b[0;34m[\u001b[0m\u001b[0;34m'local_ns'\u001b[0m\u001b[0;34m]\u001b[0m \u001b[0;34m=\u001b[0m \u001b[0msys\u001b[0m\u001b[0;34m.\u001b[0m\u001b[0m_getframe\u001b[0m\u001b[0;34m(\u001b[0m\u001b[0mstack_depth\u001b[0m\u001b[0;34m)\u001b[0m\u001b[0;34m.\u001b[0m\u001b[0mf_locals\u001b[0m\u001b[0;34m\u001b[0m\u001b[0m\n\u001b[1;32m   2078\u001b[0m             \u001b[0;32mwith\u001b[0m \u001b[0mself\u001b[0m\u001b[0;34m.\u001b[0m\u001b[0mbuiltin_trap\u001b[0m\u001b[0;34m:\u001b[0m\u001b[0;34m\u001b[0m\u001b[0m\n\u001b[0;32m-> 2079\u001b[0;31m                 \u001b[0mresult\u001b[0m \u001b[0;34m=\u001b[0m \u001b[0mfn\u001b[0m\u001b[0;34m(\u001b[0m\u001b[0;34m*\u001b[0m\u001b[0margs\u001b[0m\u001b[0;34m,\u001b[0m\u001b[0;34m**\u001b[0m\u001b[0mkwargs\u001b[0m\u001b[0;34m)\u001b[0m\u001b[0;34m\u001b[0m\u001b[0m\n\u001b[0m\u001b[1;32m   2080\u001b[0m             \u001b[0;32mreturn\u001b[0m \u001b[0mresult\u001b[0m\u001b[0;34m\u001b[0m\u001b[0m\n\u001b[1;32m   2081\u001b[0m \u001b[0;34m\u001b[0m\u001b[0m\n",
      "\u001b[0;32m<decorator-gen-59>\u001b[0m in \u001b[0;36mtime\u001b[0;34m(self, line, cell, local_ns)\u001b[0m\n",
      "\u001b[0;32m/home/lion/anaconda3/lib/python3.5/site-packages/IPython/core/magic.py\u001b[0m in \u001b[0;36m<lambda>\u001b[0;34m(f, *a, **k)\u001b[0m\n\u001b[1;32m    186\u001b[0m     \u001b[0;31m# but it's overkill for just that one bit of state.\u001b[0m\u001b[0;34m\u001b[0m\u001b[0;34m\u001b[0m\u001b[0m\n\u001b[1;32m    187\u001b[0m     \u001b[0;32mdef\u001b[0m \u001b[0mmagic_deco\u001b[0m\u001b[0;34m(\u001b[0m\u001b[0marg\u001b[0m\u001b[0;34m)\u001b[0m\u001b[0;34m:\u001b[0m\u001b[0;34m\u001b[0m\u001b[0m\n\u001b[0;32m--> 188\u001b[0;31m         \u001b[0mcall\u001b[0m \u001b[0;34m=\u001b[0m \u001b[0;32mlambda\u001b[0m \u001b[0mf\u001b[0m\u001b[0;34m,\u001b[0m \u001b[0;34m*\u001b[0m\u001b[0ma\u001b[0m\u001b[0;34m,\u001b[0m \u001b[0;34m**\u001b[0m\u001b[0mk\u001b[0m\u001b[0;34m:\u001b[0m \u001b[0mf\u001b[0m\u001b[0;34m(\u001b[0m\u001b[0;34m*\u001b[0m\u001b[0ma\u001b[0m\u001b[0;34m,\u001b[0m \u001b[0;34m**\u001b[0m\u001b[0mk\u001b[0m\u001b[0;34m)\u001b[0m\u001b[0;34m\u001b[0m\u001b[0m\n\u001b[0m\u001b[1;32m    189\u001b[0m \u001b[0;34m\u001b[0m\u001b[0m\n\u001b[1;32m    190\u001b[0m         \u001b[0;32mif\u001b[0m \u001b[0mcallable\u001b[0m\u001b[0;34m(\u001b[0m\u001b[0marg\u001b[0m\u001b[0;34m)\u001b[0m\u001b[0;34m:\u001b[0m\u001b[0;34m\u001b[0m\u001b[0m\n",
      "\u001b[0;32m/home/lion/anaconda3/lib/python3.5/site-packages/IPython/core/magics/execution.py\u001b[0m in \u001b[0;36mtime\u001b[0;34m(self, line, cell, local_ns)\u001b[0m\n\u001b[1;32m   1178\u001b[0m         \u001b[0;32melse\u001b[0m\u001b[0;34m:\u001b[0m\u001b[0;34m\u001b[0m\u001b[0m\n\u001b[1;32m   1179\u001b[0m             \u001b[0mst\u001b[0m \u001b[0;34m=\u001b[0m \u001b[0mclock2\u001b[0m\u001b[0;34m(\u001b[0m\u001b[0;34m)\u001b[0m\u001b[0;34m\u001b[0m\u001b[0m\n\u001b[0;32m-> 1180\u001b[0;31m             \u001b[0mexec\u001b[0m\u001b[0;34m(\u001b[0m\u001b[0mcode\u001b[0m\u001b[0;34m,\u001b[0m \u001b[0mglob\u001b[0m\u001b[0;34m,\u001b[0m \u001b[0mlocal_ns\u001b[0m\u001b[0;34m)\u001b[0m\u001b[0;34m\u001b[0m\u001b[0m\n\u001b[0m\u001b[1;32m   1181\u001b[0m             \u001b[0mend\u001b[0m \u001b[0;34m=\u001b[0m \u001b[0mclock2\u001b[0m\u001b[0;34m(\u001b[0m\u001b[0;34m)\u001b[0m\u001b[0;34m\u001b[0m\u001b[0m\n\u001b[1;32m   1182\u001b[0m             \u001b[0mout\u001b[0m \u001b[0;34m=\u001b[0m \u001b[0;32mNone\u001b[0m\u001b[0;34m\u001b[0m\u001b[0m\n",
      "\u001b[0;32m<timed exec>\u001b[0m in \u001b[0;36m<module>\u001b[0;34m()\u001b[0m\n",
      "\u001b[0;32m<ipython-input-2-4fc5c26940b1>\u001b[0m in \u001b[0;36mm_g_d\u001b[0;34m(A, y, alfa)\u001b[0m\n\u001b[1;32m     41\u001b[0m         \u001b[0;32mif\u001b[0m \u001b[0mcnt\u001b[0m \u001b[0;34m>\u001b[0m \u001b[0;36m300000\u001b[0m\u001b[0;34m:\u001b[0m\u001b[0;34m\u001b[0m\u001b[0m\n\u001b[1;32m     42\u001b[0m             \u001b[0;32mreturn\u001b[0m \u001b[0;34m(\u001b[0m\u001b[0mtheta\u001b[0m\u001b[0;34m,\u001b[0m \u001b[0mend\u001b[0m\u001b[0;34m,\u001b[0m \u001b[0mdelta\u001b[0m\u001b[0;34m)\u001b[0m\u001b[0;34m\u001b[0m\u001b[0m\n\u001b[0;32m---> 43\u001b[0;31m     \u001b[0;32mreturn\u001b[0m \u001b[0;34m(\u001b[0m\u001b[0mtheta\u001b[0m\u001b[0;34m,\u001b[0m \u001b[0mcnt\u001b[0m\u001b[0;34m,\u001b[0m \u001b[0mend\u001b[0m\u001b[0;34m)\u001b[0m\u001b[0;34m\u001b[0m\u001b[0m\n\u001b[0m\u001b[1;32m     44\u001b[0m \u001b[0;34m\u001b[0m\u001b[0m\n\u001b[1;32m     45\u001b[0m \u001b[0;34m\u001b[0m\u001b[0m\n",
      "\u001b[0;31mUnboundLocalError\u001b[0m: local variable 'end' referenced before assignment"
     ]
    }
   ],
   "source": [
    "! head ex1data2.txt\n",
    "matfr2 = np.matrix([[2104, 3], [1600, 3]])\n",
    "matfr2 = scaling(matfr2)\n",
    "matfr2\n",
    "y = np.matrix([3, 3])\n",
    "%time out = m_g_d(matfr2, y, 0.001)\n",
    "print(out)\n",
    "plt.plot(l_iterations, l_cost_function, color=\"blue\", linewidth=1, label=\"alfa=0.0001\")\n",
    "plt.legend(loc=\"upper right\")\n",
    "plt.show()"
   ]
  },
  {
   "cell_type": "code",
   "execution_count": 44,
   "metadata": {
    "collapsed": false
   },
   "outputs": [
    {
     "name": "stdout",
     "output_type": "stream",
     "text": [
      "[[11]]\n",
      "29.0\n"
     ]
    },
    {
     "data": {
      "text/plain": [
       "125924.375"
      ]
     },
     "execution_count": 44,
     "metadata": {},
     "output_type": "execute_result"
    }
   ],
   "source": [
    "\n",
    "T2 = np.matrix([[1, 2, 2], [3, 4, 6], [3, 4, 5], [2, 2, 333]])\n",
    "\n",
    "z = np.matrix([2, 2, 2, 2])\n",
    "th = np.matrix([1, 2, 3])\n",
    "print(T2[0,:] * th.transpose())\n",
    "print(float(T2[1,:] * th.transpose()))\n",
    "J_multi(T2, z, th)\n",
    "#z[0,1]"
   ]
  },
  {
   "cell_type": "code",
   "execution_count": 45,
   "metadata": {
    "collapsed": false
   },
   "outputs": [
    {
     "name": "stdout",
     "output_type": "stream",
     "text": [
      "(4, 3)\n",
      "CPU times: user 9.68 s, sys: 4 ms, total: 9.68 s\n",
      "Wall time: 9.68 s\n",
      "(matrix([[ 1.94098611,  0.16812802,  0.02442464,  0.11222336]]), 19852, 0.11889109844395598)\n"
     ]
    },
    {
     "data": {
      "image/png": "[encoded data removed]",
      "text/plain": [
       "<matplotlib.figure.Figure at 0x7f5ee8f69ef0>"
      ]
     },
     "metadata": {},
     "output_type": "display_data"
    }
   ],
   "source": [
    "y = np.matrix([2, 2, 2, 3], dtype=np.float64)\n",
    "T1 = np.matrix([[0.5, 0.5, 0.3], [0.5, 0.5, 1.1], [1, 1.2, 2.2], [1,  0.9, 2.1]], dtype=np.float64)\n",
    "T1 = scaling(T1)\n",
    "print(T1.shape)\n",
    "#X2 = np.c_[np.ones(2), T1]\n",
    "#tmp22= np.matrix([0,0,0], dtype=np.float64)\n",
    "#print(X2)\n",
    "#print(len(T1)\n",
    "#print(\"shape X2 \", X2.shape)\n",
    "#print(np.zeros(X2.shape[1]))\n",
    "#M = T1 * fi2.transpose() - y.transpose()\n",
    "#print(tmp22)\n",
    "#(1 / (2 * len(T1))) * float(sum([x * x for x in M]))\n",
    "#print(tmp[:,2])\n",
    "#J_m(X2, y, fi2)\n",
    "%time out = m_g_d(T1, y, 0.0001)\n",
    "print(out)\n",
    "plt.plot(l_iterations, l_cost_function, color=\"blue\", linewidth=1, label=\"alfa=0.0001\")\n",
    "plt.legend(loc=\"upper right\")\n",
    "plt.show()\n",
    "#(matrix([[ 0.61223704,  0.30611546,  0.30611469]]), 167022)\n",
    "# 1.2789539 ,  0.63941301,  0.63939703]]"
   ]
  },
  {
   "cell_type": "code",
   "execution_count": 270,
   "metadata": {
    "collapsed": false
   },
   "outputs": [
    {
     "data": {
      "text/plain": [
       "matrix([[ 1.,  1.],\n",
       "        [ 9.,  9.]])"
      ]
     },
     "execution_count": 270,
     "metadata": {},
     "output_type": "execute_result"
    }
   ],
   "source": [
    "a1 = np.matrix([[1,2], [3,4]])\n",
    "a = np.c_[np.ones(2), a1]\n",
    "b = np.matrix([3, 3, 3])\n",
    "y = np.matrix([5,6])\n",
    "tes1 = np.matrix([0, 0])\n",
    "#print(type(a))\n",
    "#print(a[:,:])\n",
    "#print(a.shape[1])\n",
    "#float((((a * b.transpose()) - y.transpose()).transpose()) * a[:,0])\n",
    "#np.c_[np.ones(2), a]\n",
    "#np.matrix(list(map(lambda x : x * x, a1[:, 0])))\n",
    "ll = []\n",
    "mat  = list(map(int, (list(map(lambda x : x * x, a1[:, 0])))))\n",
    "mat2 = np.matrix(mat)\n",
    "ll.append(mat)\n",
    "ll.append(mat)\n",
    "matr1 = np.matrix(ll, dtype=np.float64).transpose()\n",
    "matr1"
   ]
  },
  {
   "cell_type": "code",
   "execution_count": 271,
   "metadata": {
    "collapsed": false
   },
   "outputs": [
    {
     "data": {
      "text/plain": [
       "matrix([[-0.5, -0.5],\n",
       "        [ 0.5,  0.5]])"
      ]
     },
     "execution_count": 271,
     "metadata": {},
     "output_type": "execute_result"
    }
   ],
   "source": [
    "def scaling(X):\n",
    "    l = []\n",
    "    for k in range(X.shape[1]):\n",
    "        x = X[:,k]\n",
    "        def f(e):\n",
    "            tmp0 = sum(x) / len(x)\n",
    "            tmp1 = max(x) - min(x)\n",
    "            return (e - tmp0) / tmp1\n",
    "        m =  list(map(float, (list(map(f, x[:, 0])))))\n",
    "        l.append(m)\n",
    "    return np.matrix(l).transpose()\n",
    "M = scaling(matr1)\n",
    "M\n",
    "            \n"
   ]
  },
  {
   "cell_type": "code",
   "execution_count": 99,
   "metadata": {
    "collapsed": false
   },
   "outputs": [
    {
     "name": "stdout",
     "output_type": "stream",
     "text": [
      "2\n",
      "[[ 1.  1.  2.]\n",
      " [ 1.  3.  4.]]\n",
      "7.0 [3 3 3] 0 0\n",
      "25.0 [3 3 3] 1 0\n",
      "25.0\n"
     ]
    },
    {
     "data": {
      "text/plain": [
       "25.0"
      ]
     },
     "execution_count": 99,
     "metadata": {},
     "output_type": "execute_result"
    }
   ],
   "source": [
    "x1 = np.array([[1, 2], [3, 4]])\n",
    "y1 = np.array([5, 6])\n",
    "X1 = np.c_[np.ones(2), x1]\n",
    "fi1 = np.array([3, 3, 3])\n",
    "print(len(y1))\n",
    "print(X1[:, :])\n",
    "print(Sum(fi1, X1, y1, 0))\n",
    "\n",
    "#(fi1.dot(X1[1,:]) - y1[1]) * X1[1,0]\n"
   ]
  },
  {
   "cell_type": "code",
   "execution_count": 5,
   "metadata": {
    "collapsed": false
   },
   "outputs": [
    {
     "data": {
      "text/plain": [
       "32.0"
      ]
     },
     "execution_count": 5,
     "metadata": {},
     "output_type": "execute_result"
    }
   ],
   "source": [
    "i = 0\n",
    "s = 0\n",
    "while i < 3:\n",
    "    s = s + A[i,:].dot(np.ones(3))\n",
    "    i += 1\n",
    "s "
   ]
  },
  {
   "cell_type": "code",
   "execution_count": 21,
   "metadata": {
    "collapsed": false
   },
   "outputs": [
    {
     "data": {
      "text/plain": [
       "array([[ 1.,  1.,  2.,  6.],\n",
       "       [ 1.,  2.,  4.,  4.],\n",
       "       [ 1.,  3.,  5.,  5.]])"
      ]
     },
     "execution_count": 21,
     "metadata": {},
     "output_type": "execute_result"
    }
   ],
   "source": [
    "X"
   ]
  },
  {
   "cell_type": "code",
   "execution_count": 22,
   "metadata": {
    "collapsed": false
   },
   "outputs": [
    {
     "data": {
      "text/plain": [
       "array([ 1.,  1.,  2.,  6.])"
      ]
     },
     "execution_count": 22,
     "metadata": {},
     "output_type": "execute_result"
    }
   ],
   "source": [
    "X[0, :]"
   ]
  },
  {
   "cell_type": "code",
   "execution_count": 47,
   "metadata": {
    "collapsed": false
   },
   "outputs": [
    {
     "name": "stdout",
     "output_type": "stream",
     "text": [
      "[ 0.  0.  0.  0.]\n"
     ]
    },
    {
     "data": {
      "text/plain": [
       "array([[ 1.,  1.,  2.,  6.],\n",
       "       [ 1.,  2.,  4.,  4.],\n",
       "       [ 1.,  3.,  5.,  5.]])"
      ]
     },
     "execution_count": 47,
     "metadata": {},
     "output_type": "execute_result"
    }
   ],
   "source": [
    "test = np.array(range(1, 5))\n",
    "test2 = np.array(range(6, 10))\n",
    "test3 = np.zeros(4)\n",
    "X\n",
    "print(test3)\n",
    "X"
   ]
  },
  {
   "cell_type": "code",
   "execution_count": 41,
   "metadata": {
    "collapsed": false
   },
   "outputs": [
    {
     "data": {
      "text/plain": [
       "33.0"
      ]
     },
     "execution_count": 41,
     "metadata": {},
     "output_type": "execute_result"
    }
   ],
   "source": [
    "test.dot(X[0,:])"
   ]
  },
  {
   "cell_type": "code",
   "execution_count": 48,
   "metadata": {
    "collapsed": false
   },
   "outputs": [
    {
     "data": {
      "text/plain": [
       "array([6, 7, 8, 9])"
      ]
     },
     "execution_count": 48,
     "metadata": {},
     "output_type": "execute_result"
    }
   ],
   "source": [
    "for j in range(len(test)):\n",
    "    test[j] = test2[j]\n",
    "test3 = test\n",
    "test3"
   ]
  },
  {
   "cell_type": "code",
   "execution_count": 176,
   "metadata": {
    "collapsed": false
   },
   "outputs": [
    {
     "name": "stdout",
     "output_type": "stream",
     "text": [
      "<class 'numpy.matrixlib.defmatrix.matrix'>\n",
      "[[ 1.  1.  2.]\n",
      " [ 1.  3.  4.]]\n",
      "3\n"
     ]
    },
    {
     "data": {
      "text/plain": [
       "25.0"
      ]
     },
     "execution_count": 176,
     "metadata": {},
     "output_type": "execute_result"
    }
   ],
   "source": [
    "a1 = np.matrix([[1,2], [3,4]])\n",
    "a = np.c_[np.ones(2), a1]\n",
    "b = np.matrix([3, 3, 3])\n",
    "y = np.matrix([5,6])\n",
    "tes1 = np.matrix([0, 0])\n",
    "print(type(a))\n",
    "print(a[:,:])\n",
    "print(a.shape[1])\n",
    "float((((a * b.transpose()) - y.transpose()).transpose()) * a[:,0])\n",
    "#np.c_[np.ones(2), a]"
   ]
  },
  {
   "cell_type": "code",
   "execution_count": 172,
   "metadata": {
    "collapsed": false
   },
   "outputs": [
    {
     "name": "stdout",
     "output_type": "stream",
     "text": [
      "[[5 6]]\n",
      "[[5 6]]\n",
      "[[5]\n",
      " [6]]\n",
      "(1, 2)\n",
      "(2, 1)\n",
      "(1, 2)\n",
      "[[61]]\n",
      "[matrix([], shape=(0, 2), dtype=int64) matrix([[5, 6]])]\n",
      "type of z <class 'numpy.ndarray'>\n"
     ]
    }
   ],
   "source": [
    "tes1 = y\n",
    "print(y)\n",
    "print(tes1)\n",
    "print(tes1.transpose())\n",
    "print(tes1.shape)\n",
    "print(tes1.transpose().shape)\n",
    "print(y.shape)\n",
    "print(y * tes1.transpose())\n",
    "s1, s2 = y[0:0], y[0:1]\n",
    "z = np.array([y[0:0], y[0:1]])\n",
    "print(z)\n",
    "print(\"type of z\", type(z))"
   ]
  },
  {
   "cell_type": "code",
   "execution_count": 288,
   "metadata": {
    "collapsed": false
   },
   "outputs": [
    {
     "name": "stdout",
     "output_type": "stream",
     "text": [
      "[[1, 9], [1, 9]]\n"
     ]
    },
    {
     "data": {
      "text/plain": [
       "matrix([[ 1.,  1.],\n",
       "        [ 9.,  9.]])"
      ]
     },
     "execution_count": 288,
     "metadata": {},
     "output_type": "execute_result"
    }
   ],
   "source": [
    "ll = []\n",
    "mat  = list(map(int, (list(map(lambda x : x * x, a1[:, 0])))))\n",
    "mat2 = np.matrix(mat)\n",
    "ll.append(mat)\n",
    "ll.append(mat)\n",
    "matr1 = np.matrix(ll , dtype=np.float64).transpose()\n",
    "print(ll)\n",
    "matr1"
   ]
  },
  {
   "cell_type": "code",
   "execution_count": 284,
   "metadata": {
    "collapsed": true
   },
   "outputs": [],
   "source": []
  },
  {
   "cell_type": "code",
   "execution_count": 91,
   "metadata": {
    "collapsed": false
   },
   "outputs": [
    {
     "name": "stdout",
     "output_type": "stream",
     "text": [
      "Overwriting m_g_d.py\n"
     ]
    }
   ],
   "source": [
    "%%writefile m_g_d.py\n",
    "import sys\n",
    "import numpy as np\n",
    "from multivariate_gradient_descent import * \n",
    "def split_input_elements(xs):\n",
    "    result = []\n",
    "    for i in range(len(xs)):\n",
    "        result.append(xs[i].rsplit())\n",
    "    return result\n",
    "\n",
    "\n",
    "def split_input_and_to_float(xs):\n",
    "    def helper(ys):\n",
    "        l = list(map(float, ys))\n",
    "        return l\n",
    "    l1 = list(map(helper, xs))\n",
    "    return l1\n",
    "\n",
    "\n",
    "l = []\n",
    "for line in sys.stdin:\n",
    "    str(line)\n",
    "    line = line.replace(',', ' ')\n",
    "    l.append(line.rstrip())\n",
    "#print(l)\n",
    "l1 = split_input_elements(l)\n",
    "#print(l1)\n",
    "l2 = split_input_and_to_float(l1)\n",
    "#print(l2)\n",
    "# print(type(l[1]))\n",
    "matr2 = np.matrix([0] * len(l2[0]))\n",
    "#ll0 = [[1, 1], [2, 2], [3, 3]]\n",
    "#print(len(ll0))\n",
    "for elem in l2:\n",
    "       matr2 = np.vstack([matr2, elem])\n",
    "matr2 = matr2[1: ,:]\n",
    "y = matr2[:,2]\n",
    "y = y.transpose()\n",
    "matr2 = matr2[:,:2]\n",
    "#print(matr2)\n",
    "matr2 = scaling(matr2)\n",
    "#print(matr2)\n",
    "print(\"-------------\")\n",
    "out = m_g_d(matr2, y, 0.01)\n",
    "print(out)\n",
    "'''plt.plot(l_iterations, l_cost_function, color=\"blue\", linewidth=1, label=\"alfa=0.0001\")\n",
    "plt.legend(loc=\"upper right\")\n",
    "plt.show()'''\n"
   ]
  },
  {
   "cell_type": "code",
   "execution_count": 53,
   "metadata": {
    "collapsed": false
   },
   "outputs": [
    {
     "name": "stdout",
     "output_type": "stream",
     "text": [
      "Overwriting smallmaldata.txt\n"
     ]
    }
   ],
   "source": [
    "%%writefile smallmaldata.txt\n",
    "2, 77, 90\n",
    "45, 11, 11.1\n",
    "22, 3, 90909\n"
   ]
  },
  {
   "cell_type": "code",
   "execution_count": null,
   "metadata": {
    "collapsed": false
   },
   "outputs": [
    {
     "name": "stdout",
     "output_type": "stream",
     "text": [
      "-------------\n",
      "65591548106.45744\n"
     ]
    }
   ],
   "source": [
    "! time python3 m_g_d.py < ex1data2.txt\n",
    "\n"
   ]
  },
  {
   "cell_type": "code",
   "execution_count": 87,
   "metadata": {
    "collapsed": false
   },
   "outputs": [
    {
     "name": "stdout",
     "output_type": "stream",
     "text": [
      "2104,3,399900\r\n",
      "1600,3,329900\r\n",
      "2400,3,369000\r\n",
      "1416,2,232000\r\n",
      "3000,4,539900\r\n",
      "1985,4,299900\r\n",
      "1534,3,314900\r\n",
      "1427,3,198999\r\n",
      "1380,3,212000\r\n",
      "1494,3,242500\r\n",
      "1940,4,239999\r\n",
      "2000,3,347000\r\n",
      "1890,3,329999\r\n",
      "4478,5,699900\r\n",
      "1268,3,259900\r\n",
      "2300,4,449900\r\n",
      "1320,2,299900\r\n",
      "1236,3,199900\r\n",
      "2609,4,499998\r\n",
      "3031,4,599000\r\n",
      "1767,3,252900\r\n",
      "1888,2,255000\r\n",
      "1604,3,242900\r\n",
      "1962,4,259900\r\n",
      "3890,3,573900\r\n",
      "1100,3,249900\r\n",
      "1458,3,464500\r\n",
      "2526,3,469000\r\n",
      "2200,3,475000\r\n",
      "2637,3,299900\r\n",
      "1839,2,349900\r\n",
      "1000,1,169900\r\n",
      "2040,4,314900\r\n",
      "3137,3,579900\r\n",
      "1811,4,285900\r\n",
      "1437,3,249900\r\n",
      "1239,3,229900\r\n",
      "2132,4,345000\r\n",
      "4215,4,549000\r\n",
      "2162,4,287000\r\n",
      "1664,2,368500\r\n",
      "2238,3,329900\r\n",
      "2567,4,314000\r\n",
      "1200,3,299000\r\n",
      "852,2,179900\r\n",
      "1852,4,299900\r\n",
      "1203,3,239500\r\n"
     ]
    }
   ],
   "source": [
    "%cp excersizes/machine-learning-ex1/ex1/ex1data2.txt /home/lion/projects/python/ml_coursera/\n",
    "! cat ex1data2.txt"
   ]
  },
  {
   "cell_type": "code",
   "execution_count": 91,
   "metadata": {
    "collapsed": false
   },
   "outputs": [
    {
     "data": {
      "text/plain": [
       "matrix([[1, 2],\n",
       "        [3, 4],\n",
       "        [5, 6]])"
      ]
     },
     "execution_count": 91,
     "metadata": {},
     "output_type": "execute_result"
    }
   ],
   "source": [
    "L = np.matrix([[1, 2, 4], [3 ,4, 5], [5, 6, 7]])\n",
    "L[:,:2]"
   ]
  },
  {
   "cell_type": "code",
   "execution_count": 66,
   "metadata": {
    "collapsed": false
   },
   "outputs": [
    {
     "name": "stdout",
     "output_type": "stream",
     "text": [
      "[[1 1]\n",
      " [2 2]\n",
      " [3 3]]\n",
      "[[-0.5 -0.5]\n",
      " [ 0.   0. ]\n",
      " [ 0.5  0.5]]\n"
     ]
    }
   ],
   "source": [
    "matr2 = np.matrix([0, 0])\n",
    "ll0 = [[1, 1], [2, 2], [3, 3]]\n",
    "#print(len(ll0))\n",
    "for elem in ll0:\n",
    "       matr2 = np.vstack([matr2, elem])\n",
    "matr2 = matr2[1: , :]\n",
    "print(matr2)\n",
    "matr2 = scaling(matr2)\n",
    "print(matr2)"
   ]
  },
  {
   "cell_type": "code",
   "execution_count": 4,
   "metadata": {
    "collapsed": true
   },
   "outputs": [],
   "source": [
    "def split_input_and_to_float(xs):\n",
    "    def helper(ys):\n",
    "        l = list(map(int, ys))\n",
    "        l = list(map(float, ys))\n",
    "        return l\n",
    "    l1 = list(map(helper, xs))\n",
    "    return l1\n",
    "\n",
    "def split(x):\n",
    "    return x.split(',')"
   ]
  },
  {
   "cell_type": "code",
   "execution_count": 17,
   "metadata": {
    "collapsed": false
   },
   "outputs": [],
   "source": [
    "f = open('ex1data2.txt', 'r')\n",
    "f1 = list(map(str.rstrip, f.readlines()))\n",
    "\n",
    "f2 = f1[0].split(',')\n",
    "f3 = list(map(split, f1))\n",
    "f4 = split_input_and_to_float(f3)\n",
    "\n"
   ]
  }
 ],
 "metadata": {
  "anaconda-cloud": {},
  "kernelspec": {
   "display_name": "Python [default]",
   "language": "python",
   "name": "python3"
  },
  "language_info": {
   "codemirror_mode": {
    "name": "ipython",
    "version": 3
   },
   "file_extension": ".py",
   "mimetype": "text/x-python",
   "name": "python",
   "nbconvert_exporter": "python",
   "pygments_lexer": "ipython3",
   "version": "3.5.2"
  }
 },
 "nbformat": 4,
 "nbformat_minor": 1
}

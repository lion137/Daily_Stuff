{
 "cells": [
  {
   "cell_type": "code",
   "execution_count": 1,
   "metadata": {
    "collapsed": true
   },
   "outputs": [],
   "source": [
    "import numpy as np"
   ]
  },
  {
   "cell_type": "code",
   "execution_count": 112,
   "metadata": {
    "collapsed": false
   },
   "outputs": [],
   "source": [
    "X = np.array([1, 2, 3, 4])\n",
    "Y = np.array([1, 20, 30, 40])\n",
    "a = 0.001\n",
    "\n",
    "\n"
   ]
  },
  {
   "cell_type": "code",
   "execution_count": 113,
   "metadata": {
    "collapsed": false
   },
   "outputs": [
    {
     "data": {
      "text/plain": [
       "(-8.999996239158385, 12.699998720855229)"
      ]
     },
     "execution_count": 113,
     "metadata": {},
     "output_type": "execute_result"
    }
   ],
   "source": [
    "# Grad descent looking for h(x) to minimize cost func J (in notes)\n",
    "def suma(x, y, f0, f1):\n",
    "        n = len(x)\n",
    "        cnt = 0\n",
    "        s = 0\n",
    "        while cnt < n:\n",
    "            s = s + f0 + f1 * x[cnt] - y[cnt]\n",
    "            cnt += 1\n",
    "        return s\n",
    "    \n",
    "def suma1(x, y, f0, f1):\n",
    "        n = len(x)\n",
    "        cnt = 0\n",
    "        s = 0\n",
    "        while cnt < n:\n",
    "            s = s + (f0 + f1 * x[cnt] - y[cnt]) * x[cnt]\n",
    "            cnt += 1\n",
    "        return s\n",
    "\n",
    "#def g_d(x, y, fi, alfa, iterations):\n",
    "m = len(X)\n",
    "cnt = 0\n",
    "ma = a * (1 / m)\n",
    "af0 = 0\n",
    "af1 = 0\n",
    "while cnt < 100000:\n",
    "    #print(af0, af1, ma, suma(X, Y, af0, af1), suma1(X, Y, af0, af1) )\n",
    "    \n",
    "    tmp0 = af0 - (ma *  suma(X, Y, af0, af1))\n",
    "    tmp1 = af1 - (ma * suma1(X, Y, af0, af1))\n",
    "    af0 = tmp0\n",
    "    af1 = tmp1\n",
    "    #print(FI[1])\n",
    "    cnt += 1\n",
    "        #print(FI)\n",
    "af0, af1"
   ]
  },
  {
   "cell_type": "code",
   "execution_count": null,
   "metadata": {
    "collapsed": false
   },
   "outputs": [],
   "source": []
  },
  {
   "cell_type": "code",
   "execution_count": 29,
   "metadata": {
    "collapsed": false
   },
   "outputs": [
    {
     "data": {
      "text/plain": [
       "0.25"
      ]
     },
     "execution_count": 29,
     "metadata": {},
     "output_type": "execute_result"
    }
   ],
   "source": [
    "1 / 4"
   ]
  }
 ],
 "metadata": {
  "anaconda-cloud": {},
  "kernelspec": {
   "display_name": "Python [default]",
   "language": "python",
   "name": "python3"
  },
  "language_info": {
   "codemirror_mode": {
    "name": "ipython",
    "version": 3
   },
   "file_extension": ".py",
   "mimetype": "text/x-python",
   "name": "python",
   "nbconvert_exporter": "python",
   "pygments_lexer": "ipython3",
   "version": "3.5.2"
  }
 },
 "nbformat": 4,
 "nbformat_minor": 1
}

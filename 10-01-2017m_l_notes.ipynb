{
 "cells": [
  {
   "cell_type": "code",
   "execution_count": 1,
   "metadata": {
    "collapsed": true
   },
   "outputs": [],
   "source": [
    "import numpy as np"
   ]
  },
  {
   "cell_type": "code",
   "execution_count": 19,
   "metadata": {
    "collapsed": false
   },
   "outputs": [],
   "source": [
    "X = [1, 2]\n",
    "Y = np.array([1, 2])\n",
    "a = 0.000001"
   ]
  },
  {
   "cell_type": "code",
   "execution_count": 20,
   "metadata": {
    "collapsed": false
   },
   "outputs": [],
   "source": [
    "# Grad descent looking for h(x) to minimize cost func J (in notes)\n",
    "def suma(x, y, f0, f1):\n",
    "        n = len(x)\n",
    "        cnt = 0\n",
    "        s = 0\n",
    "        while cnt < n:\n",
    "            s = s + f0 + f1 * x[cnt] - y[cnt]\n",
    "            cnt += 1\n",
    "        return s\n",
    "    \n",
    "def suma1(x, y, f0, f1):\n",
    "        n = len(x)\n",
    "        cnt = 0\n",
    "        s = 0\n",
    "        while cnt < n:\n",
    "            s = s + (f0 + f1 * x[cnt] - y[cnt]) * x[cnt]\n",
    "            cnt += 1\n",
    "        return s\n",
    "def J(x, y, f0, f1):\n",
    "    n = len(x)\n",
    "    cnt = 0\n",
    "    s = 0\n",
    "    while cnt < n:\n",
    "        s = s + (f0 + f1 * x[cnt] - y[cnt])**2\n",
    "        cnt += 1\n",
    "    return (1 / (2 * n)) * s\n",
    "    \n",
    "\n",
    "def g_d(x, y, alfa):\n",
    "    af = np.array([0, 0])\n",
    "    tmp = np.array([0,0])\n",
    "    m = len(x)\n",
    "    cnt = 0\n",
    "    ma = alfa * (1 / m)\n",
    "    delta = J(x, y, af[0], af[1])\n",
    "    while delta > 0.000001:\n",
    "        #print(af0, af1, ma, suma(X, Y, af0, af1), suma1(X, Y, af0, af1) )\n",
    "        beg = J(x, y, af[0], af[1])\n",
    "        tmp0 = af[0] - (ma *  suma(x, y, af[0], af[1]))\n",
    "        tmp1 = af[1] - (ma * suma1(x, y, af[0], af[1]))\n",
    "        af = np.array([tmp0, tmp1])\n",
    "        cnt += 1\n",
    "        end = J(x, y, af[0], af[1])\n",
    "        delta = abs(end - beg)\n",
    "        if cnt < 100000 and cnt > 99990:\n",
    "            print(delta)\n",
    "        #print(af, beg, end, cnt, af[0], af[1], tmp0, tmp1)\n",
    "        #print(FI)\n",
    "    return (af, cnt)"
   ]
  },
  {
   "cell_type": "code",
   "execution_count": 21,
   "metadata": {
    "collapsed": false
   },
   "outputs": [
    {
     "name": "stdout",
     "output_type": "stream",
     "text": [
      "4.28399927643e-06\n",
      "4.28396992314e-06\n",
      "4.28394057028e-06\n",
      "4.28391121732e-06\n",
      "4.2838818648e-06\n",
      "4.2838525125e-06\n",
      "4.2838231602e-06\n",
      "4.28379380812e-06\n",
      "4.2837644566e-06\n",
      "CPU times: user 5.31 s, sys: 4 ms, total: 5.32 s\n",
      "Wall time: 5.32 s\n"
     ]
    },
    {
     "data": {
      "text/plain": [
       "(array([ 0.28383896,  0.4817935 ]), 312412)"
      ]
     },
     "execution_count": 21,
     "metadata": {},
     "output_type": "execute_result"
    }
   ],
   "source": [
    "%time g_d(X, Y, a)\n"
   ]
  },
  {
   "cell_type": "code",
   "execution_count": null,
   "metadata": {
    "collapsed": false
   },
   "outputs": [],
   "source": []
  },
  {
   "cell_type": "code",
   "execution_count": 197,
   "metadata": {
    "collapsed": false
   },
   "outputs": [
    {
     "data": {
      "text/plain": [
       "array([ 1.,  2.,  3.])"
      ]
     },
     "execution_count": 197,
     "metadata": {},
     "output_type": "execute_result"
    }
   ],
   "source": [
    "B[:,1]"
   ]
  },
  {
   "cell_type": "code",
   "execution_count": 117,
   "metadata": {
    "collapsed": false
   },
   "outputs": [
    {
     "name": "stdout",
     "output_type": "stream",
     "text": [
      "[ 1.  1.  1.]\n",
      "[ 1.  2.  3.]\n",
      "[ 2.  4.  5.]\n",
      "[ 3.  4.  5.]\n"
     ]
    }
   ],
   "source": [
    "i = 0\n",
    "while i < B.shape[1]:\n",
    "    print(B[:, i])\n",
    "    i += 1"
   ]
  },
  {
   "cell_type": "markdown",
   "metadata": {},
   "source": [
    "# Multivariable Gradient Descent (Linear)"
   ]
  },
  {
   "cell_type": "code",
   "execution_count": 2,
   "metadata": {
    "collapsed": false
   },
   "outputs": [],
   "source": [
    "import numpy as np\n",
    "import matplotlib.pyplot as plt\n",
    "\n",
    "def scaling(X):\n",
    "    \"\"\"mean normalzation\"\"\"\n",
    "    l = []\n",
    "    for k in range(X.shape[1]):\n",
    "        x = X[:,k]\n",
    "        def f(e):\n",
    "            tmp0 = sum(x) / len(x)\n",
    "            tmp1 = max(x) - min(x)\n",
    "            return (e - tmp0) / tmp1\n",
    "        m =  list(map(float, (list(map(f, x[:, 0])))))\n",
    "        l.append(m)\n",
    "    return np.matrix(l).transpose()\n",
    "\n",
    "\n",
    "l_cost_function = [] # lists to record data for debugging\n",
    "l_iterations = [] \n",
    "\n",
    "def m_g_d(A, y, alfa):\n",
    "    \"\"\"computes gradient descent\"\"\"\n",
    "    l = len(A)\n",
    "    X = np.c_[np.ones(l), A]\n",
    "    tmp = np.matrix([0] * X.shape[1], dtype=np.float64)\n",
    "    theta = np.matrix([0] * X.shape[1], dtype=np.float64)\n",
    "    cnt = 0\n",
    "    m = len(X)\n",
    "    ma = alfa * (1 / m)\n",
    "    delta = J_m(X, y, theta)\n",
    "    while delta > 1:\n",
    "        beg = J_m(X, y, theta)\n",
    "        for j in range(X.shape[1]):\n",
    "            tmp[:,j] = theta[:,j] - ma * ((((X * theta.transpose()) - y.transpose()).transpose()) * X[:,j])\n",
    "        theta = tmp\n",
    "        end = J_m(X, y, theta)\n",
    "        l_cost_function.append(end)\n",
    "        l_iterations.append(cnt)\n",
    "        delta = abs(end - beg)\n",
    "        cnt += 1\n",
    "        if cnt > 300000:\n",
    "            return (theta, end, delta)\n",
    "    return (theta, cnt, end)\n",
    "\n",
    "\n",
    "def J_m(A, y, theta):\n",
    "    \"\"\"computes cost function \"\"\"\n",
    "    n = len(A)\n",
    "    return (1 / (2 * n)) * float(sum([x * x for x in A * theta.transpose() - y.transpose()]))\n",
    "def J_multi(T2, z, theta): # also works:)\n",
    "    \"\"\"computes cost function \"\"\"\n",
    "    n = len(T2)\n",
    "    cnt = 0\n",
    "    s = 0\n",
    "    while cnt < n:\n",
    "        s = s + ( float(T2[cnt,:] * theta.transpose()) - z[0,cnt]) ** 2\n",
    "        cnt += 1\n",
    "    return (1 / (2 * n)) * s"
   ]
  },
  {
   "cell_type": "code",
   "execution_count": 7,
   "metadata": {
    "collapsed": false
   },
   "outputs": [
    {
     "name": "stdout",
     "output_type": "stream",
     "text": [
      "[[ 287000.  368500.  329900.  314000.  299000.  179900.  299900.  239500.]]\n",
      "-------------\n",
      "CPU times: user 3min 23s, sys: 272 ms, total: 3min 24s\n",
      "Wall time: 3min 24s\n",
      "(matrix([[ 274854.11360402,   27640.95582442,    6165.51869158]]), 1284114830.5932279, 2782.4446444511414)\n"
     ]
    },
    {
     "data": {
      "image/png": "[encoded data removed]",
      "text/plain": [
       "<matplotlib.figure.Figure at 0x7f3bbc0459b0>"
      ]
     },
     "metadata": {},
     "output_type": "display_data"
    }
   ],
   "source": [
    "f = open('ex1data2.txt', 'r')\n",
    "f1 = list(map(str.rstrip, f.readlines()))\n",
    "\n",
    "f2 = f1[0].split(',')\n",
    "f3 = list(map(split, f1))\n",
    "f4 = split_input_and_to_float(f3)\n",
    "matr2 = np.matrix([0] * len(f4[0]))\n",
    "for elem in f4:\n",
    "       matr2 = np.vstack([matr2, elem])\n",
    "matr2 = matr2[40: ,:]\n",
    "y = matr2[:,2]\n",
    "y = y.transpose()\n",
    "matr2 = matr2[:,:2]\n",
    "matr2 = scaling(matr2)\n",
    "print(y)\n",
    "print(\"-------------\")\n",
    "%time out = m_g_d(matr2, y, 0.000009901)\n",
    "print(out)\n",
    "plt.plot(l_iterations, l_cost_function, color=\"blue\", linewidth=1, label=\"alfa=0.0001\")\n",
    "plt.legend(loc=\"upper right\")\n",
    "plt.show()\n",
    "#(matrix([[  28.64564617,  165.29870221,   49.93247029]]), 2396765593.023439, 3.6411232948303223)"
   ]
  },
  {
   "cell_type": "code",
   "execution_count": 21,
   "metadata": {
    "collapsed": false
   },
   "outputs": [
    {
     "name": "stdout",
     "output_type": "stream",
     "text": [
      "2104,3,399900\r\n",
      "1600,3,329900\r\n",
      "2400,3,369000\r\n",
      "1416,2,232000\r\n",
      "3000,4,539900\r\n",
      "1985,4,299900\r\n",
      "1534,3,314900\r\n",
      "1427,3,198999\r\n",
      "1380,3,212000\r\n",
      "1494,3,242500\r\n"
     ]
    },
    {
     "name": "stderr",
     "output_type": "stream",
     "text": [
      "/home/lion/anaconda3/lib/python3.5/site-packages/ipykernel/__main__.py:12: RuntimeWarning: invalid value encountered in true_divide\n"
     ]
    },
    {
     "ename": "UnboundLocalError",
     "evalue": "local variable 'end' referenced before assignment",
     "output_type": "error",
     "traceback": [
      "\u001b[0;31m---------------------------------------------------------------------------\u001b[0m",
      "\u001b[0;31mUnboundLocalError\u001b[0m                         Traceback (most recent call last)",
      "\u001b[0;32m<ipython-input-21-93bd1b932732>\u001b[0m in \u001b[0;36m<module>\u001b[0;34m()\u001b[0m\n\u001b[1;32m      4\u001b[0m \u001b[0mmatfr2\u001b[0m\u001b[0;34m\u001b[0m\u001b[0m\n\u001b[1;32m      5\u001b[0m \u001b[0my\u001b[0m \u001b[0;34m=\u001b[0m \u001b[0mnp\u001b[0m\u001b[0;34m.\u001b[0m\u001b[0mmatrix\u001b[0m\u001b[0;34m(\u001b[0m\u001b[0;34m[\u001b[0m\u001b[0;36m300000\u001b[0m\u001b[0;34m,\u001b[0m \u001b[0;36m300000\u001b[0m\u001b[0;34m]\u001b[0m\u001b[0;34m)\u001b[0m\u001b[0;34m\u001b[0m\u001b[0m\n\u001b[0;32m----> 6\u001b[0;31m \u001b[0mget_ipython\u001b[0m\u001b[0;34m(\u001b[0m\u001b[0;34m)\u001b[0m\u001b[0;34m.\u001b[0m\u001b[0mmagic\u001b[0m\u001b[0;34m(\u001b[0m\u001b[0;34m'time out = m_g_d(matfr2, y, 0.000000001)'\u001b[0m\u001b[0;34m)\u001b[0m\u001b[0;34m\u001b[0m\u001b[0m\n\u001b[0m\u001b[1;32m      7\u001b[0m \u001b[0mprint\u001b[0m\u001b[0;34m(\u001b[0m\u001b[0mout\u001b[0m\u001b[0;34m)\u001b[0m\u001b[0;34m\u001b[0m\u001b[0m\n\u001b[1;32m      8\u001b[0m \u001b[0mplt\u001b[0m\u001b[0;34m.\u001b[0m\u001b[0mplot\u001b[0m\u001b[0;34m(\u001b[0m\u001b[0ml_iterations\u001b[0m\u001b[0;34m,\u001b[0m \u001b[0ml_cost_function\u001b[0m\u001b[0;34m,\u001b[0m \u001b[0mcolor\u001b[0m\u001b[0;34m=\u001b[0m\u001b[0;34m\"blue\"\u001b[0m\u001b[0;34m,\u001b[0m \u001b[0mlinewidth\u001b[0m\u001b[0;34m=\u001b[0m\u001b[0;36m1\u001b[0m\u001b[0;34m,\u001b[0m \u001b[0mlabel\u001b[0m\u001b[0;34m=\u001b[0m\u001b[0;34m\"alfa=0.0001\"\u001b[0m\u001b[0;34m)\u001b[0m\u001b[0;34m\u001b[0m\u001b[0m\n",
      "\u001b[0;32m/home/lion/anaconda3/lib/python3.5/site-packages/IPython/core/interactiveshell.py\u001b[0m in \u001b[0;36mmagic\u001b[0;34m(self, arg_s)\u001b[0m\n\u001b[1;32m   2156\u001b[0m         \u001b[0mmagic_name\u001b[0m\u001b[0;34m,\u001b[0m \u001b[0m_\u001b[0m\u001b[0;34m,\u001b[0m \u001b[0mmagic_arg_s\u001b[0m \u001b[0;34m=\u001b[0m \u001b[0marg_s\u001b[0m\u001b[0;34m.\u001b[0m\u001b[0mpartition\u001b[0m\u001b[0;34m(\u001b[0m\u001b[0;34m' '\u001b[0m\u001b[0;34m)\u001b[0m\u001b[0;34m\u001b[0m\u001b[0m\n\u001b[1;32m   2157\u001b[0m         \u001b[0mmagic_name\u001b[0m \u001b[0;34m=\u001b[0m \u001b[0mmagic_name\u001b[0m\u001b[0;34m.\u001b[0m\u001b[0mlstrip\u001b[0m\u001b[0;34m(\u001b[0m\u001b[0mprefilter\u001b[0m\u001b[0;34m.\u001b[0m\u001b[0mESC_MAGIC\u001b[0m\u001b[0;34m)\u001b[0m\u001b[0;34m\u001b[0m\u001b[0m\n\u001b[0;32m-> 2158\u001b[0;31m         \u001b[0;32mreturn\u001b[0m \u001b[0mself\u001b[0m\u001b[0;34m.\u001b[0m\u001b[0mrun_line_magic\u001b[0m\u001b[0;34m(\u001b[0m\u001b[0mmagic_name\u001b[0m\u001b[0;34m,\u001b[0m \u001b[0mmagic_arg_s\u001b[0m\u001b[0;34m)\u001b[0m\u001b[0;34m\u001b[0m\u001b[0m\n\u001b[0m\u001b[1;32m   2159\u001b[0m \u001b[0;34m\u001b[0m\u001b[0m\n\u001b[1;32m   2160\u001b[0m     \u001b[0;31m#-------------------------------------------------------------------------\u001b[0m\u001b[0;34m\u001b[0m\u001b[0;34m\u001b[0m\u001b[0m\n",
      "\u001b[0;32m/home/lion/anaconda3/lib/python3.5/site-packages/IPython/core/interactiveshell.py\u001b[0m in \u001b[0;36mrun_line_magic\u001b[0;34m(self, magic_name, line)\u001b[0m\n\u001b[1;32m   2077\u001b[0m                 \u001b[0mkwargs\u001b[0m\u001b[0;34m[\u001b[0m\u001b[0;34m'local_ns'\u001b[0m\u001b[0;34m]\u001b[0m \u001b[0;34m=\u001b[0m \u001b[0msys\u001b[0m\u001b[0;34m.\u001b[0m\u001b[0m_getframe\u001b[0m\u001b[0;34m(\u001b[0m\u001b[0mstack_depth\u001b[0m\u001b[0;34m)\u001b[0m\u001b[0;34m.\u001b[0m\u001b[0mf_locals\u001b[0m\u001b[0;34m\u001b[0m\u001b[0m\n\u001b[1;32m   2078\u001b[0m             \u001b[0;32mwith\u001b[0m \u001b[0mself\u001b[0m\u001b[0;34m.\u001b[0m\u001b[0mbuiltin_trap\u001b[0m\u001b[0;34m:\u001b[0m\u001b[0;34m\u001b[0m\u001b[0m\n\u001b[0;32m-> 2079\u001b[0;31m                 \u001b[0mresult\u001b[0m \u001b[0;34m=\u001b[0m \u001b[0mfn\u001b[0m\u001b[0;34m(\u001b[0m\u001b[0;34m*\u001b[0m\u001b[0margs\u001b[0m\u001b[0;34m,\u001b[0m\u001b[0;34m**\u001b[0m\u001b[0mkwargs\u001b[0m\u001b[0;34m)\u001b[0m\u001b[0;34m\u001b[0m\u001b[0m\n\u001b[0m\u001b[1;32m   2080\u001b[0m             \u001b[0;32mreturn\u001b[0m \u001b[0mresult\u001b[0m\u001b[0;34m\u001b[0m\u001b[0m\n\u001b[1;32m   2081\u001b[0m \u001b[0;34m\u001b[0m\u001b[0m\n",
      "\u001b[0;32m<decorator-gen-59>\u001b[0m in \u001b[0;36mtime\u001b[0;34m(self, line, cell, local_ns)\u001b[0m\n",
      "\u001b[0;32m/home/lion/anaconda3/lib/python3.5/site-packages/IPython/core/magic.py\u001b[0m in \u001b[0;36m<lambda>\u001b[0;34m(f, *a, **k)\u001b[0m\n\u001b[1;32m    186\u001b[0m     \u001b[0;31m# but it's overkill for just that one bit of state.\u001b[0m\u001b[0;34m\u001b[0m\u001b[0;34m\u001b[0m\u001b[0m\n\u001b[1;32m    187\u001b[0m     \u001b[0;32mdef\u001b[0m \u001b[0mmagic_deco\u001b[0m\u001b[0;34m(\u001b[0m\u001b[0marg\u001b[0m\u001b[0;34m)\u001b[0m\u001b[0;34m:\u001b[0m\u001b[0;34m\u001b[0m\u001b[0m\n\u001b[0;32m--> 188\u001b[0;31m         \u001b[0mcall\u001b[0m \u001b[0;34m=\u001b[0m \u001b[0;32mlambda\u001b[0m \u001b[0mf\u001b[0m\u001b[0;34m,\u001b[0m \u001b[0;34m*\u001b[0m\u001b[0ma\u001b[0m\u001b[0;34m,\u001b[0m \u001b[0;34m**\u001b[0m\u001b[0mk\u001b[0m\u001b[0;34m:\u001b[0m \u001b[0mf\u001b[0m\u001b[0;34m(\u001b[0m\u001b[0;34m*\u001b[0m\u001b[0ma\u001b[0m\u001b[0;34m,\u001b[0m \u001b[0;34m**\u001b[0m\u001b[0mk\u001b[0m\u001b[0;34m)\u001b[0m\u001b[0;34m\u001b[0m\u001b[0m\n\u001b[0m\u001b[1;32m    189\u001b[0m \u001b[0;34m\u001b[0m\u001b[0m\n\u001b[1;32m    190\u001b[0m         \u001b[0;32mif\u001b[0m \u001b[0mcallable\u001b[0m\u001b[0;34m(\u001b[0m\u001b[0marg\u001b[0m\u001b[0;34m)\u001b[0m\u001b[0;34m:\u001b[0m\u001b[0;34m\u001b[0m\u001b[0m\n",
      "\u001b[0;32m/home/lion/anaconda3/lib/python3.5/site-packages/IPython/core/magics/execution.py\u001b[0m in \u001b[0;36mtime\u001b[0;34m(self, line, cell, local_ns)\u001b[0m\n\u001b[1;32m   1178\u001b[0m         \u001b[0;32melse\u001b[0m\u001b[0;34m:\u001b[0m\u001b[0;34m\u001b[0m\u001b[0m\n\u001b[1;32m   1179\u001b[0m             \u001b[0mst\u001b[0m \u001b[0;34m=\u001b[0m \u001b[0mclock2\u001b[0m\u001b[0;34m(\u001b[0m\u001b[0;34m)\u001b[0m\u001b[0;34m\u001b[0m\u001b[0m\n\u001b[0;32m-> 1180\u001b[0;31m             \u001b[0mexec\u001b[0m\u001b[0;34m(\u001b[0m\u001b[0mcode\u001b[0m\u001b[0;34m,\u001b[0m \u001b[0mglob\u001b[0m\u001b[0;34m,\u001b[0m \u001b[0mlocal_ns\u001b[0m\u001b[0;34m)\u001b[0m\u001b[0;34m\u001b[0m\u001b[0m\n\u001b[0m\u001b[1;32m   1181\u001b[0m             \u001b[0mend\u001b[0m \u001b[0;34m=\u001b[0m \u001b[0mclock2\u001b[0m\u001b[0;34m(\u001b[0m\u001b[0;34m)\u001b[0m\u001b[0;34m\u001b[0m\u001b[0m\n\u001b[1;32m   1182\u001b[0m             \u001b[0mout\u001b[0m \u001b[0;34m=\u001b[0m \u001b[0;32mNone\u001b[0m\u001b[0;34m\u001b[0m\u001b[0m\n",
      "\u001b[0;32m<timed exec>\u001b[0m in \u001b[0;36m<module>\u001b[0;34m()\u001b[0m\n",
      "\u001b[0;32m<ipython-input-2-4fc5c26940b1>\u001b[0m in \u001b[0;36mm_g_d\u001b[0;34m(A, y, alfa)\u001b[0m\n\u001b[1;32m     41\u001b[0m         \u001b[0;32mif\u001b[0m \u001b[0mcnt\u001b[0m \u001b[0;34m>\u001b[0m \u001b[0;36m300000\u001b[0m\u001b[0;34m:\u001b[0m\u001b[0;34m\u001b[0m\u001b[0m\n\u001b[1;32m     42\u001b[0m             \u001b[0;32mreturn\u001b[0m \u001b[0;34m(\u001b[0m\u001b[0mtheta\u001b[0m\u001b[0;34m,\u001b[0m \u001b[0mend\u001b[0m\u001b[0;34m,\u001b[0m \u001b[0mdelta\u001b[0m\u001b[0;34m)\u001b[0m\u001b[0;34m\u001b[0m\u001b[0m\n\u001b[0;32m---> 43\u001b[0;31m     \u001b[0;32mreturn\u001b[0m \u001b[0;34m(\u001b[0m\u001b[0mtheta\u001b[0m\u001b[0;34m,\u001b[0m \u001b[0mcnt\u001b[0m\u001b[0;34m,\u001b[0m \u001b[0mend\u001b[0m\u001b[0;34m)\u001b[0m\u001b[0;34m\u001b[0m\u001b[0m\n\u001b[0m\u001b[1;32m     44\u001b[0m \u001b[0;34m\u001b[0m\u001b[0m\n\u001b[1;32m     45\u001b[0m \u001b[0;34m\u001b[0m\u001b[0m\n",
      "\u001b[0;31mUnboundLocalError\u001b[0m: local variable 'end' referenced before assignment"
     ]
    }
   ],
   "source": [
    "! head ex1data2.txt\n",
    "matfr2 = np.matrix([[2104, 3], [1600, 3]])\n",
    "matfr2 = scaling(matfr2)\n",
    "matfr2\n",
    "y = np.matrix([300000, 300000])\n",
    "%time out = m_g_d(matfr2, y, 0.000000001)\n",
    "print(out)\n",
    "plt.plot(l_iterations, l_cost_function, color=\"blue\", linewidth=1, label=\"alfa=0.0001\")\n",
    "plt.legend(loc=\"upper right\")\n",
    "plt.show()"
   ]
  },
  {
   "cell_type": "code",
   "execution_count": 44,
   "metadata": {
    "collapsed": false
   },
   "outputs": [
    {
     "name": "stdout",
     "output_type": "stream",
     "text": [
      "[[11]]\n",
      "29.0\n"
     ]
    },
    {
     "data": {
      "text/plain": [
       "125924.375"
      ]
     },
     "execution_count": 44,
     "metadata": {},
     "output_type": "execute_result"
    }
   ],
   "source": [
    "\n",
    "T2 = np.matrix([[1, 2, 2], [3, 4, 6], [3, 4, 5], [2, 2, 333]])\n",
    "\n",
    "z = np.matrix([2, 2, 2, 2])\n",
    "th = np.matrix([1, 2, 3])\n",
    "print(T2[0,:] * th.transpose())\n",
    "print(float(T2[1,:] * th.transpose()))\n",
    "J_multi(T2, z, th)\n",
    "#z[0,1]"
   ]
  },
  {
   "cell_type": "code",
   "execution_count": 45,
   "metadata": {
    "collapsed": false
   },
   "outputs": [
    {
     "name": "stdout",
     "output_type": "stream",
     "text": [
      "(4, 3)\n",
      "CPU times: user 9.68 s, sys: 4 ms, total: 9.68 s\n",
      "Wall time: 9.68 s\n",
      "(matrix([[ 1.94098611,  0.16812802,  0.02442464,  0.11222336]]), 19852, 0.11889109844395598)\n"
     ]
    },
    {
     "data": {
      "image/png": "[encoded data removed]",
      "text/plain": [
       "<matplotlib.figure.Figure at 0x7f5ee8f69ef0>"
      ]
     },
     "metadata": {},
     "output_type": "display_data"
    }
   ],
   "source": [
    "y = np.matrix([2, 2, 2, 3], dtype=np.float64)\n",
    "T1 = np.matrix([[0.5, 0.5, 0.3], [0.5, 0.5, 1.1], [1, 1.2, 2.2], [1,  0.9, 2.1]], dtype=np.float64)\n",
    "T1 = scaling(T1)\n",
    "print(T1.shape)\n",
    "#X2 = np.c_[np.ones(2), T1]\n",
    "#tmp22= np.matrix([0,0,0], dtype=np.float64)\n",
    "#print(X2)\n",
    "#print(len(T1)\n",
    "#print(\"shape X2 \", X2.shape)\n",
    "#print(np.zeros(X2.shape[1]))\n",
    "#M = T1 * fi2.transpose() - y.transpose()\n",
    "#print(tmp22)\n",
    "#(1 / (2 * len(T1))) * float(sum([x * x for x in M]))\n",
    "#print(tmp[:,2])\n",
    "#J_m(X2, y, fi2)\n",
    "%time out = m_g_d(T1, y, 0.0001)\n",
    "print(out)\n",
    "plt.plot(l_iterations, l_cost_function, color=\"blue\", linewidth=1, label=\"alfa=0.0001\")\n",
    "plt.legend(loc=\"upper right\")\n",
    "plt.show()\n",
    "#(matrix([[ 0.61223704,  0.30611546,  0.30611469]]), 167022)\n",
    "# 1.2789539 ,  0.63941301,  0.63939703]]"
   ]
  },
  {
   "cell_type": "code",
   "execution_count": 270,
   "metadata": {
    "collapsed": false
   },
   "outputs": [
    {
     "data": {
      "text/plain": [
       "matrix([[ 1.,  1.],\n",
       "        [ 9.,  9.]])"
      ]
     },
     "execution_count": 270,
     "metadata": {},
     "output_type": "execute_result"
    }
   ],
   "source": [
    "a1 = np.matrix([[1,2], [3,4]])\n",
    "a = np.c_[np.ones(2), a1]\n",
    "b = np.matrix([3, 3, 3])\n",
    "y = np.matrix([5,6])\n",
    "tes1 = np.matrix([0, 0])\n",
    "#print(type(a))\n",
    "#print(a[:,:])\n",
    "#print(a.shape[1])\n",
    "#float((((a * b.transpose()) - y.transpose()).transpose()) * a[:,0])\n",
    "#np.c_[np.ones(2), a]\n",
    "#np.matrix(list(map(lambda x : x * x, a1[:, 0])))\n",
    "ll = []\n",
    "mat  = list(map(int, (list(map(lambda x : x * x, a1[:, 0])))))\n",
    "mat2 = np.matrix(mat)\n",
    "ll.append(mat)\n",
    "ll.append(mat)\n",
    "matr1 = np.matrix(ll, dtype=np.float64).transpose()\n",
    "matr1"
   ]
  },
  {
   "cell_type": "code",
   "execution_count": 3,
   "metadata": {
    "collapsed": false
   },
   "outputs": [
    {
     "ename": "NameError",
     "evalue": "name 'matr1' is not defined",
     "output_type": "error",
     "traceback": [
      "\u001b[0;31m---------------------------------------------------------------------------\u001b[0m",
      "\u001b[0;31mNameError\u001b[0m                                 Traceback (most recent call last)",
      "\u001b[0;32m<ipython-input-3-b0b5ac33e064>\u001b[0m in \u001b[0;36m<module>\u001b[0;34m()\u001b[0m\n\u001b[1;32m     10\u001b[0m         \u001b[0ml\u001b[0m\u001b[0;34m.\u001b[0m\u001b[0mappend\u001b[0m\u001b[0;34m(\u001b[0m\u001b[0mm\u001b[0m\u001b[0;34m)\u001b[0m\u001b[0;34m\u001b[0m\u001b[0m\n\u001b[1;32m     11\u001b[0m     \u001b[0;32mreturn\u001b[0m \u001b[0mnp\u001b[0m\u001b[0;34m.\u001b[0m\u001b[0mmatrix\u001b[0m\u001b[0;34m(\u001b[0m\u001b[0ml\u001b[0m\u001b[0;34m)\u001b[0m\u001b[0;34m.\u001b[0m\u001b[0mtranspose\u001b[0m\u001b[0;34m(\u001b[0m\u001b[0;34m)\u001b[0m\u001b[0;34m\u001b[0m\u001b[0m\n\u001b[0;32m---> 12\u001b[0;31m \u001b[0mM\u001b[0m \u001b[0;34m=\u001b[0m \u001b[0mscaling\u001b[0m\u001b[0;34m(\u001b[0m\u001b[0mmatr1\u001b[0m\u001b[0;34m)\u001b[0m\u001b[0;34m\u001b[0m\u001b[0m\n\u001b[0m\u001b[1;32m     13\u001b[0m \u001b[0mM\u001b[0m\u001b[0;34m\u001b[0m\u001b[0m\n\u001b[1;32m     14\u001b[0m \u001b[0;34m\u001b[0m\u001b[0m\n",
      "\u001b[0;31mNameError\u001b[0m: name 'matr1' is not defined"
     ]
    }
   ],
   "source": [
    "def scaling(X):\n",
    "    l = []\n",
    "    for k in range(X.shape[1]):\n",
    "        x = X[:,k]\n",
    "        def f(e):\n",
    "            tmp0 = sum(x) / len(x)\n",
    "            tmp1 = max(x) - min(x)\n",
    "            return (e - tmp0) / tmp1\n",
    "        m =  list(map(float, (list(map(f, x[:, 0])))))\n",
    "        l.append(m)\n",
    "    return np.matrix(l).transpose()\n",
    "M = scaling(matr1)\n",
    "M\n",
    "            \n"
   ]
  },
  {
   "cell_type": "code",
   "execution_count": 99,
   "metadata": {
    "collapsed": false
   },
   "outputs": [
    {
     "name": "stdout",
     "output_type": "stream",
     "text": [
      "2\n",
      "[[ 1.  1.  2.]\n",
      " [ 1.  3.  4.]]\n",
      "7.0 [3 3 3] 0 0\n",
      "25.0 [3 3 3] 1 0\n",
      "25.0\n"
     ]
    },
    {
     "data": {
      "text/plain": [
       "25.0"
      ]
     },
     "execution_count": 99,
     "metadata": {},
     "output_type": "execute_result"
    }
   ],
   "source": [
    "x1 = np.array([[1, 2], [3, 4]])\n",
    "y1 = np.array([5, 6])\n",
    "X1 = np.c_[np.ones(2), x1]\n",
    "fi1 = np.array([3, 3, 3])\n",
    "print(len(y1))\n",
    "print(X1[:, :])\n",
    "print(Sum(fi1, X1, y1, 0))\n",
    "\n",
    "#(fi1.dot(X1[1,:]) - y1[1]) * X1[1,0]\n"
   ]
  },
  {
   "cell_type": "code",
   "execution_count": 5,
   "metadata": {
    "collapsed": false
   },
   "outputs": [
    {
     "data": {
      "text/plain": [
       "32.0"
      ]
     },
     "execution_count": 5,
     "metadata": {},
     "output_type": "execute_result"
    }
   ],
   "source": [
    "i = 0\n",
    "s = 0\n",
    "while i < 3:\n",
    "    s = s + A[i,:].dot(np.ones(3))\n",
    "    i += 1\n",
    "s "
   ]
  },
  {
   "cell_type": "code",
   "execution_count": 21,
   "metadata": {
    "collapsed": false
   },
   "outputs": [
    {
     "data": {
      "text/plain": [
       "array([[ 1.,  1.,  2.,  6.],\n",
       "       [ 1.,  2.,  4.,  4.],\n",
       "       [ 1.,  3.,  5.,  5.]])"
      ]
     },
     "execution_count": 21,
     "metadata": {},
     "output_type": "execute_result"
    }
   ],
   "source": [
    "X"
   ]
  },
  {
   "cell_type": "code",
   "execution_count": 22,
   "metadata": {
    "collapsed": false
   },
   "outputs": [
    {
     "data": {
      "text/plain": [
       "array([ 1.,  1.,  2.,  6.])"
      ]
     },
     "execution_count": 22,
     "metadata": {},
     "output_type": "execute_result"
    }
   ],
   "source": [
    "X[0, :]"
   ]
  },
  {
   "cell_type": "code",
   "execution_count": 47,
   "metadata": {
    "collapsed": false
   },
   "outputs": [
    {
     "name": "stdout",
     "output_type": "stream",
     "text": [
      "[ 0.  0.  0.  0.]\n"
     ]
    },
    {
     "data": {
      "text/plain": [
       "array([[ 1.,  1.,  2.,  6.],\n",
       "       [ 1.,  2.,  4.,  4.],\n",
       "       [ 1.,  3.,  5.,  5.]])"
      ]
     },
     "execution_count": 47,
     "metadata": {},
     "output_type": "execute_result"
    }
   ],
   "source": [
    "test = np.array(range(1, 5))\n",
    "test2 = np.array(range(6, 10))\n",
    "test3 = np.zeros(4)\n",
    "X\n",
    "print(test3)\n",
    "X"
   ]
  },
  {
   "cell_type": "code",
   "execution_count": 41,
   "metadata": {
    "collapsed": false
   },
   "outputs": [
    {
     "data": {
      "text/plain": [
       "33.0"
      ]
     },
     "execution_count": 41,
     "metadata": {},
     "output_type": "execute_result"
    }
   ],
   "source": [
    "test.dot(X[0,:])"
   ]
  },
  {
   "cell_type": "code",
   "execution_count": 48,
   "metadata": {
    "collapsed": false
   },
   "outputs": [
    {
     "data": {
      "text/plain": [
       "array([6, 7, 8, 9])"
      ]
     },
     "execution_count": 48,
     "metadata": {},
     "output_type": "execute_result"
    }
   ],
   "source": [
    "for j in range(len(test)):\n",
    "    test[j] = test2[j]\n",
    "test3 = test\n",
    "test3"
   ]
  },
  {
   "cell_type": "code",
   "execution_count": 176,
   "metadata": {
    "collapsed": false
   },
   "outputs": [
    {
     "name": "stdout",
     "output_type": "stream",
     "text": [
      "<class 'numpy.matrixlib.defmatrix.matrix'>\n",
      "[[ 1.  1.  2.]\n",
      " [ 1.  3.  4.]]\n",
      "3\n"
     ]
    },
    {
     "data": {
      "text/plain": [
       "25.0"
      ]
     },
     "execution_count": 176,
     "metadata": {},
     "output_type": "execute_result"
    }
   ],
   "source": [
    "a1 = np.matrix([[1,2], [3,4]])\n",
    "a = np.c_[np.ones(2), a1]\n",
    "b = np.matrix([3, 3, 3])\n",
    "y = np.matrix([5,6])\n",
    "tes1 = np.matrix([0, 0])\n",
    "print(type(a))\n",
    "print(a[:,:])\n",
    "print(a.shape[1])\n",
    "float((((a * b.transpose()) - y.transpose()).transpose()) * a[:,0])\n",
    "#np.c_[np.ones(2), a]"
   ]
  },
  {
   "cell_type": "code",
   "execution_count": 172,
   "metadata": {
    "collapsed": false
   },
   "outputs": [
    {
     "name": "stdout",
     "output_type": "stream",
     "text": [
      "[[5 6]]\n",
      "[[5 6]]\n",
      "[[5]\n",
      " [6]]\n",
      "(1, 2)\n",
      "(2, 1)\n",
      "(1, 2)\n",
      "[[61]]\n",
      "[matrix([], shape=(0, 2), dtype=int64) matrix([[5, 6]])]\n",
      "type of z <class 'numpy.ndarray'>\n"
     ]
    }
   ],
   "source": [
    "tes1 = y\n",
    "print(y)\n",
    "print(tes1)\n",
    "print(tes1.transpose())\n",
    "print(tes1.shape)\n",
    "print(tes1.transpose().shape)\n",
    "print(y.shape)\n",
    "print(y * tes1.transpose())\n",
    "s1, s2 = y[0:0], y[0:1]\n",
    "z = np.array([y[0:0], y[0:1]])\n",
    "print(z)\n",
    "print(\"type of z\", type(z))"
   ]
  },
  {
   "cell_type": "code",
   "execution_count": 288,
   "metadata": {
    "collapsed": false
   },
   "outputs": [
    {
     "name": "stdout",
     "output_type": "stream",
     "text": [
      "[[1, 9], [1, 9]]\n"
     ]
    },
    {
     "data": {
      "text/plain": [
       "matrix([[ 1.,  1.],\n",
       "        [ 9.,  9.]])"
      ]
     },
     "execution_count": 288,
     "metadata": {},
     "output_type": "execute_result"
    }
   ],
   "source": [
    "ll = []\n",
    "mat  = list(map(int, (list(map(lambda x : x * x, a1[:, 0])))))\n",
    "mat2 = np.matrix(mat)\n",
    "ll.append(mat)\n",
    "ll.append(mat)\n",
    "matr1 = np.matrix(ll , dtype=np.float64).transpose()\n",
    "print(ll)\n",
    "matr1"
   ]
  },
  {
   "cell_type": "code",
   "execution_count": 284,
   "metadata": {
    "collapsed": true
   },
   "outputs": [],
   "source": []
  },
  {
   "cell_type": "code",
   "execution_count": 28,
   "metadata": {
    "collapsed": false
   },
   "outputs": [
    {
     "name": "stdout",
     "output_type": "stream",
     "text": [
      "Overwriting m_g_d.py\n"
     ]
    }
   ],
   "source": [
    "%%writefile m_g_d.py\n",
    "import sys\n",
    "import numpy as np\n",
    "from multivariate_gradient_descent import * \n",
    "def split_input_elements(xs):\n",
    "    result = []\n",
    "    for i in range(len(xs)):\n",
    "        result.append(xs[i].rsplit())\n",
    "    return result\n",
    "\n",
    "\n",
    "def split_input_and_to_float(xs):\n",
    "    def helper(ys):\n",
    "        l = list(map(float, ys))\n",
    "        return l\n",
    "    l1 = list(map(helper, xs))\n",
    "    return l1\n",
    "\n",
    "\n",
    "l = []\n",
    "for line in sys.stdin:\n",
    "    str(line)\n",
    "    line = line.replace(',', ' ')\n",
    "    l.append(line.rstrip())\n",
    "#print(l)\n",
    "l1 = split_input_elements(l)\n",
    "#print(l1)\n",
    "l2 = split_input_and_to_float(l1)\n",
    "#print(l2)\n",
    "# print(type(l[1]))\n",
    "matr2 = np.matrix([0] * len(l2[0]))\n",
    "#ll0 = [[1, 1], [2, 2], [3, 3]]\n",
    "#print(len(ll0))\n",
    "for elem in l2:\n",
    "       matr2 = np.vstack([matr2, elem])\n",
    "matr2 = matr2[1: ,:]\n",
    "y = matr2[:,2]\n",
    "#y = y.transpose()\n",
    "matr2 = matr2[:,:2]\n",
    "#print(matr2)\n",
    "matr2 = scaling(matr2)\n",
    "print(len(matr2), len(y[0,:]))\n",
    "matr2 = np.c_[[1] * len(matr2), matr2]\n",
    "print(matr2)\n",
    "print(y)\n",
    "print(\"-------------\")\n",
    "#out = m_g_d(matr2, y, 0.01)\n",
    "print(out)\n",
    "'''plt.plot(l_iterations, l_cost_function, color=\"blue\", linewidth=1, label=\"alfa=0.0001\")\n",
    "plt.legend(loc=\"upper right\")\n",
    "plt.show()'''\n"
   ]
  },
  {
   "cell_type": "code",
   "execution_count": 53,
   "metadata": {
    "collapsed": false
   },
   "outputs": [
    {
     "name": "stdout",
     "output_type": "stream",
     "text": [
      "Overwriting smallmaldata.txt\n"
     ]
    }
   ],
   "source": [
    "%%writefile smallmaldata.txt\n",
    "2, 77, 90\n",
    "45, 11, 11.1\n",
    "22, 3, 90909\n"
   ]
  },
  {
   "cell_type": "code",
   "execution_count": 29,
   "metadata": {
    "collapsed": false
   },
   "outputs": [
    {
     "name": "stdout",
     "output_type": "stream",
     "text": [
      "47 1\n",
      "[[  1.00000000e+00   2.84939738e-02  -4.25531915e-02]\n",
      " [  1.00000000e+00  -1.10502165e-01  -4.25531915e-02]\n",
      " [  1.00000000e+00   1.10126627e-01  -4.25531915e-02]\n",
      " [  1.00000000e+00  -1.61246787e-01  -2.92553191e-01]\n",
      " [  1.00000000e+00   2.75598221e-01   2.07446809e-01]\n",
      " [  1.00000000e+00  -4.32455904e-03   2.07446809e-01]\n",
      " [  1.00000000e+00  -1.28704041e-01  -4.25531915e-02]\n",
      " [  1.00000000e+00  -1.58213141e-01  -4.25531915e-02]\n",
      " [  1.00000000e+00  -1.71175083e-01  -4.25531915e-02]\n",
      " [  1.00000000e+00  -1.39735480e-01  -4.25531915e-02]\n",
      " [  1.00000000e+00  -1.67349286e-02   2.07446809e-01]\n",
      " [  1.00000000e+00  -1.87769185e-04  -4.25531915e-02]\n",
      " [  1.00000000e+00  -3.05242281e-02  -4.25531915e-02]\n",
      " [  1.00000000e+00   6.83209914e-01   4.57446809e-01]\n",
      " [  1.00000000e+00  -2.02063114e-01  -4.25531915e-02]\n",
      " [  1.00000000e+00   8.25480278e-02   2.07446809e-01]\n",
      " [  1.00000000e+00  -1.87722242e-01  -2.92553191e-01]\n",
      " [  1.00000000e+00  -2.10888266e-01  -4.25531915e-02]\n",
      " [  1.00000000e+00   1.67765899e-01   2.07446809e-01]\n",
      " [  1.00000000e+00   2.84147587e-01   2.07446809e-01]\n",
      " [  1.00000000e+00  -6.44459049e-02  -4.25531915e-02]\n",
      " [  1.00000000e+00  -3.10758001e-02  -2.92553191e-01]\n",
      " [  1.00000000e+00  -1.09399021e-01  -4.25531915e-02]\n",
      " [  1.00000000e+00  -1.06676368e-02   2.07446809e-01]\n",
      " [  1.00000000e+00   5.21047752e-01  -4.25531915e-02]\n",
      " [  1.00000000e+00  -2.48395160e-01  -4.25531915e-02]\n",
      " [  1.00000000e+00  -1.49663776e-01  -4.25531915e-02]\n",
      " [  1.00000000e+00   1.44875662e-01  -4.25531915e-02]\n",
      " [  1.00000000e+00   5.49694288e-02  -4.25531915e-02]\n",
      " [  1.00000000e+00   1.75487906e-01  -4.25531915e-02]\n",
      " [  1.00000000e+00  -4.45893136e-02  -2.92553191e-01]\n",
      " [  1.00000000e+00  -2.75973759e-01  -5.42553191e-01]\n",
      " [  1.00000000e+00   1.08436704e-02   2.07446809e-01]\n",
      " [  1.00000000e+00   3.13380902e-01  -4.25531915e-02]\n",
      " [  1.00000000e+00  -5.23113213e-02   2.07446809e-01]\n",
      " [  1.00000000e+00  -1.55455282e-01  -4.25531915e-02]\n",
      " [  1.00000000e+00  -2.10060908e-01  -4.25531915e-02]\n",
      " [  1.00000000e+00   3.62159815e-02   2.07446809e-01]\n",
      " [  1.00000000e+00   6.10678199e-01   2.07446809e-01]\n",
      " [  1.00000000e+00   4.44895612e-02   2.07446809e-01]\n",
      " [  1.00000000e+00  -9.28518618e-02  -2.92553191e-01]\n",
      " [  1.00000000e+00   6.54492965e-02  -4.25531915e-02]\n",
      " [  1.00000000e+00   1.56182887e-01   2.07446809e-01]\n",
      " [  1.00000000e+00  -2.20816561e-01  -4.25531915e-02]\n",
      " [  1.00000000e+00  -3.16790086e-01  -2.92553191e-01]\n",
      " [  1.00000000e+00  -4.10040957e-02   2.07446809e-01]\n",
      " [  1.00000000e+00  -2.19989203e-01  -4.25531915e-02]]\n",
      "[[ 399901.          399900.02849397  399899.95744681]\n",
      " [ 329901.          329899.88949783  329899.95744681]\n",
      " [ 369001.          369000.11012663  368999.95744681]\n",
      " [ 232001.          231999.83875321  231999.70744681]\n",
      " [ 539901.          539900.27559822  539900.20744681]\n",
      " [ 299901.          299899.99567544  299900.20744681]\n",
      " [ 314901.          314899.87129596  314899.95744681]\n",
      " [ 199000.          198998.84178686  198998.95744681]\n",
      " [ 212001.          211999.82882492  211999.95744681]\n",
      " [ 242501.          242499.86026452  242499.95744681]\n",
      " [ 240000.          239998.98326507  239999.20744681]\n",
      " [ 347001.          346999.99981223  346999.95744681]\n",
      " [ 330000.          329998.96947577  329998.95744681]\n",
      " [ 699901.          699900.68320991  699900.45744681]\n",
      " [ 259901.          259899.79793689  259899.95744681]\n",
      " [ 449901.          449900.08254803  449900.20744681]\n",
      " [ 299901.          299899.81227776  299899.70744681]\n",
      " [ 199901.          199899.78911173  199899.95744681]\n",
      " [ 499999.          499998.1677659   499998.20744681]\n",
      " [ 599001.          599000.28414759  599000.20744681]\n",
      " [ 252901.          252899.9355541   252899.95744681]\n",
      " [ 255001.          254999.9689242   254999.70744681]\n",
      " [ 242901.          242899.89060098  242899.95744681]\n",
      " [ 259901.          259899.98933236  259900.20744681]\n",
      " [ 573901.          573900.52104775  573899.95744681]\n",
      " [ 249901.          249899.75160484  249899.95744681]\n",
      " [ 464501.          464499.85033622  464499.95744681]\n",
      " [ 469001.          469000.14487566  468999.95744681]\n",
      " [ 475001.          475000.05496943  474999.95744681]\n",
      " [ 299901.          299900.17548791  299899.95744681]\n",
      " [ 349901.          349899.95541069  349899.70744681]\n",
      " [ 169901.          169899.72402624  169899.45744681]\n",
      " [ 314901.          314900.01084367  314900.20744681]\n",
      " [ 579901.          579900.3133809   579899.95744681]\n",
      " [ 285901.          285899.94768868  285900.20744681]\n",
      " [ 249901.          249899.84454472  249899.95744681]\n",
      " [ 229901.          229899.78993909  229899.95744681]\n",
      " [ 345001.          345000.03621598  345000.20744681]\n",
      " [ 549001.          549000.6106782   549000.20744681]\n",
      " [ 287001.          287000.04448956  287000.20744681]\n",
      " [ 368501.          368499.90714814  368499.70744681]\n",
      " [ 329901.          329900.0654493   329899.95744681]\n",
      " [ 314001.          314000.15618289  314000.20744681]\n",
      " [ 299001.          298999.77918344  298999.95744681]\n",
      " [ 179901.          179899.68320991  179899.70744681]\n",
      " [ 299901.          299899.9589959   299900.20744681]\n",
      " [ 239501.          239499.7800108   239499.95744681]]\n",
      "-------------\n",
      "Traceback (most recent call last):\n",
      "  File \"m_g_d.py\", line 47, in <module>\n",
      "    print(out)\n",
      "NameError: name 'out' is not defined\n",
      "Command exited with non-zero status 1\n",
      "1.34user 0.06system 0:01.41elapsed 99%CPU (0avgtext+0avgdata 65224maxresident)k\n",
      "0inputs+96outputs (0major+30190minor)pagefaults 0swaps\n"
     ]
    }
   ],
   "source": [
    "! time python3 m_g_d.py < ex1data2.txt\n",
    "\n"
   ]
  },
  {
   "cell_type": "code",
   "execution_count": 87,
   "metadata": {
    "collapsed": false
   },
   "outputs": [
    {
     "name": "stdout",
     "output_type": "stream",
     "text": [
      "2104,3,399900\r\n",
      "1600,3,329900\r\n",
      "2400,3,369000\r\n",
      "1416,2,232000\r\n",
      "3000,4,539900\r\n",
      "1985,4,299900\r\n",
      "1534,3,314900\r\n",
      "1427,3,198999\r\n",
      "1380,3,212000\r\n",
      "1494,3,242500\r\n",
      "1940,4,239999\r\n",
      "2000,3,347000\r\n",
      "1890,3,329999\r\n",
      "4478,5,699900\r\n",
      "1268,3,259900\r\n",
      "2300,4,449900\r\n",
      "1320,2,299900\r\n",
      "1236,3,199900\r\n",
      "2609,4,499998\r\n",
      "3031,4,599000\r\n",
      "1767,3,252900\r\n",
      "1888,2,255000\r\n",
      "1604,3,242900\r\n",
      "1962,4,259900\r\n",
      "3890,3,573900\r\n",
      "1100,3,249900\r\n",
      "1458,3,464500\r\n",
      "2526,3,469000\r\n",
      "2200,3,475000\r\n",
      "2637,3,299900\r\n",
      "1839,2,349900\r\n",
      "1000,1,169900\r\n",
      "2040,4,314900\r\n",
      "3137,3,579900\r\n",
      "1811,4,285900\r\n",
      "1437,3,249900\r\n",
      "1239,3,229900\r\n",
      "2132,4,345000\r\n",
      "4215,4,549000\r\n",
      "2162,4,287000\r\n",
      "1664,2,368500\r\n",
      "2238,3,329900\r\n",
      "2567,4,314000\r\n",
      "1200,3,299000\r\n",
      "852,2,179900\r\n",
      "1852,4,299900\r\n",
      "1203,3,239500\r\n"
     ]
    }
   ],
   "source": [
    "%cp excersizes/machine-learning-ex1/ex1/ex1data2.txt /home/lion/projects/python/ml_coursera/\n",
    "! cat ex1data2.txt"
   ]
  },
  {
   "cell_type": "code",
   "execution_count": 91,
   "metadata": {
    "collapsed": false
   },
   "outputs": [
    {
     "data": {
      "text/plain": [
       "matrix([[1, 2],\n",
       "        [3, 4],\n",
       "        [5, 6]])"
      ]
     },
     "execution_count": 91,
     "metadata": {},
     "output_type": "execute_result"
    }
   ],
   "source": [
    "L = np.matrix([[1, 2, 4], [3 ,4, 5], [5, 6, 7]])\n",
    "L[:,:2]"
   ]
  },
  {
   "cell_type": "code",
   "execution_count": 66,
   "metadata": {
    "collapsed": false
   },
   "outputs": [
    {
     "name": "stdout",
     "output_type": "stream",
     "text": [
      "[[1 1]\n",
      " [2 2]\n",
      " [3 3]]\n",
      "[[-0.5 -0.5]\n",
      " [ 0.   0. ]\n",
      " [ 0.5  0.5]]\n"
     ]
    }
   ],
   "source": [
    "matr2 = np.matrix([0, 0])\n",
    "ll0 = [[1, 1], [2, 2], [3, 3]]\n",
    "#print(len(ll0))\n",
    "for elem in ll0:\n",
    "       matr2 = np.vstack([matr2, elem])\n",
    "matr2 = matr2[1: , :]\n",
    "print(matr2)\n",
    "matr2 = scaling(matr2)\n",
    "print(matr2)"
   ]
  },
  {
   "cell_type": "code",
   "execution_count": 4,
   "metadata": {
    "collapsed": true
   },
   "outputs": [],
   "source": [
    "def split_input_and_to_float(xs):\n",
    "    def helper(ys):\n",
    "        l = list(map(int, ys))\n",
    "        l = list(map(float, ys))\n",
    "        return l\n",
    "    l1 = list(map(helper, xs))\n",
    "    return l1\n",
    "\n",
    "def split(x):\n",
    "    return x.split(',')\n",
    "\n",
    "def Sum(X, y, theta, ind):\n",
    "    \"compute sum under the sigma in g d algorithm\"\n",
    "    i = 0\n",
    "    s = 0\n",
    "    while i < len(X):\n",
    "        s += (theta * X[i,:].transpose() - y[0, i]) * X[i, ind]\n",
    "        i += 1\n",
    "    return float(s)"
   ]
  },
  {
   "cell_type": "code",
   "execution_count": 35,
   "metadata": {
    "collapsed": false
   },
   "outputs": [
    {
     "name": "stdout",
     "output_type": "stream",
     "text": [
      "Overwriting data1.txt\n"
     ]
    }
   ],
   "source": [
    "%%writefile data1.txt\n",
    "1,1\n",
    "2,34\n",
    "\n"
   ]
  },
  {
   "cell_type": "code",
   "execution_count": 4,
   "metadata": {
    "collapsed": false
   },
   "outputs": [
    {
     "ename": "FileNotFoundError",
     "evalue": "[Errno 2] No such file or directory: 'ex1data2.txt'",
     "output_type": "error",
     "traceback": [
      "\u001b[0;31m---------------------------------------------------------------------------\u001b[0m",
      "\u001b[0;31mFileNotFoundError\u001b[0m                         Traceback (most recent call last)",
      "\u001b[0;32m<ipython-input-4-b6ba05ea3007>\u001b[0m in \u001b[0;36m<module>\u001b[0;34m()\u001b[0m\n\u001b[1;32m      3\u001b[0m \u001b[0ml_iin\u001b[0m \u001b[0;34m=\u001b[0m \u001b[0;34m[\u001b[0m\u001b[0;34m]\u001b[0m\u001b[0;34m\u001b[0m\u001b[0m\n\u001b[1;32m      4\u001b[0m \u001b[0ml_cost\u001b[0m \u001b[0;34m=\u001b[0m \u001b[0;34m[\u001b[0m\u001b[0;34m]\u001b[0m\u001b[0;34m\u001b[0m\u001b[0m\n\u001b[0;32m----> 5\u001b[0;31m \u001b[0mf\u001b[0m \u001b[0;34m=\u001b[0m \u001b[0mopen\u001b[0m\u001b[0;34m(\u001b[0m\u001b[0;34m'ex1data2.txt'\u001b[0m\u001b[0;34m,\u001b[0m \u001b[0;34m'r'\u001b[0m\u001b[0;34m)\u001b[0m\u001b[0;34m\u001b[0m\u001b[0m\n\u001b[0m\u001b[1;32m      6\u001b[0m \u001b[0mf1\u001b[0m \u001b[0;34m=\u001b[0m \u001b[0mlist\u001b[0m\u001b[0;34m(\u001b[0m\u001b[0mmap\u001b[0m\u001b[0;34m(\u001b[0m\u001b[0mstr\u001b[0m\u001b[0;34m.\u001b[0m\u001b[0mrstrip\u001b[0m\u001b[0;34m,\u001b[0m \u001b[0mf\u001b[0m\u001b[0;34m.\u001b[0m\u001b[0mreadlines\u001b[0m\u001b[0;34m(\u001b[0m\u001b[0;34m)\u001b[0m\u001b[0;34m)\u001b[0m\u001b[0;34m)\u001b[0m\u001b[0;34m\u001b[0m\u001b[0m\n\u001b[1;32m      7\u001b[0m \u001b[0mf2\u001b[0m \u001b[0;34m=\u001b[0m \u001b[0mf1\u001b[0m\u001b[0;34m[\u001b[0m\u001b[0;36m0\u001b[0m\u001b[0;34m]\u001b[0m\u001b[0;34m.\u001b[0m\u001b[0msplit\u001b[0m\u001b[0;34m(\u001b[0m\u001b[0;34m','\u001b[0m\u001b[0;34m)\u001b[0m\u001b[0;34m\u001b[0m\u001b[0m\n",
      "\u001b[0;31mFileNotFoundError\u001b[0m: [Errno 2] No such file or directory: 'ex1data2.txt'"
     ]
    }
   ],
   "source": [
    "# openning and formating file for gradient descent and gradient descent\n",
    "import time\n",
    "l_iin = []\n",
    "l_cost = []\n",
    "f = open('biggerdata.txt', 'r')\n",
    "f1 = list(map(str.rstrip, f.readlines()))\n",
    "f2 = f1[0].split(',')\n",
    "f3 = list(map(split, f1))\n",
    "f4 = split_input_and_to_float(f3)\n",
    "X = np.matrix([0] * len(f4[0]))\n",
    "for elem in f4:\n",
    "       X = np.vstack([X, elem])\n",
    "X = X[1: , :]\n",
    "y = X[:,2].transpose() # changed from 2 to 1\n",
    "X = X[:,:2] # change from 2 to 1\n",
    "X = scaling(X)\n",
    "X = np.c_[[1] * len(X), X]\n",
    "theta = np.matrix([0] * X.shape[1])\n",
    "tmp = np.matrix([0] * X.shape[1])\n",
    "#print(y)\n",
    "cnt = 0\n",
    "alfa = 0.8\n",
    "m = len(X)\n",
    "delta = 10\n",
    "t_start = time.time()\n",
    "while delta > 0.01:\n",
    "    beg = J_m(X, y, theta)\n",
    "    tmp0 = theta[0,0] - (alfa / m) * (Sum(X, y, theta, 0))\n",
    "    tmp1 = theta[0,1] - (alfa / m) * (Sum(X, y, theta, 1))\n",
    "    tmp2 = theta[0,2] - (alfa / m) * (Sum(X, y, theta, 2))\n",
    "    theta = np.matrix([tmp0, tmp1, tmp2]) # changes according to dim here\n",
    "    end = J_m(X, y, theta)\n",
    "    delta = abs(end - beg)\n",
    "    l_iin.append(cnt)\n",
    "    l_cost.append(J_m(X, y, theta))\n",
    "    cnt += 1\n",
    "t_end = time.time()\n",
    "print(\"time in secs: \", t_end - t_start)\n",
    "print(theta, delta, end, cnt)\n",
    "\n",
    "plt.plot(l_iin, l_cost, color=\"blue\", linewidth=1, label=\"alfa=0.0001\")\n",
    "plt.legend(loc=\"upper right\")\n",
    "plt.show()  \n",
    "\n",
    "%time theta = ((X.transpose() * X).getI()) * X.transpose() * y.transpose()\n",
    "print(theta)\n"
   ]
  },
  {
   "cell_type": "code",
   "execution_count": 156,
   "metadata": {
    "collapsed": false
   },
   "outputs": [
    {
     "name": "stdout",
     "output_type": "stream",
     "text": [
      "[[      2    3704       6]\n",
      " [   3704 6986816   11112]\n",
      " [      6   11112      18]]\n",
      "------------------\n",
      "matrix  [[   1 2104    3]\n",
      " [   1 1600    3]]\n",
      "igrek  [[1 2]]\n",
      "otcome here   : [[ 1.5]\n",
      " [ 1. ]]\n",
      "=============\n"
     ]
    }
   ],
   "source": [
    "m1 = np.matrix([[1, -0.5], [1, 0.5]])\n",
    "#m1 = scaling(m1)\n",
    "#print(m1)\n",
    "y0 = np.matrix([1, 2])\n",
    "m2 = np.matrix([[1, 2104, 3], [1, 1600, 3]])\n",
    "#print(m1)\n",
    "print((m2.transpose() * m2))\n",
    "print(\"------------------\")\n",
    "print(\"matrix \", m2)\n",
    "print(\"igrek \",y0)\n",
    "#theta = np.matrix([0, 0])\n",
    "\n",
    "\n",
    "theta = ((m1.transpose() * m1).getI()) * m1.transpose() * y0.transpose()\n",
    "print(\"otcome here   :\",theta[:,0])\n",
    "print(\"=============\")\n",
    "#theta = np.matrix([0,0])\n",
    "#print(theta - m1[0,:])\n",
    "#print(y0 * m1)\n",
    "#print(m1[1,2])\n",
    "#print((theta * m1.transpose() * m1[:,0] - y0 * m1[:,0]))\n",
    "#theta[0,0] = theta * m1.transpose() * m1[:,0] - y0 * m1[:,0]\n",
    "#theta = theta - (0.001 / 2)* ( theta * m1.transpose() * m1[:,:] - y0 * m1[:,:])\n",
    "#theta = theta - (0.001 / 2)* ( theta * m1.transpose() * m1[:,:] - y0 * m1[:,:])\n",
    "#theta = theta - (0.001 / 2)* ( theta * m1.transpose() * m1[:,:] - y0 * m1[:,:])\n",
    "#theta"
   ]
  },
  {
   "cell_type": "code",
   "execution_count": 155,
   "metadata": {
    "collapsed": false
   },
   "outputs": [
    {
     "name": "stdout",
     "output_type": "stream",
     "text": [
      "[[-0.5]\n",
      " [ 0.5]]\n",
      "[[ 1.5  1. ]] 1.0107280348144214e-30\n",
      "CPU times: user 0 ns, sys: 0 ns, total: 0 ns\n",
      "Wall time: 485 µs\n"
     ]
    },
    {
     "data": {
      "image/png": "[encoded data removed]",
      "text/plain": [
       "<matplotlib.figure.Figure at 0x7f4bedd80860>"
      ]
     },
     "metadata": {},
     "output_type": "display_data"
    }
   ],
   "source": [
    "l_iin = []\n",
    "l_cost = []\n",
    "X = np.matrix([[1,-0.5], [1, 0.5]])\n",
    "#K = scaling(X[:,1:])\n",
    "#X = np.c_()\n",
    "print(K)\n",
    "y = np.matrix([1, 2])\n",
    "theta = np.matrix([0,0])\n",
    "tmp0 = np.matrix([0,0])\n",
    "#print(tmp0[0,1])\n",
    "cnt = 0\n",
    "#m1 = scaling(m1)\n",
    "while cnt < 2000:\n",
    "    tmp0 = theta[0,0] - (0.1 / 2) * (Sum(X, y, theta, 0))\n",
    "    tmp1 = theta[0,1] - (0.1 / 2) * (Sum(X, y, theta, 1))\n",
    "    #print(tmp0,tmp1, Sum(X, y, theta, 0))\n",
    "    theta = np.matrix([tmp0, tmp1])\n",
    "    l_iin.append(cnt)\n",
    "    l_cost.append(J_m(X, y, theta))\n",
    "    cnt += 1\n",
    "%time print(theta, l_cost[-1])\n",
    "plt.plot(l_iin, l_cost, color=\"blue\", linewidth=1, label=\"alfa=0.0001\")\n",
    "plt.legend(loc=\"upper right\")\n",
    "plt.show()   \n",
    "#tmp0[0,0] = theta[0,0] - (0.0001 / 2) * Sum(X, y, theta, 0)\n",
    "#print(theta[0,0] - (0.0001 / 2) * Sum(X, y, theta, 0))\n",
    "#print(tmp0)"
   ]
  },
  {
   "cell_type": "code",
   "execution_count": 3,
   "metadata": {
    "collapsed": false
   },
   "outputs": [],
   "source": [
    "def Sum(X, y, theta, ind):\n",
    "    \"compute sum under the sigma in g d algorithm\"\n",
    "    i = 0\n",
    "    s = 0\n",
    "    while i < len(X):\n",
    "        s += (theta * X[i,:].transpose() - y[0, i]) * X[i, ind]\n",
    "        i += 1\n",
    "    return float(s)\n",
    "#Sum(X, y, theta, 0)"
   ]
  },
  {
   "cell_type": "code",
   "execution_count": 4,
   "metadata": {
    "collapsed": false
   },
   "outputs": [
    {
     "data": {
      "text/plain": [
       "matrix([[1, 1, 2]])"
      ]
     },
     "execution_count": 4,
     "metadata": {},
     "output_type": "execute_result"
    }
   ],
   "source": [
    "theta = np.matrix([1, 1, 2])\n",
    "X = np.matrix([[1,1,3], [1, 4, 7]])\n",
    "X[0,:]\n",
    "y = np.matrix([1, 2])\n",
    "theta  * X[0,:].transpose() * X[0, 0] - y[0, 0]\n",
    "theta[0,:]"
   ]
  },
  {
   "cell_type": "code",
   "execution_count": null,
   "metadata": {
    "collapsed": true
   },
   "outputs": [],
   "source": [
    "'''\n",
    "t_end = time.time()\n",
    "\n",
    "\n",
    "while delta > 0.1 or cnt < 5000:\n",
    "    beg = J_m(X, y, theta)\n",
    "    for i in range(3):\n",
    "        tmp[0,i] = theta[0,i] - (alfa / 3) * (Sum(X, y, theta, i))\n",
    "    theta = tmp\n",
    "    end = J_m(X, y, theta)\n",
    "    delta = abs(end - beg)\n",
    "    l_iin.append(cnt)\n",
    "    l_cost.append(J_m(X, y, theta))\n",
    "    cnt += 1\n",
    "\n",
    "\n",
    "'''"
   ]
  },
  {
   "cell_type": "code",
   "execution_count": 57,
   "metadata": {
    "collapsed": false
   },
   "outputs": [
    {
     "name": "stdout",
     "output_type": "stream",
     "text": [
      "3\n",
      "time in secs:  3.1516635417938232\n",
      "[[340412 504745 -34912]] 0.0 2043280074.5833354 351\n"
     ]
    },
    {
     "data": {
      "image/png": "[encoded data removed]",
      "text/plain": [
       "<matplotlib.figure.Figure at 0x7f21cdce6a90>"
      ]
     },
     "metadata": {},
     "output_type": "display_data"
    },
    {
     "name": "stdout",
     "output_type": "stream",
     "text": [
      "CPU times: user 0 ns, sys: 0 ns, total: 0 ns\n",
      "Wall time: 375 µs\n",
      "[[ 340412.65957447]\n",
      " [ 504777.90398791]\n",
      " [ -34952.07644931]]\n"
     ]
    }
   ],
   "source": [
    "import time\n",
    "l_iin = []\n",
    "l_cost = []\n",
    "f = open('biggerdata.txt', 'r')\n",
    "f1 = list(map(str.rstrip, f.readlines()))\n",
    "f2 = f1[0].split(',')\n",
    "f3 = list(map(split, f1))\n",
    "f4 = split_input_and_to_float(f3)\n",
    "X = np.matrix([0] * len(f4[0]))\n",
    "for elem in f4:\n",
    "       X = np.vstack([X, elem])\n",
    "X = X[1: , :]\n",
    "y = X[:,X.shape[1] - 1].transpose()\n",
    "X = X[:,:X.shape[1] - 1]\n",
    "X = scaling(X)\n",
    "X = np.c_[[1] * len(X), X]\n",
    "theta = np.matrix([0] * X.shape[1])\n",
    "tmp = np.matrix([0] * X.shape[1])\n",
    "m = X.shape[0]\n",
    "cnt = 0\n",
    "alfa = 1.49 #1.49 ok for bigger data, 1.64? for smaller?\n",
    "delta = 10\n",
    "precision = 0.001\n",
    "t_start = time.time()\n",
    "while delta > precision:\n",
    "    beg = J_m(X, y, theta)\n",
    "    for i in range(3):\n",
    "        tmp[0,i] = theta[0,i] - (alfa / m) * (Sum(X, y, theta, i))\n",
    "    theta = tmp\n",
    "    end = J_m(X, y, theta)\n",
    "    delta = abs(end - beg)\n",
    "    l_iin.append(cnt)\n",
    "    l_cost.append(J_m(X, y, theta))\n",
    "    cnt += 1\n",
    "t_end = time.time()\n",
    "print(\"time in secs: \", t_end - t_start)\n",
    "print(theta, delta, end, cnt)\n",
    "\n",
    "\n",
    "plt.plot(l_iin, l_cost, color=\"blue\", linewidth=1, label=\"alfa=1.49\")\n",
    "plt.legend(loc=\"upper right\")\n",
    "plt.show()  \n",
    "%time theta = ((X.transpose() * X).getI()) * X.transpose() * y.transpose()\n",
    "print(theta)"
   ]
  },
  {
   "cell_type": "code",
   "execution_count": 60,
   "metadata": {
    "collapsed": true
   },
   "outputs": [],
   "source": [
    "! mv ex1data2.txt biggerdata.txt"
   ]
  },
  {
   "cell_type": "code",
   "execution_count": 14,
   "metadata": {
    "collapsed": false
   },
   "outputs": [
    {
     "name": "stdout",
     "output_type": "stream",
     "text": [
      "1,1\r\n",
      "2,34\r\n"
     ]
    }
   ],
   "source": [
    "! cat data1.txt"
   ]
  },
  {
   "cell_type": "code",
   "execution_count": 44,
   "metadata": {
    "collapsed": false
   },
   "outputs": [
    {
     "name": "stdout",
     "output_type": "stream",
     "text": [
      "Writing easydata.txt\n"
     ]
    }
   ],
   "source": [
    "%%writefile easydata.txt\n",
    "1, 1\n",
    "2, 2"
   ]
  },
  {
   "cell_type": "code",
   "execution_count": 58,
   "metadata": {
    "collapsed": true
   },
   "outputs": [],
   "source": [
    "! cp easydata.txt biggerdata.txt data1.txt gradient_descent_linear/"
   ]
  },
  {
   "cell_type": "code",
   "execution_count": 63,
   "metadata": {
    "collapsed": false
   },
   "outputs": [
    {
     "data": {
      "text/plain": [
       "array([[ 0.],\n",
       "       [ 0.]])"
      ]
     },
     "execution_count": 63,
     "metadata": {},
     "output_type": "execute_result"
    }
   ],
   "source": [
    "np.zeros([2, 1])"
   ]
  }
 ],
 "metadata": {
  "anaconda-cloud": {},
  "kernelspec": {
   "display_name": "Python [default]",
   "language": "python",
   "name": "python3"
  },
  "language_info": {
   "codemirror_mode": {
    "name": "ipython",
    "version": 3
   },
   "file_extension": ".py",
   "mimetype": "text/x-python",
   "name": "python",
   "nbconvert_exporter": "python",
   "pygments_lexer": "ipython3",
   "version": "3.5.2"
  }
 },
 "nbformat": 4,
 "nbformat_minor": 1
}

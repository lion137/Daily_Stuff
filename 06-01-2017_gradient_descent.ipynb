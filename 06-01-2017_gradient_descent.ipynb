{
 "cells": [
  {
   "cell_type": "code",
   "execution_count": 6,
   "metadata": {
    "collapsed": true
   },
   "outputs": [],
   "source": [
    "import numpy as np"
   ]
  },
  {
   "cell_type": "code",
   "execution_count": 87,
   "metadata": {
    "collapsed": false
   },
   "outputs": [],
   "source": [
    "X = [1, 2, 3, 4]\n",
    "Y = np.array([1, 20, 30, 40])\n",
    "a = 0.001"
   ]
  },
  {
   "cell_type": "code",
   "execution_count": 88,
   "metadata": {
    "collapsed": false
   },
   "outputs": [
    {
     "data": {
      "text/plain": [
       "array([-0.5       , -0.16666667,  0.16666667,  0.5       ])"
      ]
     },
     "execution_count": 88,
     "metadata": {},
     "output_type": "execute_result"
    }
   ],
   "source": [
    "def scaling(x):\n",
    "    def f(e):\n",
    "        tmp0 = sum(x) / len(x)\n",
    "        tmp1 = max(x) - min(x)\n",
    "        return (e - tmp0) / tmp1\n",
    "    return np.array(list(map(f, x)))\n",
    "    \n",
    "X_scaled = scaling(X)   \n",
    "X_scaled"
   ]
  },
  {
   "cell_type": "code",
   "execution_count": 10,
   "metadata": {
    "collapsed": false
   },
   "outputs": [],
   "source": [
    "# Grad descent looking for h(x) to minimize cost func J (in notes)\n",
    "def suma(x, y, f0, f1):\n",
    "        n = len(x)\n",
    "        cnt = 0\n",
    "        s = 0\n",
    "        while cnt < n:\n",
    "            s = s + f0 + f1 * x[cnt] - y[cnt]\n",
    "            cnt += 1\n",
    "        return s\n",
    "    \n",
    "def suma1(x, y, f0, f1):\n",
    "        n = len(x)\n",
    "        cnt = 0\n",
    "        s = 0\n",
    "        while cnt < n:\n",
    "            s = s + (f0 + f1 * x[cnt] - y[cnt]) * x[cnt]\n",
    "            cnt += 1\n",
    "        return s\n",
    "def J(x, y, f0, f1):\n",
    "    n = len(x)\n",
    "    cnt = 0\n",
    "    s = 0\n",
    "    while cnt < n:\n",
    "        s = s + (f0 + f1 * x[cnt] - y[cnt])**2\n",
    "        cnt += 1\n",
    "    return (1 / (2 * n)) * s\n",
    "    \n",
    "\n",
    "def g_d(x, y, alfa):\n",
    "    af = np.array([0, 0])\n",
    "    tmp = np.array([0,0])\n",
    "    m = len(x)\n",
    "    cnt = 0\n",
    "    ma = alfa * (1 / m)\n",
    "    delta = J(x, y, af[0], af[1])\n",
    "    while delta > 0.00001:\n",
    "        #print(af0, af1, ma, suma(X, Y, af0, af1), suma1(X, Y, af0, af1) )\n",
    "        beg = J(x, y, af[0], af[1])\n",
    "        tmp0 = af[0] - (ma *  suma(x, y, af[0], af[1]))\n",
    "        tmp1 = af[1] - (ma * suma1(x, y, af[0], af[1]))\n",
    "        af = np.array([tmp0, tmp1])\n",
    "        cnt += 1\n",
    "        end = J(x, y, af[0], af[1])\n",
    "        delta = abs(end - beg)\n",
    "        if cnt < 100000 and cnt > 99990:\n",
    "            print(delta)\n",
    "        #print(af, beg, end, cnt, af[0], af[1], tmp0, tmp1)\n",
    "        #print(FI)\n",
    "    return (af, cnt)"
   ]
  },
  {
   "cell_type": "code",
   "execution_count": 15,
   "metadata": {
    "collapsed": false
   },
   "outputs": [
    {
     "name": "stdout",
     "output_type": "stream",
     "text": [
      "CPU times: user 492 ms, sys: 4 ms, total: 496 ms\n",
      "Wall time: 496 ms\n"
     ]
    },
    {
     "data": {
      "text/plain": [
       "(array([ -8.36768686,  12.48493642]), 19626)"
      ]
     },
     "execution_count": 15,
     "metadata": {},
     "output_type": "execute_result"
    }
   ],
   "source": [
    "%time g_d(X, Y, a)\n"
   ]
  },
  {
   "cell_type": "code",
   "execution_count": 90,
   "metadata": {
    "collapsed": false
   },
   "outputs": [
    {
     "data": {
      "text/plain": [
       "array([2, 4, 4])"
      ]
     },
     "execution_count": 90,
     "metadata": {},
     "output_type": "execute_result"
    }
   ],
   "source": [
    "A = np.array([[1, 2, 3], [2, 4, 4], [3, 5, 5]])\n",
    "A[0] # first index is upper index \n",
    "A[:,0] # 0 row\n",
    "A0 = np.array([[1, 1, 1]])\n",
    "np.concatenate((A0, A), axis=0)\n",
    "A[1]"
   ]
  },
  {
   "cell_type": "code",
   "execution_count": 72,
   "metadata": {
    "collapsed": false
   },
   "outputs": [],
   "source": [
    "A\n",
    "B = np.c_[np.ones(3), A]"
   ]
  },
  {
   "cell_type": "code",
   "execution_count": 89,
   "metadata": {
    "collapsed": false
   },
   "outputs": [
    {
     "name": "stdout",
     "output_type": "stream",
     "text": [
      "[[ 1.  1.  2.  3.]\n",
      " [ 1.  2.  4.  4.]\n",
      " [ 1.  3.  5.  5.]]\n"
     ]
    },
    {
     "data": {
      "text/plain": [
       "array([[ 1.,  1.,  2.,  3.],\n",
       "       [ 1.,  2.,  4.,  4.],\n",
       "       [ 1.,  3.,  5.,  5.]])"
      ]
     },
     "execution_count": 89,
     "metadata": {},
     "output_type": "execute_result"
    }
   ],
   "source": [
    "print(B)\n",
    "X1 = np.array([5, 5, 5])\n",
    "B[:, 1].dot(X1)\n",
    "B"
   ]
  },
  {
   "cell_type": "code",
   "execution_count": 102,
   "metadata": {
    "collapsed": false
   },
   "outputs": [
    {
     "name": "stdout",
     "output_type": "stream",
     "text": [
      "[ 1.  1.  1.]\n",
      "[ 1.  2.  3.]\n",
      "[ 2.  4.  5.]\n",
      "[ 3.  4.  5.]\n"
     ]
    }
   ],
   "source": [
    "i = 0\n",
    "while i < 4:\n",
    "    print(B[:, i])\n",
    "    i += 1"
   ]
  },
  {
   "cell_type": "code",
   "execution_count": 105,
   "metadata": {
    "collapsed": false
   },
   "outputs": [
    {
     "name": "stdout",
     "output_type": "stream",
     "text": [
      "[ 1.  1.  1.]\n",
      "[ 1.  2.  3.]\n",
      "[ 2.  4.  5.]\n",
      "[ 3.  4.  5.]\n"
     ]
    }
   ],
   "source": [
    "for i in B.T:\n",
    "    print(i)"
   ]
  },
  {
   "cell_type": "code",
   "execution_count": 106,
   "metadata": {
    "collapsed": true
   },
   "outputs": [],
   "source": [
    "B.T?"
   ]
  }
 ],
 "metadata": {
  "anaconda-cloud": {},
  "kernelspec": {
   "display_name": "Python [default]",
   "language": "python",
   "name": "python3"
  },
  "language_info": {
   "codemirror_mode": {
    "name": "ipython",
    "version": 3
   },
   "file_extension": ".py",
   "mimetype": "text/x-python",
   "name": "python",
   "nbconvert_exporter": "python",
   "pygments_lexer": "ipython3",
   "version": "3.5.2"
  }
 },
 "nbformat": 4,
 "nbformat_minor": 1
}

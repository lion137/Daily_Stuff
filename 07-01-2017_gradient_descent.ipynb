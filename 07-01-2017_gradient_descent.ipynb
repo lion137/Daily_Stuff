{
 "cells": [
  {
   "cell_type": "code",
   "execution_count": 1,
   "metadata": {
    "collapsed": true
   },
   "outputs": [],
   "source": [
    "import numpy as np"
   ]
  },
  {
   "cell_type": "code",
   "execution_count": 87,
   "metadata": {
    "collapsed": false
   },
   "outputs": [],
   "source": [
    "X = [1, 2, 3, 4]\n",
    "Y = np.array([1, 20, 30, 40])\n",
    "a = 0.001"
   ]
  },
  {
   "cell_type": "code",
   "execution_count": 88,
   "metadata": {
    "collapsed": false
   },
   "outputs": [
    {
     "data": {
      "text/plain": [
       "array([-0.5       , -0.16666667,  0.16666667,  0.5       ])"
      ]
     },
     "execution_count": 88,
     "metadata": {},
     "output_type": "execute_result"
    }
   ],
   "source": [
    "def scaling(x):\n",
    "    def f(e):\n",
    "        tmp0 = sum(x) / len(x)\n",
    "        tmp1 = max(x) - min(x)\n",
    "        return (e - tmp0) / tmp1\n",
    "    return np.array(list(map(f, x)))\n",
    "    \n",
    "X_scaled = scaling(X)   \n",
    "X_scaled"
   ]
  },
  {
   "cell_type": "code",
   "execution_count": 10,
   "metadata": {
    "collapsed": false
   },
   "outputs": [],
   "source": [
    "# Grad descent looking for h(x) to minimize cost func J (in notes)\n",
    "def suma(x, y, f0, f1):\n",
    "        n = len(x)\n",
    "        cnt = 0\n",
    "        s = 0\n",
    "        while cnt < n:\n",
    "            s = s + f0 + f1 * x[cnt] - y[cnt]\n",
    "            cnt += 1\n",
    "        return s\n",
    "    \n",
    "def suma1(x, y, f0, f1):\n",
    "        n = len(x)\n",
    "        cnt = 0\n",
    "        s = 0\n",
    "        while cnt < n:\n",
    "            s = s + (f0 + f1 * x[cnt] - y[cnt]) * x[cnt]\n",
    "            cnt += 1\n",
    "        return s\n",
    "def J(x, y, f0, f1):\n",
    "    n = len(x)\n",
    "    cnt = 0\n",
    "    s = 0\n",
    "    while cnt < n:\n",
    "        s = s + (f0 + f1 * x[cnt] - y[cnt])**2\n",
    "        cnt += 1\n",
    "    return (1 / (2 * n)) * s\n",
    "    \n",
    "\n",
    "def g_d(x, y, alfa):\n",
    "    af = np.array([0, 0])\n",
    "    tmp = np.array([0,0])\n",
    "    m = len(x)\n",
    "    cnt = 0\n",
    "    ma = alfa * (1 / m)\n",
    "    delta = J(x, y, af[0], af[1])\n",
    "    while delta > 0.00001:\n",
    "        #print(af0, af1, ma, suma(X, Y, af0, af1), suma1(X, Y, af0, af1) )\n",
    "        beg = J(x, y, af[0], af[1])\n",
    "        tmp0 = af[0] - (ma *  suma(x, y, af[0], af[1]))\n",
    "        tmp1 = af[1] - (ma * suma1(x, y, af[0], af[1]))\n",
    "        af = np.array([tmp0, tmp1])\n",
    "        cnt += 1\n",
    "        end = J(x, y, af[0], af[1])\n",
    "        delta = abs(end - beg)\n",
    "        if cnt < 100000 and cnt > 99990:\n",
    "            print(delta)\n",
    "        #print(af, beg, end, cnt, af[0], af[1], tmp0, tmp1)\n",
    "        #print(FI)\n",
    "    return (af, cnt)"
   ]
  },
  {
   "cell_type": "code",
   "execution_count": 15,
   "metadata": {
    "collapsed": false
   },
   "outputs": [
    {
     "name": "stdout",
     "output_type": "stream",
     "text": [
      "CPU times: user 492 ms, sys: 4 ms, total: 496 ms\n",
      "Wall time: 496 ms\n"
     ]
    },
    {
     "data": {
      "text/plain": [
       "(array([ -8.36768686,  12.48493642]), 19626)"
      ]
     },
     "execution_count": 15,
     "metadata": {},
     "output_type": "execute_result"
    }
   ],
   "source": [
    "%time g_d(X, Y, a)\n"
   ]
  },
  {
   "cell_type": "code",
   "execution_count": null,
   "metadata": {
    "collapsed": false
   },
   "outputs": [],
   "source": []
  },
  {
   "cell_type": "code",
   "execution_count": 202,
   "metadata": {
    "collapsed": false
   },
   "outputs": [
    {
     "data": {
      "text/plain": [
       "array([[1, 2, 6],\n",
       "       [2, 4, 4],\n",
       "       [3, 5, 5]])"
      ]
     },
     "execution_count": 202,
     "metadata": {},
     "output_type": "execute_result"
    }
   ],
   "source": []
  },
  {
   "cell_type": "code",
   "execution_count": 197,
   "metadata": {
    "collapsed": false
   },
   "outputs": [
    {
     "data": {
      "text/plain": [
       "array([ 1.,  2.,  3.])"
      ]
     },
     "execution_count": 197,
     "metadata": {},
     "output_type": "execute_result"
    }
   ],
   "source": [
    "B[:,1]"
   ]
  },
  {
   "cell_type": "code",
   "execution_count": 117,
   "metadata": {
    "collapsed": false
   },
   "outputs": [
    {
     "name": "stdout",
     "output_type": "stream",
     "text": [
      "[ 1.  1.  1.]\n",
      "[ 1.  2.  3.]\n",
      "[ 2.  4.  5.]\n",
      "[ 3.  4.  5.]\n"
     ]
    }
   ],
   "source": [
    "i = 0\n",
    "while i < B.shape[1]:\n",
    "    print(B[:, i])\n",
    "    i += 1"
   ]
  },
  {
   "cell_type": "markdown",
   "metadata": {},
   "source": [
    "# Multivariate Gradient Descent (Linear)"
   ]
  },
  {
   "cell_type": "code",
   "execution_count": 230,
   "metadata": {
    "collapsed": false
   },
   "outputs": [],
   "source": [
    "import matplotlib.pyplot as plt\n",
    "#A = np.array([[1, 2, 6], [2, 4, 4], [3, 5, 5]])\n",
    "#Y = np.array([6, 7, 9])\n",
    "#X = np.c_[np.ones(3), A] # adding a column of ones to feature matrix\n",
    "#alfa = 0.001\n",
    "def scaling(x):\n",
    "    def f(e):\n",
    "        tmp0 = sum(x) / len(x)\n",
    "        tmp1 = max(x) - min(x)\n",
    "        return (e - tmp0) / tmp1\n",
    "    return np.array(list(map(f, x)))\n",
    "def scalling(X):\n",
    "    def f(e):\n",
    "        tmp\n",
    "\n",
    "l_j = []\n",
    "l_i = []    \n",
    "def m_g_d(A, y, alfa):\n",
    "    \n",
    "    l = len(A)\n",
    "    X = np.c_[np.ones(l), A]\n",
    "    #tmp = np.zeros(X.shape[1])\n",
    "    tmp = np.matrix([0,0,0], dtype=np.float64)\n",
    "    #fi = np.zeros(X.shape[1])\n",
    "    theta = np.matrix([0,0,0], dtype=np.float64)\n",
    "    cnt = 0\n",
    "    m = len(X)\n",
    "    ma = alfa * (1 / m)\n",
    "    delta = J_m(X, y, theta)\n",
    "    while delta > 0.000001:\n",
    "        beg = J_m(X, y, theta)\n",
    "        for j in range(X.shape[1]):\n",
    "            tmp[:,j] = theta[:,j] - ma * float((((X * theta.transpose()) - y.transpose()).transpose()) * X[:,j])\n",
    "        theta = tmp\n",
    "        end = J_m(X, y, theta)\n",
    "        l_j.append(end)\n",
    "        l_i.append(cnt)\n",
    "        delta = abs(end - beg)\n",
    "        #print(\"delta in loop \", delta, beg, end, ma * float((((X * fi.transpose()) - y.transpose()).transpose()) * X[:,j]))\n",
    "        #print(\"fi in a loop, j \", fi, j)\n",
    "        cnt += 1\n",
    "    return (theta, cnt, end)\n",
    "\n",
    "def J_m(A, y, theta):\n",
    "    n = len(A)\n",
    "    return (1 / (2 * n)) * float(sum([x * x for x in A * theta.transpose() - y.transpose()]))"
   ]
  },
  {
   "cell_type": "code",
   "execution_count": 229,
   "metadata": {
    "collapsed": false
   },
   "outputs": [
    {
     "name": "stdout",
     "output_type": "stream",
     "text": [
      "[[ 1.00005  0.       0.     ]]\n",
      "CPU times: user 7.22 s, sys: 0 ns, total: 7.22 s\n",
      "Wall time: 7.23 s\n",
      "(matrix([[ 1.2789539 ,  0.63941301,  0.63939703]]), 21323, 0.003332632558852946)\n"
     ]
    },
    {
     "data": {
      "image/png": "[encoded data removed]",
      "text/plain": [
       "<matplotlib.figure.Figure at 0x7f7a70922908>"
      ]
     },
     "metadata": {},
     "output_type": "display_data"
    }
   ],
   "source": [
    "y = np.matrix([2, 2], dtype=np.float64)\n",
    "fi2 = np.matrix([0,0,0], dtype=np.float64)\n",
    "T1 = np.matrix([[0.5, 0.5], [0.5, 0.5]], dtype=np.float64)\n",
    "X2 = np.c_[np.ones(2), T1]\n",
    "tmp22= np.matrix([0,0,0], dtype=np.float64)\n",
    "#print(X2)\n",
    "#print(len(T1))\n",
    "#print(\"shape X2 \", X2.shape)\n",
    "#print(np.zeros(X2.shape[1]))\n",
    "#M = T1 * fi2.transpose() - y.transpose()\n",
    "tmp22[:,0] = fi2[:,0] + 1.00005\n",
    "print(tmp22)\n",
    "#(1 / (2 * len(T1))) * float(sum([x * x for x in M]))\n",
    "#print(tmp[:,2])\n",
    "#J_m(X2, y, fi2)\n",
    "%time out = m_g_d(T1, y, 0.0001)\n",
    "print(out)\n",
    "plt.plot(l_i, l_j, color=\"blue\", linewidth=1, label=\"alfa=0.00001\")\n",
    "plt.legend(loc=\"upper right\")\n",
    "plt.show()\n",
    "#(matrix([[ 0.61223704,  0.30611546,  0.30611469]]), 167022)"
   ]
  },
  {
   "cell_type": "code",
   "execution_count": 255,
   "metadata": {
    "collapsed": false
   },
   "outputs": [
    {
     "data": {
      "text/plain": [
       "matrix([[1, 1],\n",
       "        [9, 9]])"
      ]
     },
     "execution_count": 255,
     "metadata": {},
     "output_type": "execute_result"
    }
   ],
   "source": [
    "a1 = np.matrix([[1,2], [3,4]])\n",
    "a = np.c_[np.ones(2), a1]\n",
    "b = np.matrix([3, 3, 3])\n",
    "y = np.matrix([5,6])\n",
    "tes1 = np.matrix([0, 0])\n",
    "#print(type(a))\n",
    "#print(a[:,:])\n",
    "#print(a.shape[1])\n",
    "#float((((a * b.transpose()) - y.transpose()).transpose()) * a[:,0])\n",
    "#np.c_[np.ones(2), a]\n",
    "#np.matrix(list(map(lambda x : x * x, a1[:, 0])))\n",
    "ll = []\n",
    "mat  = list(map(int, (list(map(lambda x : x * x, a1[:, 0])))))\n",
    "mat2 = np.matrix(mat)\n",
    "ll.append(mat)\n",
    "ll.append(mat)\n",
    "np.matrix(ll).transpose()"
   ]
  },
  {
   "cell_type": "code",
   "execution_count": 259,
   "metadata": {
    "collapsed": false
   },
   "outputs": [
    {
     "data": {
      "text/plain": [
       "matrix([[1],\n",
       "        [3]])"
      ]
     },
     "execution_count": 259,
     "metadata": {},
     "output_type": "execute_result"
    }
   ],
   "source": [
    "a1[:,0]\n"
   ]
  },
  {
   "cell_type": "code",
   "execution_count": 99,
   "metadata": {
    "collapsed": false
   },
   "outputs": [
    {
     "name": "stdout",
     "output_type": "stream",
     "text": [
      "2\n",
      "[[ 1.  1.  2.]\n",
      " [ 1.  3.  4.]]\n",
      "7.0 [3 3 3] 0 0\n",
      "25.0 [3 3 3] 1 0\n",
      "25.0\n"
     ]
    },
    {
     "data": {
      "text/plain": [
       "25.0"
      ]
     },
     "execution_count": 99,
     "metadata": {},
     "output_type": "execute_result"
    }
   ],
   "source": [
    "x1 = np.array([[1, 2], [3, 4]])\n",
    "y1 = np.array([5, 6])\n",
    "X1 = np.c_[np.ones(2), x1]\n",
    "fi1 = np.array([3, 3, 3])\n",
    "print(len(y1))\n",
    "print(X1[:, :])\n",
    "print(Sum(fi1, X1, y1, 0))\n",
    "\n",
    "#(fi1.dot(X1[1,:]) - y1[1]) * X1[1,0]\n"
   ]
  },
  {
   "cell_type": "code",
   "execution_count": 5,
   "metadata": {
    "collapsed": false
   },
   "outputs": [
    {
     "data": {
      "text/plain": [
       "32.0"
      ]
     },
     "execution_count": 5,
     "metadata": {},
     "output_type": "execute_result"
    }
   ],
   "source": [
    "i = 0\n",
    "s = 0\n",
    "while i < 3:\n",
    "    s = s + A[i,:].dot(np.ones(3))\n",
    "    i += 1\n",
    "s "
   ]
  },
  {
   "cell_type": "code",
   "execution_count": 21,
   "metadata": {
    "collapsed": false
   },
   "outputs": [
    {
     "data": {
      "text/plain": [
       "array([[ 1.,  1.,  2.,  6.],\n",
       "       [ 1.,  2.,  4.,  4.],\n",
       "       [ 1.,  3.,  5.,  5.]])"
      ]
     },
     "execution_count": 21,
     "metadata": {},
     "output_type": "execute_result"
    }
   ],
   "source": [
    "X"
   ]
  },
  {
   "cell_type": "code",
   "execution_count": 22,
   "metadata": {
    "collapsed": false
   },
   "outputs": [
    {
     "data": {
      "text/plain": [
       "array([ 1.,  1.,  2.,  6.])"
      ]
     },
     "execution_count": 22,
     "metadata": {},
     "output_type": "execute_result"
    }
   ],
   "source": [
    "X[0, :]"
   ]
  },
  {
   "cell_type": "code",
   "execution_count": 47,
   "metadata": {
    "collapsed": false
   },
   "outputs": [
    {
     "name": "stdout",
     "output_type": "stream",
     "text": [
      "[ 0.  0.  0.  0.]\n"
     ]
    },
    {
     "data": {
      "text/plain": [
       "array([[ 1.,  1.,  2.,  6.],\n",
       "       [ 1.,  2.,  4.,  4.],\n",
       "       [ 1.,  3.,  5.,  5.]])"
      ]
     },
     "execution_count": 47,
     "metadata": {},
     "output_type": "execute_result"
    }
   ],
   "source": [
    "test = np.array(range(1, 5))\n",
    "test2 = np.array(range(6, 10))\n",
    "test3 = np.zeros(4)\n",
    "X\n",
    "print(test3)\n",
    "X"
   ]
  },
  {
   "cell_type": "code",
   "execution_count": 41,
   "metadata": {
    "collapsed": false
   },
   "outputs": [
    {
     "data": {
      "text/plain": [
       "33.0"
      ]
     },
     "execution_count": 41,
     "metadata": {},
     "output_type": "execute_result"
    }
   ],
   "source": [
    "test.dot(X[0,:])"
   ]
  },
  {
   "cell_type": "code",
   "execution_count": 48,
   "metadata": {
    "collapsed": false
   },
   "outputs": [
    {
     "data": {
      "text/plain": [
       "array([6, 7, 8, 9])"
      ]
     },
     "execution_count": 48,
     "metadata": {},
     "output_type": "execute_result"
    }
   ],
   "source": [
    "for j in range(len(test)):\n",
    "    test[j] = test2[j]\n",
    "test3 = test\n",
    "test3"
   ]
  },
  {
   "cell_type": "code",
   "execution_count": 176,
   "metadata": {
    "collapsed": false
   },
   "outputs": [
    {
     "name": "stdout",
     "output_type": "stream",
     "text": [
      "<class 'numpy.matrixlib.defmatrix.matrix'>\n",
      "[[ 1.  1.  2.]\n",
      " [ 1.  3.  4.]]\n",
      "3\n"
     ]
    },
    {
     "data": {
      "text/plain": [
       "25.0"
      ]
     },
     "execution_count": 176,
     "metadata": {},
     "output_type": "execute_result"
    }
   ],
   "source": [
    "a1 = np.matrix([[1,2], [3,4]])\n",
    "a = np.c_[np.ones(2), a1]\n",
    "b = np.matrix([3, 3, 3])\n",
    "y = np.matrix([5,6])\n",
    "tes1 = np.matrix([0, 0])\n",
    "print(type(a))\n",
    "print(a[:,:])\n",
    "print(a.shape[1])\n",
    "float((((a * b.transpose()) - y.transpose()).transpose()) * a[:,0])\n",
    "#np.c_[np.ones(2), a]"
   ]
  },
  {
   "cell_type": "code",
   "execution_count": 172,
   "metadata": {
    "collapsed": false
   },
   "outputs": [
    {
     "name": "stdout",
     "output_type": "stream",
     "text": [
      "[[5 6]]\n",
      "[[5 6]]\n",
      "[[5]\n",
      " [6]]\n",
      "(1, 2)\n",
      "(2, 1)\n",
      "(1, 2)\n",
      "[[61]]\n",
      "[matrix([], shape=(0, 2), dtype=int64) matrix([[5, 6]])]\n",
      "type of z <class 'numpy.ndarray'>\n"
     ]
    }
   ],
   "source": [
    "tes1 = y\n",
    "print(y)\n",
    "print(tes1)\n",
    "print(tes1.transpose())\n",
    "print(tes1.shape)\n",
    "print(tes1.transpose().shape)\n",
    "print(y.shape)\n",
    "print(y * tes1.transpose())\n",
    "s1, s2 = y[0:0], y[0:1]\n",
    "z = np.array([y[0:0], y[0:1]])\n",
    "print(z)\n",
    "print(\"type of z\", type(z))"
   ]
  }
 ],
 "metadata": {
  "anaconda-cloud": {},
  "kernelspec": {
   "display_name": "Python [default]",
   "language": "python",
   "name": "python3"
  },
  "language_info": {
   "codemirror_mode": {
    "name": "ipython",
    "version": 3
   },
   "file_extension": ".py",
   "mimetype": "text/x-python",
   "name": "python",
   "nbconvert_exporter": "python",
   "pygments_lexer": "ipython3",
   "version": "3.5.2"
  }
 },
 "nbformat": 4,
 "nbformat_minor": 1
}

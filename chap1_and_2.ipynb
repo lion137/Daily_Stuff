{
 "cells": [
  {
   "cell_type": "markdown",
   "metadata": {
    "collapsed": true
   },
   "source": [
    "# Foundations"
   ]
  },
  {
   "cell_type": "code",
   "execution_count": 1,
   "metadata": {
    "collapsed": true
   },
   "outputs": [],
   "source": [
    "import nltk"
   ]
  },
  {
   "cell_type": "code",
   "execution_count": 7,
   "metadata": {
    "collapsed": false
   },
   "outputs": [
    {
     "name": "stdout",
     "output_type": "stream",
     "text": [
      "showing info https://raw.githubusercontent.com/nltk/nltk_data/gh-pages/index.xml\n"
     ]
    },
    {
     "data": {
      "text/plain": [
       "True"
      ]
     },
     "execution_count": 7,
     "metadata": {},
     "output_type": "execute_result"
    }
   ],
   "source": [
    "nltk.download()"
   ]
  },
  {
   "cell_type": "code",
   "execution_count": 2,
   "metadata": {
    "collapsed": false
   },
   "outputs": [
    {
     "name": "stdout",
     "output_type": "stream",
     "text": [
      "*** Introductory Examples for the NLTK Book ***\n",
      "Loading text1, ..., text9 and sent1, ..., sent9\n",
      "Type the name of the text or sentence to view it.\n",
      "Type: 'texts()' or 'sents()' to list the materials.\n",
      "text1: Moby Dick by Herman Melville 1851\n",
      "text2: Sense and Sensibility by Jane Austen 1811\n",
      "text3: The Book of Genesis\n",
      "text4: Inaugural Address Corpus\n",
      "text5: Chat Corpus\n",
      "text6: Monty Python and the Holy Grail\n",
      "text7: Wall Street Journal\n",
      "text8: Personals Corpus\n",
      "text9: The Man Who Was Thursday by G . K . Chesterton 1908\n"
     ]
    }
   ],
   "source": [
    "from nltk.book import *"
   ]
  },
  {
   "cell_type": "code",
   "execution_count": 3,
   "metadata": {
    "collapsed": false
   },
   "outputs": [
    {
     "data": {
      "text/plain": [
       "<Text: Moby Dick by Herman Melville 1851>"
      ]
     },
     "execution_count": 3,
     "metadata": {},
     "output_type": "execute_result"
    }
   ],
   "source": [
    "text1"
   ]
  },
  {
   "cell_type": "code",
   "execution_count": 5,
   "metadata": {
    "collapsed": false
   },
   "outputs": [
    {
     "name": "stdout",
     "output_type": "stream",
     "text": [
      "Displaying 11 of 11 matches:\n",
      "ong the former , one was of a most monstrous size . ... This came towards us , \n",
      "ON OF THE PSALMS . \" Touching that monstrous bulk of the whale or ork we have r\n",
      "ll over with a heathenish array of monstrous clubs and spears . Some were thick\n",
      "d as you gazed , and wondered what monstrous cannibal and savage could ever hav\n",
      "that has survived the flood ; most monstrous and most mountainous ! That Himmal\n",
      "they might scout at Moby Dick as a monstrous fable , or still worse and more de\n",
      "th of Radney .'\" CHAPTER 55 Of the Monstrous Pictures of Whales . I shall ere l\n",
      "ing Scenes . In connexion with the monstrous pictures of whales , I am strongly\n",
      "ere to enter upon those still more monstrous stories of them which are to be fo\n",
      "ght have been rummaged out of this monstrous cabinet there is no telling . But \n",
      "of Whale - Bones ; for Whales of a monstrous size are oftentimes cast up dead u\n"
     ]
    }
   ],
   "source": [
    "text1.concordance(\"monstrous\")"
   ]
  },
  {
   "cell_type": "code",
   "execution_count": 6,
   "metadata": {
    "collapsed": false
   },
   "outputs": [
    {
     "name": "stdout",
     "output_type": "stream",
     "text": [
      "Displaying 25 of 38 matches:\n",
      "ay when they were created . And Adam lived an hundred and thirty years , and be\n",
      "ughters : And all the days that Adam lived were nine hundred and thirty yea and\n",
      "nd thirty yea and he died . And Seth lived an hundred and five years , and bega\n",
      "ve years , and begat Enos : And Seth lived after he begat Enos eight hundred an\n",
      "welve years : and he died . And Enos lived ninety years , and begat Cainan : An\n",
      " years , and begat Cainan : And Enos lived after he begat Cainan eight hundred \n",
      "ive years : and he died . And Cainan lived seventy years and begat Mahalaleel :\n",
      "rs and begat Mahalaleel : And Cainan lived after he begat Mahalaleel eight hund\n",
      "years : and he died . And Mahalaleel lived sixty and five years , and begat Jar\n",
      "s , and begat Jared : And Mahalaleel lived after he begat Jared eight hundred a\n",
      "and five yea and he died . And Jared lived an hundred sixty and two years , and\n",
      "o years , and he begat Eno And Jared lived after he begat Enoch eight hundred y\n",
      " and two yea and he died . And Enoch lived sixty and five years , and begat Met\n",
      " ; for God took him . And Methuselah lived an hundred eighty and seven years , \n",
      " , and begat Lamech . And Methuselah lived after he begat Lamech seven hundred \n",
      "nd nine yea and he died . And Lamech lived an hundred eighty and two years , an\n",
      "ch the LORD hath cursed . And Lamech lived after he begat Noah five hundred nin\n",
      "naan shall be his servant . And Noah lived after the flood three hundred and fi\n",
      "xad two years after the flo And Shem lived after he begat Arphaxad five hundred\n",
      "at sons and daughters . And Arphaxad lived five and thirty years , and begat Sa\n",
      "ars , and begat Salah : And Arphaxad lived after he begat Salah four hundred an\n",
      "begat sons and daughters . And Salah lived thirty years , and begat Eber : And \n",
      "y years , and begat Eber : And Salah lived after he begat Eber four hundred and\n",
      " begat sons and daughters . And Eber lived four and thirty years , and begat Pe\n",
      "y years , and begat Peleg : And Eber lived after he begat Peleg four hundred an\n"
     ]
    }
   ],
   "source": [
    "text3.concordance(\"lived\")"
   ]
  },
  {
   "cell_type": "code",
   "execution_count": 8,
   "metadata": {
    "collapsed": false
   },
   "outputs": [
    {
     "name": "stdout",
     "output_type": "stream",
     "text": [
      "wise abundant domineering impalpable reliable maddens puzzled uncommon\n",
      "mean perilous imperial few tyrannical determined singular doleful part\n",
      "curious candid mystifying\n"
     ]
    }
   ],
   "source": [
    "text1.similar(\"monstrous\")"
   ]
  },
  {
   "cell_type": "code",
   "execution_count": 9,
   "metadata": {
    "collapsed": false
   },
   "outputs": [
    {
     "name": "stdout",
     "output_type": "stream",
     "text": [
      "a_lucky a_pretty is_pretty am_glad be_glad\n"
     ]
    }
   ],
   "source": [
    "text2.common_contexts([\"monstrous\", \"very\"])"
   ]
  },
  {
   "cell_type": "code",
   "execution_count": 10,
   "metadata": {
    "collapsed": false
   },
   "outputs": [
    {
     "data": {
      "image/png": "[encoded data removed]",
      "text/plain": [
       "<matplotlib.figure.Figure at 0x7fd8cf402828>"
      ]
     },
     "metadata": {},
     "output_type": "display_data"
    }
   ],
   "source": [
    "text4.dispersion_plot([\"citizens\", \"democracy\", \"freedom\", \"duties\"])"
   ]
  },
  {
   "cell_type": "code",
   "execution_count": 11,
   "metadata": {
    "collapsed": false
   },
   "outputs": [
    {
     "data": {
      "image/png": "[encoded data removed]",
      "text/plain": [
       "<matplotlib.figure.Figure at 0x7fd8c85689e8>"
      ]
     },
     "metadata": {},
     "output_type": "display_data"
    }
   ],
   "source": [
    "text4.dispersion_plot([\"sex\", \"discrimination\", \"government\"])"
   ]
  },
  {
   "cell_type": "code",
   "execution_count": 13,
   "metadata": {
    "collapsed": false
   },
   "outputs": [
    {
     "ename": "AttributeError",
     "evalue": "'Text' object has no attribute 'generate'",
     "output_type": "error",
     "traceback": [
      "\u001b[0;31m---------------------------------------------------------------------------\u001b[0m",
      "\u001b[0;31mAttributeError\u001b[0m                            Traceback (most recent call last)",
      "\u001b[0;32m<ipython-input-13-858a60679bf8>\u001b[0m in \u001b[0;36m<module>\u001b[0;34m()\u001b[0m\n\u001b[0;32m----> 1\u001b[0;31m \u001b[0mtext1\u001b[0m\u001b[0;34m.\u001b[0m\u001b[0mgenerate\u001b[0m\u001b[0;34m(\u001b[0m\u001b[0;34m)\u001b[0m\u001b[0;34m\u001b[0m\u001b[0m\n\u001b[0m",
      "\u001b[0;31mAttributeError\u001b[0m: 'Text' object has no attribute 'generate'"
     ]
    }
   ],
   "source": [
    "text1.generate()"
   ]
  },
  {
   "cell_type": "code",
   "execution_count": 14,
   "metadata": {
    "collapsed": false
   },
   "outputs": [
    {
     "data": {
      "text/plain": [
       "44764"
      ]
     },
     "execution_count": 14,
     "metadata": {},
     "output_type": "execute_result"
    }
   ],
   "source": [
    "len(text3)"
   ]
  },
  {
   "cell_type": "code",
   "execution_count": 34,
   "metadata": {
    "collapsed": false
   },
   "outputs": [],
   "source": [
    "len(sorted(set(text3)))\n",
    "def lexical_diversity(text):\n",
    "    return len(text) / len(set(text))\n",
    "def percentage(word, text):\n",
    "    return 100 * text.count(word) / len(set(text))"
   ]
  },
  {
   "cell_type": "code",
   "execution_count": 20,
   "metadata": {
    "collapsed": false
   },
   "outputs": [
    {
     "data": {
      "text/plain": [
       "16.050197203298673"
      ]
     },
     "execution_count": 20,
     "metadata": {},
     "output_type": "execute_result"
    }
   ],
   "source": [
    "lexical_diversity(text3)"
   ]
  },
  {
   "cell_type": "code",
   "execution_count": 33,
   "metadata": {
    "collapsed": false
   },
   "outputs": [
    {
     "data": {
      "text/plain": [
       "26"
      ]
     },
     "execution_count": 33,
     "metadata": {},
     "output_type": "execute_result"
    }
   ],
   "source": [
    "text3.count('no')"
   ]
  },
  {
   "cell_type": "code",
   "execution_count": 35,
   "metadata": {
    "collapsed": false
   },
   "outputs": [
    {
     "data": {
      "text/plain": [
       "0.932233775546791"
      ]
     },
     "execution_count": 35,
     "metadata": {},
     "output_type": "execute_result"
    }
   ],
   "source": [
    "percentage('no', text3)"
   ]
  },
  {
   "cell_type": "code",
   "execution_count": 36,
   "metadata": {
    "collapsed": true
   },
   "outputs": [],
   "source": [
    "fr1 = FreqDist(text1)"
   ]
  },
  {
   "cell_type": "code",
   "execution_count": 48,
   "metadata": {
    "collapsed": false
   },
   "outputs": [
    {
     "data": {
      "text/plain": [
       "['!',\n",
       " '!\"',\n",
       " '!\"--',\n",
       " \"!'\",\n",
       " '!\\'\"',\n",
       " '!)',\n",
       " '!)\"',\n",
       " '!*',\n",
       " '!--',\n",
       " '!--\"',\n",
       " \"!--'\",\n",
       " '\"',\n",
       " '\"\\'',\n",
       " '\"--',\n",
       " '\"...',\n",
       " '\";',\n",
       " '$',\n",
       " '&',\n",
       " \"'\",\n",
       " \"',\",\n",
       " \"',--\",\n",
       " \"'-\",\n",
       " \"'--\",\n",
       " \"';\",\n",
       " '(',\n",
       " ')',\n",
       " '),',\n",
       " ')--',\n",
       " ').',\n",
       " ').--',\n",
       " '):',\n",
       " ');',\n",
       " ');--',\n",
       " '*',\n",
       " ',',\n",
       " ',\"',\n",
       " ',\"--',\n",
       " \",'\",\n",
       " \",'--\",\n",
       " ',)',\n",
       " ',*',\n",
       " ',--',\n",
       " ',--\"',\n",
       " \",--'\",\n",
       " '-',\n",
       " '--',\n",
       " '--\"',\n",
       " \"--'\",\n",
       " '--\\'\"',\n",
       " '--(']"
      ]
     },
     "execution_count": 48,
     "metadata": {},
     "output_type": "execute_result"
    }
   ],
   "source": [
    "voc = fr1.keys()\n",
    "voc_list = sorted(set(list(voc)))\n",
    "voc_list[:50]"
   ]
  },
  {
   "cell_type": "code",
   "execution_count": 52,
   "metadata": {
    "collapsed": false
   },
   "outputs": [
    {
     "data": {
      "text/plain": [
       "['shock',\n",
       " 'Donavan',\n",
       " 'troublesome',\n",
       " 'firmly',\n",
       " 'undeserving',\n",
       " 'intend',\n",
       " 'Folly',\n",
       " 'ascertained',\n",
       " 'SIR',\n",
       " 'finished',\n",
       " 'tardy',\n",
       " 'fortunate',\n",
       " 'imprudently',\n",
       " 'injury',\n",
       " 'style',\n",
       " 'US',\n",
       " 'reports',\n",
       " 'varying',\n",
       " 'superiority',\n",
       " 'proportioned',\n",
       " 'remind',\n",
       " 'busy',\n",
       " 'stronger',\n",
       " 'humored',\n",
       " 'navy',\n",
       " 'weddings',\n",
       " 'cod',\n",
       " 'Imagine',\n",
       " 'owners',\n",
       " 'standard',\n",
       " 'treatment',\n",
       " 'bind',\n",
       " 'unforeseen',\n",
       " 'blush',\n",
       " 'understand',\n",
       " 'While',\n",
       " 'bury',\n",
       " 'wandered',\n",
       " 'dining',\n",
       " 'approach']"
      ]
     },
     "execution_count": 52,
     "metadata": {},
     "output_type": "execute_result"
    }
   ],
   "source": [
    "fr2 = FreqDist(text2)\n",
    "list(set(fr2))[:40]"
   ]
  },
  {
   "cell_type": "code",
   "execution_count": 53,
   "metadata": {
    "collapsed": false
   },
   "outputs": [
    {
     "data": {
      "text/plain": [
       "<Text: Sense and Sensibility by Jane Austen 1811>"
      ]
     },
     "execution_count": 53,
     "metadata": {},
     "output_type": "execute_result"
    }
   ],
   "source": [
    "text2"
   ]
  },
  {
   "cell_type": "code",
   "execution_count": 55,
   "metadata": {
    "collapsed": false
   },
   "outputs": [
    {
     "data": {
      "text/plain": [
       "906"
      ]
     },
     "execution_count": 55,
     "metadata": {},
     "output_type": "execute_result"
    }
   ],
   "source": [
    "text1.count('whale')"
   ]
  },
  {
   "cell_type": "code",
   "execution_count": 56,
   "metadata": {
    "collapsed": false
   },
   "outputs": [
    {
     "data": {
      "image/png": "[encoded data removed]",
      "text/plain": [
       "<matplotlib.figure.Figure at 0x7fd8c831eef0>"
      ]
     },
     "metadata": {},
     "output_type": "display_data"
    }
   ],
   "source": [
    "fr1.plot(50, cumulative=True)"
   ]
  },
  {
   "cell_type": "code",
   "execution_count": 61,
   "metadata": {
    "collapsed": true
   },
   "outputs": [],
   "source": [
    "# Searching for big words\n",
    "B = set(text5)"
   ]
  },
  {
   "cell_type": "code",
   "execution_count": 64,
   "metadata": {
    "collapsed": false
   },
   "outputs": [
    {
     "data": {
      "text/plain": [
       "['!!!!!!!!!!!!!!!!',\n",
       " '!!!!!!!!!!!!!!!!!!!!!!',\n",
       " '!!!!!!!!!!!!!!!!!!!!!!!',\n",
       " '!!!!!!!!!!!!!!!!!!!!!!!!!!!',\n",
       " '!!!!!!!!!!!!!!!!!!!!!!!!!!!!',\n",
       " '!!!!!!!!!!!!!!!!!!!!!!!!!!!!!!!!!!!!!!!!!!!!!!!!!!!!!!',\n",
       " '#talkcity_adults',\n",
       " '(((((((((((((((((',\n",
       " '((((((((((((((((((',\n",
       " '((((((((((((((((((((',\n",
       " '(((((((((((((((((((((',\n",
       " '(((((((((((((((((((((((',\n",
       " '((((((((((((((((((((((((',\n",
       " '(((((((((((((((((((((((((',\n",
       " '((((((((((((((((((((((((((',\n",
       " ')))))))))))))))))',\n",
       " ')))))))))))))))))))',\n",
       " ')))))))))))))))))))))',\n",
       " '))))))))))))))))))))))',\n",
       " '))))))))))))))))))))))))))))',\n",
       " ')))))))))))))))))))))))))))))))',\n",
       " '--------------------',\n",
       " '.(..(.vMp3 v1.7.4.).)',\n",
       " '.(..(.vMp3 vi.p.t.)..).',\n",
       " '................',\n",
       " '..................',\n",
       " '...................',\n",
       " '....................',\n",
       " '........................',\n",
       " '..............................',\n",
       " '.A.n.a.c.?.n.?.a.',\n",
       " '//www.wunderground.com/cgi-bin/findweather/getForecast?query=95953#FIR',\n",
       " '<3333333333333333',\n",
       " '<33333333333333333',\n",
       " 'BAAAAALLLLLLLLIIIIIIINNNNNNNNNNN',\n",
       " 'Bloooooooooooood',\n",
       " 'HHEEYYYYYYYYYYYYYYYYYYYYYYYYYYYYYYYYYYYYYYYYYYYYYYY',\n",
       " 'HolocaustYourMom',\n",
       " 'Mooooooooooooooooooooooooooo',\n",
       " 'Nooooooooooooooo',\n",
       " 'WEEEEEEEEEEEEEEEEEE',\n",
       " '[[[[[[[[[[[[[[[[[[',\n",
       " ']]]]]]]]]]]]]]]]]]]]]',\n",
       " 'aaaaaaaaaaaaaaaaa',\n",
       " 'agurlwithbigguns',\n",
       " 'aiiiiiiiiiiiiiiiiiiiiiiii',\n",
       " 'anyyyyyyyyyyyyyyyyy',\n",
       " 'backfrontsidewaysandallaroundtheworld',\n",
       " 'bbbbbyyyyyyyeeeeeeeee',\n",
       " 'boooooooooooglyyyyyy',\n",
       " 'bwahahahahahahahahahaha',\n",
       " 'cooooooooookiiiiiiiiiiiieeeeeeeeeeee',\n",
       " 'eeeeeeeeewwwwwwww',\n",
       " 'grrrrrrrrrrrrrrrrr',\n",
       " 'hahahahahahahahahahahahahahahaha',\n",
       " 'heeheeheeheeheehee',\n",
       " 'heyyyyyyyyyyyyyy',\n",
       " 'http://forums.talkcity.com/tc-adults/start ',\n",
       " 'http://www.shadowbots.com',\n",
       " 'huuuuuuuuuuuuuuuuuuuuuuuuuuuuuuuuuuugZ',\n",
       " 'iamahotniplickme',\n",
       " 'iamahotnipwithhotnippics',\n",
       " 'iamahotnipwithpics',\n",
       " 'lllllllliiiiiiiiiikeee',\n",
       " 'llloooozzzzeeerrrrzzzzzzzzzzzzzzzzzzzzzzzzzzzzzzzzzzzzzzzzzzzzzzzzz',\n",
       " 'miiiiiiiiiiiiinnnnnnnnnnneeeeeeeeee',\n",
       " 'miiiiiinnnnnnnnnneeeeeeee',\n",
       " 'mikeeeeeeeeeeeeeeeeeeeeeeeeee',\n",
       " 'mmmmmmmmiiiiiiiiinnnnnnnnneeeeeeee',\n",
       " 'muahssssssssssssssss',\n",
       " 'muahsssssssssssssssssss',\n",
       " 'niteeeeeeeeeeeeeeeeeee',\n",
       " 'ohhhhhhhhhhhhhhhh',\n",
       " 'oooooooooooglyyyyyyyy',\n",
       " 'oooooooooooooonnnnnnnnnnnneeeeeeeeeeeeeeesssssssss',\n",
       " 'raaaaaaaaaaaaaaaaaaaaaaaaaaaaa',\n",
       " 'tatatatnanaantatat',\n",
       " 'weeeeeeeeeeeeeeee',\n",
       " 'weeeeeeeeeeeeeeeeeeeeeeeeed',\n",
       " 'wheeeeeeeeeeeeeeeeeeeeeeeeeeeeeeeeee',\n",
       " 'woooooooooaaaahhhhhhhhhhhh',\n",
       " 'wooooooooooooohoooooooooooooooo',\n",
       " 'www.Wunderground.com',\n",
       " 'yuuuuuuuuuuuummmmmmmmmmmm']"
      ]
     },
     "execution_count": 64,
     "metadata": {},
     "output_type": "execute_result"
    }
   ],
   "source": [
    "l_words = [word for word in B if len(word) > 15]\n",
    "sorted(l_words)"
   ]
  },
  {
   "cell_type": "code",
   "execution_count": 65,
   "metadata": {
    "collapsed": true
   },
   "outputs": [],
   "source": [
    "# Ups:)"
   ]
  },
  {
   "cell_type": "code",
   "execution_count": 66,
   "metadata": {
    "collapsed": false
   },
   "outputs": [
    {
     "data": {
      "text/plain": [
       "[]"
      ]
     },
     "execution_count": 66,
     "metadata": {},
     "output_type": "execute_result"
    }
   ],
   "source": [
    "B = set(text3)\n",
    "l_words = [word for word in B if len(word) > 15]\n",
    "sorted(l_words)"
   ]
  },
  {
   "cell_type": "code",
   "execution_count": 70,
   "metadata": {
    "collapsed": false
   },
   "outputs": [
    {
     "data": {
      "text/plain": [
       "['CIRCUMNAVIGATION',\n",
       " 'Physiognomically',\n",
       " 'apprehensiveness',\n",
       " 'cannibalistically',\n",
       " 'characteristically',\n",
       " 'circumnavigating',\n",
       " 'circumnavigation',\n",
       " 'circumnavigations',\n",
       " 'comprehensiveness',\n",
       " 'hermaphroditical',\n",
       " 'indiscriminately',\n",
       " 'indispensableness',\n",
       " 'irresistibleness',\n",
       " 'physiognomically',\n",
       " 'preternaturalness',\n",
       " 'responsibilities',\n",
       " 'simultaneousness',\n",
       " 'subterraneousness',\n",
       " 'supernaturalness',\n",
       " 'superstitiousness',\n",
       " 'uncomfortableness',\n",
       " 'uncompromisedness',\n",
       " 'undiscriminating',\n",
       " 'uninterpenetratingly']"
      ]
     },
     "execution_count": 70,
     "metadata": {},
     "output_type": "execute_result"
    }
   ],
   "source": [
    "B = set(text1)\n",
    "l_words = [word for word in B if len(word) > 15]\n",
    "sorted(l_words)"
   ]
  },
  {
   "cell_type": "code",
   "execution_count": 71,
   "metadata": {
    "collapsed": false
   },
   "outputs": [
    {
     "data": {
      "text/plain": [
       "['#14-19teens',\n",
       " '#talkcity_adults',\n",
       " '((((((((((',\n",
       " '........',\n",
       " 'Question',\n",
       " 'actually',\n",
       " 'anything',\n",
       " 'computer',\n",
       " 'cute.-ass',\n",
       " 'everyone',\n",
       " 'football',\n",
       " 'innocent',\n",
       " 'listening',\n",
       " 'remember',\n",
       " 'seriously',\n",
       " 'something',\n",
       " 'together',\n",
       " 'tomorrow',\n",
       " 'watching']"
      ]
     },
     "execution_count": 71,
     "metadata": {},
     "output_type": "execute_result"
    }
   ],
   "source": [
    "fdist5 = FreqDist(text5)\n",
    "sorted([w for w in set(text5) if len(w) > 7 and fdist5[w] > 7])"
   ]
  },
  {
   "cell_type": "markdown",
   "metadata": {},
   "source": [
    "# Collocations and Bigrams"
   ]
  },
  {
   "cell_type": "markdown",
   "metadata": {},
   "source": [
    "A collocation is a sequence of words that occur together unusually often. Thus red\n",
    "wine is a collocation, whereas the wine is not. A characteristic of collocations is that\n",
    "they are resistant to substitution with words that have similar senses; for example,\n",
    "maroon wine sounds very odd.\n",
    "To get a handle on collocations, we start off by extracting from a text a list of word\n",
    "pairs, also known as bigrams. This is easily accomplished with the function bigrams() :"
   ]
  },
  {
   "cell_type": "code",
   "execution_count": 73,
   "metadata": {
    "collapsed": false
   },
   "outputs": [
    {
     "name": "stdout",
     "output_type": "stream",
     "text": [
      "United States; fellow citizens; four years; years ago; Federal\n",
      "Government; General Government; American people; Vice President; Old\n",
      "World; Almighty God; Fellow citizens; Chief Magistrate; Chief Justice;\n",
      "God bless; every citizen; Indian tribes; public debt; one another;\n",
      "foreign nations; political parties\n"
     ]
    }
   ],
   "source": [
    "text4.collocations()"
   ]
  },
  {
   "cell_type": "code",
   "execution_count": 74,
   "metadata": {
    "collapsed": false
   },
   "outputs": [
    {
     "name": "stdout",
     "output_type": "stream",
     "text": [
      "BLACK KNIGHT; clop clop; HEAD KNIGHT; mumble mumble; Holy Grail;\n",
      "squeak squeak; FRENCH GUARD; saw saw; Sir Robin; Run away; CARTOON\n",
      "CHARACTER; King Arthur; Iesu domine; Pie Iesu; DEAD PERSON; Round\n",
      "Table; clap clap; OLD MAN; dramatic chord; dona eis\n"
     ]
    }
   ],
   "source": [
    "text6.collocations()"
   ]
  },
  {
   "cell_type": "markdown",
   "metadata": {},
   "source": [
    "'''\n",
    "fdist = FreqDist(samples) Create a frequency distribution containing the given samples\n",
    "fdist.inc(sample) Increment the count for this sample\n",
    "fdist['monstrous'] Count of the number of times a given sample occurred\n",
    "fdist.freq('monstrous') Frequency of a given sample\n",
    "fdist.N() Total number of samples\n",
    "fdist.keys() The samples sorted in order of decreasing frequency\n",
    "for sample in fdist: Iterate over the samples, in order of decreasing frequency\n",
    "fdist.max() Sample with the greatest count\n",
    "fdist.tabulate() Tabulate the frequency distribution\n",
    "fdist.plot() Graphical plot of the frequency distribution\n",
    "fdist.plot(cumulative=True) Cumulative plot of the frequency distribution\n",
    "fdist1 < fdist2 Test if samples in fdist1 occur less frequently than in fdist2\n",
    "\n",
    "'''\n"
   ]
  },
  {
   "cell_type": "markdown",
   "metadata": {},
   "source": [
    "# Chap2"
   ]
  },
  {
   "cell_type": "code",
   "execution_count": 2,
   "metadata": {
    "collapsed": false
   },
   "outputs": [
    {
     "data": {
      "text/plain": [
       "['austen-emma.txt',\n",
       " 'austen-persuasion.txt',\n",
       " 'austen-sense.txt',\n",
       " 'bible-kjv.txt',\n",
       " 'blake-poems.txt',\n",
       " 'bryant-stories.txt',\n",
       " 'burgess-busterbrown.txt',\n",
       " 'carroll-alice.txt',\n",
       " 'chesterton-ball.txt',\n",
       " 'chesterton-brown.txt',\n",
       " 'chesterton-thursday.txt',\n",
       " 'edgeworth-parents.txt',\n",
       " 'melville-moby_dick.txt',\n",
       " 'milton-paradise.txt',\n",
       " 'shakespeare-caesar.txt',\n",
       " 'shakespeare-hamlet.txt',\n",
       " 'shakespeare-macbeth.txt',\n",
       " 'whitman-leaves.txt']"
      ]
     },
     "execution_count": 2,
     "metadata": {},
     "output_type": "execute_result"
    }
   ],
   "source": [
    "nltk.corpus.gutenberg.fileids()"
   ]
  },
  {
   "cell_type": "code",
   "execution_count": 4,
   "metadata": {
    "collapsed": false
   },
   "outputs": [
    {
     "data": {
      "text/plain": [
       "192427"
      ]
     },
     "execution_count": 4,
     "metadata": {},
     "output_type": "execute_result"
    }
   ],
   "source": [
    "emma = nltk.corpus.gutenberg.words('austen-emma.txt')\n",
    "len(emma)"
   ]
  },
  {
   "cell_type": "code",
   "execution_count": 5,
   "metadata": {
    "collapsed": true
   },
   "outputs": [],
   "source": [
    "from nltk import *"
   ]
  },
  {
   "cell_type": "code",
   "execution_count": 7,
   "metadata": {
    "collapsed": false
   },
   "outputs": [],
   "source": [
    "# make it more accessible for methods\n",
    "emma = nltk.Text(nltk.corpus.gutenberg.words('austen-emma.txt'))"
   ]
  },
  {
   "cell_type": "code",
   "execution_count": 8,
   "metadata": {
    "collapsed": false
   },
   "outputs": [
    {
     "name": "stdout",
     "output_type": "stream",
     "text": [
      "Frank Churchill; Miss Woodhouse; Miss Bates; Jane Fairfax; Miss\n",
      "Fairfax; every thing; young man; every body; great deal; dare say;\n",
      "John Knightley; Maple Grove; Miss Smith; Miss Taylor; Robert Martin;\n",
      "Colonel Campbell; Box Hill; said Emma; Harriet Smith; William Larkins\n"
     ]
    }
   ],
   "source": [
    "emma.collocations()"
   ]
  },
  {
   "cell_type": "code",
   "execution_count": 9,
   "metadata": {
    "collapsed": false
   },
   "outputs": [
    {
     "name": "stdout",
     "output_type": "stream",
     "text": [
      "Displaying 25 of 435 matches:\n",
      "of what she had lost . The event had every promise of happiness for her friend \n",
      "he want of Miss Taylor would be felt every hour of every day . She recalled her\n",
      "s Taylor would be felt every hour of every day . She recalled her past kindness\n",
      "eculiarly interested in herself , in every pleasure , every scheme of hers -- o\n",
      "ted in herself , in every pleasure , every scheme of hers -- one to whom she co\n",
      " hers -- one to whom she could speak every thought as it arose , and who had su\n",
      "ous man , easily depressed ; fond of every body that he was used to , and hatin\n",
      "to part with them ; hating change of every kind . Matrimony , as the origin of \n",
      " as her not being thought perfect by every body . \" Emma knows I never flatter \n",
      "ou , for we all behaved charmingly . Every body was punctual , every body in th\n",
      "armingly . Every body was punctual , every body in their best looks : not a tea\n",
      "ile apart , and were sure of meeting every day .\" \" Dear Emma bears every thing\n",
      "eting every day .\" \" Dear Emma bears every thing so well ,\" said her father . \"\n",
      "f to feel so much pain as pleasure . Every friend of Miss Taylor must be glad t\n",
      "nd after such success , you know !-- Every body said that Mr . Weston would nev\n",
      "r ,' and saying it again to yourself every now and then afterwards , why do you\n",
      "eart and sweet temper made him think every thing due to her in return for the g\n",
      "ing a new period of existence , with every probability of greater happiness tha\n",
      " so deservedly dear . He saw his son every year in London , and was proud of hi\n",
      "r on the occasion . For a few days , every morning visit in Highbury included s\n",
      "nse , and a most welcome addition to every source and every expression of congr\n",
      "welcome addition to every source and every expression of congratulation which h\n",
      "eft her at Randalls in the centre of every domestic comfort , or saw her go awa\n",
      " , Mr . Woodhouse hoped to influence every visitor of the newly married pair ; \n",
      " , was a very old lady , almost past every thing but tea and quadrille . She li\n"
     ]
    }
   ],
   "source": [
    "emma.concordance('every')"
   ]
  },
  {
   "cell_type": "code",
   "execution_count": 10,
   "metadata": {
    "collapsed": true
   },
   "outputs": [],
   "source": [
    "from nltk.corpus import gutenberg"
   ]
  },
  {
   "cell_type": "code",
   "execution_count": 11,
   "metadata": {
    "collapsed": true
   },
   "outputs": [],
   "source": [
    "gutenberg?"
   ]
  },
  {
   "cell_type": "code",
   "execution_count": 14,
   "metadata": {
    "collapsed": false
   },
   "outputs": [
    {
     "data": {
      "text/plain": [
       "['austen-emma.txt',\n",
       " 'austen-persuasion.txt',\n",
       " 'austen-sense.txt',\n",
       " 'bible-kjv.txt',\n",
       " 'blake-poems.txt',\n",
       " 'bryant-stories.txt',\n",
       " 'burgess-busterbrown.txt',\n",
       " 'carroll-alice.txt',\n",
       " 'chesterton-ball.txt',\n",
       " 'chesterton-brown.txt',\n",
       " 'chesterton-thursday.txt',\n",
       " 'edgeworth-parents.txt',\n",
       " 'melville-moby_dick.txt',\n",
       " 'milton-paradise.txt',\n",
       " 'shakespeare-caesar.txt',\n",
       " 'shakespeare-hamlet.txt',\n",
       " 'shakespeare-macbeth.txt',\n",
       " 'whitman-leaves.txt']"
      ]
     },
     "execution_count": 14,
     "metadata": {},
     "output_type": "execute_result"
    }
   ],
   "source": [
    "gutenberg.fileids()"
   ]
  },
  {
   "cell_type": "code",
   "execution_count": 15,
   "metadata": {
    "collapsed": true
   },
   "outputs": [],
   "source": [
    "gutenberg.words?"
   ]
  },
  {
   "cell_type": "raw",
   "metadata": {},
   "source": [
    "Signature: gutenberg.words(fileids=None)\n",
    "Docstring:\n",
    ":return: the given file(s) as a list of words\n",
    "    and punctuation symbols.\n",
    ":rtype: list(str)\n",
    "File:      ~/anaconda3/lib/python3.5/site-packages/nltk/corpus/reader/plaintext.py\n",
    "Type:      method"
   ]
  },
  {
   "cell_type": "code",
   "execution_count": 27,
   "metadata": {
    "collapsed": false
   },
   "outputs": [
    {
     "data": {
      "text/plain": [
       "7752"
      ]
     },
     "execution_count": 27,
     "metadata": {},
     "output_type": "execute_result"
    }
   ],
   "source": [
    "emma = gutenberg.words('austen-emma.txt')\n",
    "len(gutenberg.raw('austen-emma.txt'))\n",
    "len(emma)\n",
    "len(gutenberg.sents('austen-emma.txt'))"
   ]
  },
  {
   "cell_type": "markdown",
   "metadata": {},
   "source": [
    "# Load own corpus"
   ]
  },
  {
   "cell_type": "code",
   "execution_count": 35,
   "metadata": {
    "collapsed": false
   },
   "outputs": [
    {
     "name": "stdout",
     "output_type": "stream",
     "text": [
      "['coca-samples-lexicon.txt', 'now-samples-lexicon.txt']\n"
     ]
    },
    {
     "data": {
      "text/plain": [
       "['wID', 'w1cs', 'lemma', 'PoS', '----', '----', '----', ...]"
      ]
     },
     "execution_count": 35,
     "metadata": {},
     "output_type": "execute_result"
    }
   ],
   "source": [
    "from nltk.corpus import PlaintextCorpusReader\n",
    "corpus_root = '/home/lion/projects/python/nlp/texts'\n",
    "wordlists = PlaintextCorpusReader(corpus_root, '.*')\n",
    "print(wordlists.fileids())\n",
    "wordlists.words('coca-samples-lexicon.txt')\n"
   ]
  },
  {
   "cell_type": "code",
   "execution_count": 37,
   "metadata": {
    "collapsed": false
   },
   "outputs": [
    {
     "data": {
      "text/plain": [
       "FreqDist({'-': 2,\n",
       "          '.': 1,\n",
       "          'a': 2,\n",
       "          'c': 3,\n",
       "          'e': 2,\n",
       "          'i': 1,\n",
       "          'l': 2,\n",
       "          'm': 1,\n",
       "          'n': 1,\n",
       "          'o': 2,\n",
       "          'p': 1,\n",
       "          's': 2,\n",
       "          't': 2,\n",
       "          'x': 2})"
      ]
     },
     "execution_count": 37,
     "metadata": {},
     "output_type": "execute_result"
    }
   ],
   "source": [
    "fr3 = FreqDist('coca-samples-lexicon.txt')\n",
    "fr3"
   ]
  },
  {
   "cell_type": "markdown",
   "metadata": {},
   "source": [
    "# Cond Frequency Distribution"
   ]
  }
 ],
 "metadata": {
  "anaconda-cloud": {},
  "kernelspec": {
   "display_name": "Python [default]",
   "language": "python",
   "name": "python3"
  },
  "language_info": {
   "codemirror_mode": {
    "name": "ipython",
    "version": 3
   },
   "file_extension": ".py",
   "mimetype": "text/x-python",
   "name": "python",
   "nbconvert_exporter": "python",
   "pygments_lexer": "ipython3",
   "version": "3.5.2"
  }
 },
 "nbformat": 4,
 "nbformat_minor": 1
}

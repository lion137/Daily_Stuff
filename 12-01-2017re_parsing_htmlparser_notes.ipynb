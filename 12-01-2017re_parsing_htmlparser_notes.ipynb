{
 "cells": [
  {
   "cell_type": "code",
   "execution_count": 4,
   "metadata": {
    "collapsed": true
   },
   "outputs": [],
   "source": [
    "import re"
   ]
  },
  {
   "cell_type": "code",
   "execution_count": 5,
   "metadata": {
    "collapsed": false
   },
   "outputs": [],
   "source": [
    "str1 = '<> lorem ipsum http://www.onest.pl/ https://www3.onest.pl/ss/df=/a /  D d/!?\"> <div class </div>ontent=\"http://www.onet.pl/\" /> '\n",
    "x = '(https?://)?www\\.[a-z]+\\.[a-z]+'\n",
    "# regec = (https?:\\/\\/)?([a-z]+\\d\\.)?([a-z]+\\.)?activeingredients\\.[a-z]+(/?[^\\s\"]*/?)* instead activeingriedents\n",
    "# maye onet, bbc...."
   ]
  },
  {
   "cell_type": "code",
   "execution_count": 6,
   "metadata": {
    "collapsed": false
   },
   "outputs": [
    {
     "ename": "NameError",
     "evalue": "name 'h1' is not defined",
     "output_type": "error",
     "traceback": [
      "\u001b[0;31m---------------------------------------------------------------------------\u001b[0m",
      "\u001b[0;31mNameError\u001b[0m                                 Traceback (most recent call last)",
      "\u001b[0;32m<ipython-input-6-a6b6cfff1f42>\u001b[0m in \u001b[0;36m<module>\u001b[0;34m()\u001b[0m\n\u001b[0;32m----> 1\u001b[0;31m \u001b[0mm1\u001b[0m  \u001b[0;34m=\u001b[0m \u001b[0mre\u001b[0m\u001b[0;34m.\u001b[0m\u001b[0msearch\u001b[0m\u001b[0;34m(\u001b[0m\u001b[0;34m'(https?:\\/\\/)?([a-z]+\\d\\.^csr)?([a-z]+\\.)?onet\\.[a-z]+(/?[^\\s\"]*/?)*'\u001b[0m\u001b[0;34m,\u001b[0m \u001b[0mh1\u001b[0m\u001b[0;34m)\u001b[0m\u001b[0;34m\u001b[0m\u001b[0m\n\u001b[0m\u001b[1;32m      2\u001b[0m \u001b[0mind\u001b[0m \u001b[0;34m=\u001b[0m \u001b[0mm1\u001b[0m\u001b[0;34m.\u001b[0m\u001b[0mspan\u001b[0m\u001b[0;34m(\u001b[0m\u001b[0;34m)\u001b[0m\u001b[0;34m\u001b[0m\u001b[0m\n\u001b[1;32m      3\u001b[0m \u001b[0mprint\u001b[0m\u001b[0;34m(\u001b[0m\u001b[0mind\u001b[0m\u001b[0;34m)\u001b[0m\u001b[0;34m\u001b[0m\u001b[0m\n\u001b[1;32m      4\u001b[0m \u001b[0mh\u001b[0m\u001b[0;34m[\u001b[0m\u001b[0mind\u001b[0m\u001b[0;34m[\u001b[0m\u001b[0;36m0\u001b[0m\u001b[0;34m]\u001b[0m\u001b[0;34m:\u001b[0m\u001b[0mind\u001b[0m\u001b[0;34m[\u001b[0m\u001b[0;36m1\u001b[0m\u001b[0;34m]\u001b[0m\u001b[0;34m]\u001b[0m\u001b[0;34m\u001b[0m\u001b[0m\n\u001b[1;32m      5\u001b[0m \u001b[0;34m\u001b[0m\u001b[0m\n",
      "\u001b[0;31mNameError\u001b[0m: name 'h1' is not defined"
     ]
    }
   ],
   "source": [
    "m1  = re.search('(https?:\\/\\/)?([a-z]+\\d\\.^csr)?([a-z]+\\.)?onet\\.[a-z]+(/?[^\\s\"]*/?)*', h1)\n",
    "ind = m1.span()\n",
    "print(ind)\n",
    "h[ind[0]:ind[1]]\n",
    "\n",
    "\n",
    "\n",
    "\n",
    "    \n",
    "\n"
   ]
  },
  {
   "cell_type": "code",
   "execution_count": 7,
   "metadata": {
    "collapsed": true
   },
   "outputs": [],
   "source": [
    "from parse_tree import *"
   ]
  },
  {
   "cell_type": "code",
   "execution_count": 10,
   "metadata": {
    "collapsed": false
   },
   "outputs": [],
   "source": [
    "# crawler \n",
    "import urllib.request\n",
    "from parse_tree import *\n",
    "import re\n",
    "Set = set()\n",
    "List = []\n",
    "def f_go(List, url, iter_cnt):\n",
    "    iter_cnt += 1\n",
    "    if iter_cnt > 100:\n",
    "        return\n",
    "    if url in Set:\n",
    "        return\n",
    "    try:\n",
    "        Set.add(url)\n",
    "        with urllib.request.urlopen(url) as response:\n",
    "            html = response.read()\n",
    "        h = html.decode(\"utf-8\")\n",
    "        lst0 = prepare_expression(h)\n",
    "        ntr = buildNaryParseTree(lst0)\n",
    "        lst1 = []\n",
    "        lst2 = nary_tree_tolist(ntr, lst1)\n",
    "        List.append(lst2)\n",
    "    except:\n",
    "        return\n",
    "    \n",
    "        \n",
    "    \n",
    "\n"
   ]
  },
  {
   "cell_type": "code",
   "execution_count": 64,
   "metadata": {
    "collapsed": false
   },
   "outputs": [
    {
     "name": "stdout",
     "output_type": "stream",
     "text": [
      "[]\n",
      "['<title>']\n",
      "[[], ['<title>']]\n"
     ]
    }
   ],
   "source": [
    "\n",
    "url = 'http://www.activeingredients.com'\n",
    "with urllib.request.urlopen(url) as response:\n",
    "            html = response.read()\n",
    "h = html.decode(\"utf-8\")\n",
    "\n",
    "lst0 = prepare_expression(list(h))\n",
    "tr = BinaryTree('')\n",
    "tr = buil_n_ary_parse_tree(lst0)\n",
    "inorder_traversal(tr)\n",
    "list1 = []\n",
    "print(tree_tolist(tr,list1))\n"
   ]
  },
  {
   "cell_type": "code",
   "execution_count": null,
   "metadata": {
    "collapsed": false
   },
   "outputs": [],
   "source": [
    "# %load parse_tree.py\n",
    "import operator as op\n",
    "import sys\n",
    "\n",
    "def inorder_traversal(tree):\n",
    "    if tree:\n",
    "        inorder_traversal(tree.getLeftChild())\n",
    "        print(tree.getRootVal())\n",
    "        inorder_traversal(tree.getRightChild())\n",
    "\n",
    "def tree_tolist(tree, lst0):\n",
    "    if tree:\n",
    "        tree_tolist(tree.getLeftChild(), lst0)\n",
    "        lst0.append(tree.getRootVal())\n",
    "        tree_tolist(tree.getRightChild(), lst0)\n",
    "    return lst0\n",
    "\n",
    "\n",
    "\n",
    "def postorder_traversal(tree):\n",
    "    if tree:\n",
    "        postorder_traversal(tree.getLeftChild())\n",
    "        postorder_traversal(tree.getRightChild())\n",
    "        print(tree.getRootVal())\n",
    "\n",
    "\n",
    "def iterative_reduce(xs, f, start):\n",
    "    while True:\n",
    "        if not xs:\n",
    "            return start\n",
    "        else:\n",
    "            xs, f, start = xs[1:], f, f(start, xs[0])\n",
    "    return xs\n",
    "\n",
    "\n",
    "class BinaryTree:\n",
    "    def __init__(self, rootObj):\n",
    "        self.key = rootObj\n",
    "        self.parent = None\n",
    "        self.leftChild = None\n",
    "        self.rightChild = None\n",
    "\n",
    "    def insertLeft(self, newNode):\n",
    "        if self.leftChild == None:\n",
    "            t = BinaryTree(newNode)\n",
    "            self.leftChild = t\n",
    "            t.parent = self\n",
    "            # self.leftChild = BinaryTree(newNode)\n",
    "        else:\n",
    "            t = BinaryTree(newNode)\n",
    "            t.parent = self\n",
    "            t.leftChild = self.leftChild\n",
    "            self.leftChild.parent = t\n",
    "            self.leftChild = t\n",
    "\n",
    "    def insertRight(self, newNode):\n",
    "        if self.rightChild == None:\n",
    "            t = BinaryTree(newNode)\n",
    "            self.rightChild = t\n",
    "            t.parent = self\n",
    "            # self.rightChild = BinaryTree(newNode)\n",
    "        else:\n",
    "            t = BinaryTree(newNode)\n",
    "            t.parent = self\n",
    "            t.rightChild = self.rightChild\n",
    "            self.rightChild.parent = t\n",
    "            self.rightChild = t\n",
    "\n",
    "    def getRightChild(self):\n",
    "        return self.rightChild\n",
    "\n",
    "    def getLeftChild(self):\n",
    "        return self.leftChild\n",
    "\n",
    "    def getParent(self):\n",
    "        return self.parent\n",
    "\n",
    "    def setRootVal(self, obj):\n",
    "        self.key.append(obj)\n",
    "\n",
    "    def getRootVal(self):\n",
    "        return self.key\n",
    "\n",
    "    def preorder(self):\n",
    "        print(self.key)\n",
    "        if self.leftChild:\n",
    "            self.leftChild.preorder()\n",
    "        if self.rightChild:\n",
    "            self.rightChild.preorder()\n",
    "\n",
    "\n",
    "exp = ['[', 'a', 'a', '(', 'b', 'b', '(', 'c', 'c', ')', 'b', '(', 'd', 'd', '{', 'e', 'e', '}', ')', ')', 'a', ']']\n",
    "\n",
    "\n",
    "def buil_n_ary_parse_tree(exp):\n",
    "    e_tree = BinaryTree([])\n",
    "    current = e_tree\n",
    "    ctr = 0\n",
    "    ctr1 = 0\n",
    "    ctr2 = 0\n",
    "    for token in exp:\n",
    "        if token == '<p>':\n",
    "            if ctr == 0:\n",
    "                current.insertRight(['<p>'])\n",
    "                current = current.getRightChild()\n",
    "                ctr += 1\n",
    "            else:\n",
    "                ctr += 1\n",
    "                current.insertLeft('<p>') # here the fitst list element is a tag name\n",
    "                current = current.getLeftChild()\n",
    "        elif token == '<h1>':\n",
    "            if ctr1 == 0:\n",
    "                current.insertRight(['<h1>'])\n",
    "                current = current.getRightChild()\n",
    "                ctr1 += 1\n",
    "            else:\n",
    "                ctr1 += 1\n",
    "                current.insertLeft([])\n",
    "                current = current.getLeftChild()\n",
    "        elif token == '<title>':\n",
    "            if ctr1 == 0:\n",
    "                current.insertRight(['<title>'])\n",
    "                current = current.getRightChild()\n",
    "                ctr1 += 1\n",
    "            else:\n",
    "                ctr1 += 1\n",
    "                current.insertLeft([])\n",
    "                current = current.getLeftChild()\n",
    "\n",
    "        elif (not token in ['<p>', '</p>', '<h1>', '</h1>', '<title>', '</title>']) and (ctr is not 0 or ctr1 is not 0\n",
    "                                                                                         or ctr2 is not 0):\n",
    "            current.setRootVal(token)\n",
    "        elif token == '</p>':\n",
    "            ctr -= 1\n",
    "            current = current.getParent()\n",
    "        elif token == '</h1>':\n",
    "            ctr1 -= 1\n",
    "            current = current.getParent()\n",
    "        elif token == '</title>':\n",
    "            ctr1 -= 1\n",
    "            current = current.getParent()\n",
    "    return e_tree\n",
    "\n",
    "    # parse_tree = buil_n_ary_parse_tree(exp)\n",
    "    # inorder_traversal(parse_tree)\n",
    "\n",
    "\n",
    "def split_input_elements(xs):\n",
    "    result = []\n",
    "    for i in range(len(xs)):\n",
    "        result.append(xs[i].rsplit())\n",
    "    return result\n",
    "\n",
    "\n",
    "def split_input_and_to_int(xs):\n",
    "    def helper(ys):\n",
    "        l = list(map(int, ys))\n",
    "        return l\n",
    "\n",
    "    l1 = list(map(helper, xs))\n",
    "    return l1\n",
    "\n",
    "\n",
    "    # tags: html, head, body, meta, title, ul, h1, h2, li, a\n",
    "\n",
    "\n",
    "def prepare_expression(exp):\n",
    "    \"\"\"takes a page as a list and make tags visible\"\"\"\n",
    "    del_list = []\n",
    "    l = len(exp)\n",
    "    for i in range(l):\n",
    "        if exp[i] == '<' and exp[i + 1] == 'p' and exp[i + 2] == '>':\n",
    "            exp[i] = '<p>'\n",
    "            exp[i + 1] = []\n",
    "            exp[i + 2] = []\n",
    "        if exp[i] == '<' and exp[i + 1] == '/' and exp[i + 2] == 'p' and exp[i + 3] == '>':\n",
    "            exp[i] = '</p>'\n",
    "            exp[i + 1] = []\n",
    "            exp[i + 2] = []\n",
    "            exp[i + 3] = []\n",
    "        if exp[i] == '<' and exp[i+1] =='t' and exp[i+2] == 'i' and exp[i+3] == 't' and exp[i+4] == 'l' and exp[i+5] == 'e' and exp[i+6] == '>':\n",
    "            exp[i] = '<title>'\n",
    "            exp[i + 1] = []\n",
    "            exp[i + 2] = []\n",
    "            exp[i + 3] = []\n",
    "            exp[i + 4] = []\n",
    "            exp[i + 5] = []\n",
    "            exp[i + 6] = []\n",
    "        if exp[i] == '<' and exp[i+1] =='/' and exp[i+2] == 't' and exp[i+3] == 'i' and exp[i+4] == 't' and exp[i+5] == 'l' and exp[i+6] == 'e' and exp[i+7] == '>':\n",
    "            exp[i] = '</title>'\n",
    "            exp[i + 1] = []\n",
    "            exp[i + 2] = []\n",
    "            exp[i + 3] = []\n",
    "            exp[i + 4] = []\n",
    "            exp[i + 5] = []\n",
    "            exp[i + 6] = []\n",
    "            exp[i + 7] = []\n",
    "        if exp[i] == '<' and exp[i] == 'b' and exp[i + 2] == '>':\n",
    "            exp[i] = '<b>'\n",
    "            exp[i + 1] = []\n",
    "            exp[i + 2] = []\n",
    "        if exp[i] == '<' and exp[i] == '/' and exp[i + 2] == 'b' and exp[i + 3] == '>':\n",
    "            exp[i] = '</b>'\n",
    "            exp[i + 1] = []\n",
    "            exp[i + 2] = []\n",
    "            exp[i + 3] = []\n",
    "        if exp[i] == '<' and exp[i + 1] == 's' and exp[i + 2] == 't' and exp[i + 3] == 'r' and exp[i + 4] == 'o' and \\\n",
    "                        exp[i + 5] == 'n' and exp[i + 6] == 'g' and exp[i + 7] == '>':\n",
    "            exp[i] = '<strong>'\n",
    "            exp[i + 1] = []\n",
    "            exp[i + 2] = []\n",
    "            exp[i + 3] = []\n",
    "            exp[i + 4] = []\n",
    "            exp[i + 5] = []\n",
    "            exp[i + 6] = []\n",
    "        if exp[i] == '<' and exp[i + 1] == '/' and exp[i + 2] == 's' and exp[i + 3] == 't' and exp[i + 4] == 'r' and \\\n",
    "                        exp[i + 5] == 'o' and exp[i + 6] == 'n' and exp[i + 7] == 'g' and exp[i + 8] == '>':\n",
    "            exp[i] = '</strong>'\n",
    "            exp[i + 1] = []\n",
    "            exp[i + 2] = []\n",
    "            exp[i + 3] = []\n",
    "            exp[i + 4] = []\n",
    "            exp[i + 5] = []\n",
    "            exp[i + 6] = []\n",
    "            exp[i + 7] = []\n",
    "            exp[i + 8] = []\n",
    "        '''\n",
    "        if exp[i] == '<' and exp[i + 1] == 'i' and exp[i + 2] == '>':\n",
    "            exp[i] = '<i>'\n",
    "            del_list.append(i + 1)\n",
    "            del_list.append(i + 2)\n",
    "        if exp[i] == '<' and exp[i + 1] == 'e' and exp[i + 2] == 'm' and exp[i + 3] == '>':\n",
    "            exp[i] = '<em>'\n",
    "            del_list.append(i + 1)\n",
    "            del_list.append(i + 2)\n",
    "            del_list.append(i + 3)\n",
    "          '''\n",
    "        if exp[i] == '<' and exp[i + 1] == 'h' and exp[i + 2] == '1' and exp[i + 3] == '>':\n",
    "            exp[i] = '<h1>'\n",
    "            exp[i + 1] = []\n",
    "            exp[i + 2] = []\n",
    "            exp[i + 3] = []\n",
    "\n",
    "        if exp[i] == '<' and exp[i + 1] == '/' and exp[i + 2] == 'h' and exp[i+3] == '1' and exp[i+4] == '>':\n",
    "            exp[i] = '</h1>'\n",
    "            exp[i + 1] = []\n",
    "            exp[i + 2] = []\n",
    "            exp[i + 3] = []\n",
    "            exp[i + 4] = []\n",
    "        if exp[i] == '<' and exp[i + 1] == 's' and exp[i + 2] == 'm' and exp[i + 3] == 'a' and exp[i + 4] == 'l' and \\\n",
    "                        exp[i + 5] == 'l':\n",
    "            exp[i] = '<small>'\n",
    "            del_list.append(i + 1)\n",
    "            del_list.append(i + 2)\n",
    "            del_list.append(i + 3)\n",
    "            del_list.append(i + 4)\n",
    "            del_list.append(i + 5)\n",
    "        if exp[i] == '<' and exp[i + 1] == 'i' and exp[i + 2] == 'n' and exp[i + 3] == 's':\n",
    "            exp[i] == '<ins>'\n",
    "            del_list.append(i + 1)\n",
    "            del_list.append(i + 2)\n",
    "            del_list.append(i + 3)\n",
    "    for t in range(len(exp) - 1, -1, -1):\n",
    "        if isinstance(exp[t], list):\n",
    "            del (exp[t])\n",
    "    return exp\n",
    "with open('/home/lion/projects/python/blog_not_notebook/ternary_trees_html_parsing/html_example.txt') as f:\n",
    "    lines = f.read().splitlines()\n",
    "print(\"slista z linii stringu wejsciowego \", lines)\n",
    "print(\"dlugosc tej listy  \", len(lines))\n",
    "lst1 = list(map(list, lines))\n",
    "lst = iterative_reduce(lst1, op.add, [])\n",
    "    # lst2 = iterative_reduce(lst, op.add, '')\n",
    "print(\"cale wejscie stokenizpowane i zlistowane \", lst)\n",
    "lst2 = prepare_expression(lst)\n",
    "print(\"------------------------------------------------------------------------------------------------------------------\")\n",
    "print(\"wyloskane pare tokenow  \", lst2)\n",
    "tr = BinaryTree('')\n",
    "tr = buil_n_ary_parse_tree(lst2)\n",
    "print(\"travers sparsowanego htmla: \")\n",
    "inorder_traversal(tr)\n",
    "print(\"whole list of lists     :\")\n",
    "list0 = []\n",
    "print(tree_tolist(tr, list0))\n",
    "print(\"whole list as a list   \")\n",
    "list0 = iterative_reduce(list0, op.add, [])\n",
    "print(list0, len(list0))\n"
   ]
  },
  {
   "cell_type": "code",
   "execution_count": 15,
   "metadata": {
    "collapsed": false
   },
   "outputs": [
    {
     "name": "stdout",
     "output_type": "stream",
     "text": [
      "https://www.activeingredients.com/assets/media/images/work/share.jpg\n",
      "https://www.activeingredients.com/assets/media/images/work/share.jpg\n",
      "https://www.activeingredients.com/assets/media/images/lindsay/hero-sm.jpg);background-position:50%\n",
      "https://www.activeingredients.com/assets/media/images/docusign/hero-sm.jpg)}.loading{display:none;position:fixed;width:100%;height:100%;top:0;left:0;z-index:10001}.loading__icn{position:absolute;top:50%;left:50%;margin-top:-16px;margin-left:-16px;-webkit-animation:loadingRotate\n",
      "https://www.activeingredients.com/assets/media/images/lindsay/hero-lg.jpg)}.theme-docusign-imgbg--hero{background-image:url(https://www.activeingredients.com/assets/media/images/docusign/hero-lg.jpg)}.navprimary{float:right;margin-top:-60px;margin-left:-40px;font-size:0}.navprimary>*{display:inline-block;vertical-align:middle;box-sizing:border-box;padding-top:60px;padding-left:40px}.navprimary>:last-child{margin-right:0}.navprimary>*+*{margin-top:0}.navprimary__trigger{font-weight:400;text-align:left;font-size:.8824rem}.navprimary__trigger::after{content:'\n",
      "https://www.activeingredients.com/assets/styles/modern.css?v=1.4\n",
      "https://www.activeingredients.com/assets/styles/icons.data.svg.css?v=1.4\n",
      "https://www.activeingredients.com/assets/styles/icons.data.png.css?v=1.4\n",
      "https://www.activeingredients.com/assets/styles/icons.fallback.css?v=1.4\n",
      "https://www.activeingredients.com/assets/styles/modern.css?v=1.4\n",
      "https://www.activeingredients.com/assets/styles/icons.fallback.css?v=1.4\n",
      "https://www.activeingredients.com/assets/vendor/polyfills.js\n",
      "https://www.activeingredients.com/assets/media/fav/favicon.ico\n",
      "https://www.activeingredients.com/assets/media/fav/favicon.ico\n",
      "https://www.activeingredients.com/\n",
      "https://www.activeingredients.com/assets/media/icons/fallbacks/logo.png\n",
      "https://www.activeingredients.com/about\n",
      "https://www.activeingredients.com/contact\n",
      "https://www.activeingredients.com/work/lindsay\n",
      "https://www.activeingredients.com/work/docusign\n",
      "https://www.activeingredients.com/work/cline\n",
      "https://www.activeingredients.com/work/comfort-zone\n",
      "https://www.activeingredients.com/work/lithium\n",
      "https://www.activeingredients.com/work/chicken-of-the-sea\n",
      "https://www.activeingredients.com/assets/vendor/requirejs/require.js?v=1.4\n",
      "https://www.activeingredients.com/assets/scripts/\n"
     ]
    }
   ],
   "source": [
    "f1 = re.finditer('(https?:\\/\\/)?([a-z]+\\d\\.)?([a-z]+\\.)?activeingredients\\.[a-z]+(/?[^\\s\"]*/?)*', h)\n",
    "for tok in f1:\n",
    "    ind1 = tok.span()\n",
    "    print(h[ind1[0]:ind1[1]])"
   ]
  },
  {
   "cell_type": "code",
   "execution_count": 16,
   "metadata": {
    "collapsed": false
   },
   "outputs": [
    {
     "data": {
      "text/plain": [
       "{'https://www.activeingredients.com/',\n",
       " 'https://www.activeingredients.com/about',\n",
       " 'https://www.activeingredients.com/assets/',\n",
       " 'https://www.activeingredients.com/contact',\n",
       " 'https://www.activeingredients.com/work/chicken-of-the-sea',\n",
       " 'https://www.activeingredients.com/work/cline',\n",
       " 'https://www.activeingredients.com/work/comfort-zone',\n",
       " 'https://www.activeingredients.com/work/docusign',\n",
       " 'https://www.activeingredients.com/work/lindsay',\n",
       " 'https://www.activeingredients.com/work/lithium'}"
      ]
     },
     "execution_count": 16,
     "metadata": {},
     "output_type": "execute_result"
    }
   ],
   "source": [
    "#(https?:\\/\\/)?([a-z]+\\d\\.)?([a-z]+\\.)?activeingredients\\.[a-z]+(/?[^\\s\"]*/?)* - orginal\n",
    "#(https?:\\/\\/)?([a-z]+\\d\\.)?([a-z]+\\.)?activeingredients\\.[a-z]+/?(work|about|contact)?/?([a-z]+)*/? - actual\n",
    "#content=\"[^\"]*\" - find content\n",
    "f1 = re.finditer('(https?:\\/\\/)?([a-z]+\\d\\.)?([a-z]+\\.)?activeingredients\\.[a-z]+(/?(work|about|contact)?/?([a-zA-z-]+)*)?/?', h)\n",
    "l1 = []\n",
    "for tok in f1:\n",
    "    ind1 = tok.span()\n",
    "    #print(h[ind1[0]:ind1[1]])\n",
    "    l1.append(h[ind1[0]:ind1[1]])\n",
    "set(l1)"
   ]
  },
  {
   "cell_type": "code",
   "execution_count": 364,
   "metadata": {
    "collapsed": false
   },
   "outputs": [
    {
     "data": {
      "text/plain": [
       "'\\nwith open(\\'/home/lion/projects/python/blog_not_notebook/ternary_trees_html_parsing/html_example.txt\\') as f:\\n    lines = f.read().splitlines()\\nprint(\"slista z linii stringu wejsciowego \", lines)\\nprint(\"dlugosc tej listy  \", len(lines))\\nlst1 = list(map(list, lines))\\nlst = iterative_reduce(lst1, op.add, [])\\n    # lst2 = iterative_reduce(lst, op.add, \\'\\')\\nprint(\"cale wejscie stokenizpowane i zlistowane \", lst)\\n\\n\\n\\nlst2 = prepare_expression(lst)\\nprint(\"------------------------------------------------------------------------------------------------------------------\")\\nprint(\"wyloskane pare tokenow  \", lst2)\\ntr = BinaryTree(\\'\\')\\ntr = buil_n_ary_parse_tree(lst2)\\nprint(\"travers sparsowanego htmla: \")\\ninorder_traversal(tr)\\n'"
      ]
     },
     "execution_count": 364,
     "metadata": {},
     "output_type": "execute_result"
    }
   ],
   "source": [
    "'''\n",
    "with open('/home/lion/projects/python/blog_not_notebook/ternary_trees_html_parsing/html_example.txt') as f:\n",
    "    lines = f.read().splitlines()\n",
    "print(\"slista z linii stringu wejsciowego \", lines)\n",
    "print(\"dlugosc tej listy  \", len(lines))\n",
    "lst1 = list(map(list, lines))\n",
    "lst = iterative_reduce(lst1, op.add, [])\n",
    "    # lst2 = iterative_reduce(lst, op.add, '')\n",
    "print(\"cale wejscie stokenizpowane i zlistowane \", lst)\n",
    "\n",
    "\n",
    "\n",
    "lst2 = prepare_expression(lst)\n",
    "print(\"------------------------------------------------------------------------------------------------------------------\")\n",
    "print(\"wyloskane pare tokenow  \", lst2)\n",
    "tr = BinaryTree('')\n",
    "tr = buil_n_ary_parse_tree(lst2)\n",
    "print(\"travers sparsowanego htmla: \")\n",
    "inorder_traversal(tr)\n",
    "'''"
   ]
  },
  {
   "cell_type": "code",
   "execution_count": 22,
   "metadata": {
    "collapsed": false
   },
   "outputs": [],
   "source": [
    "from parse_tree import *"
   ]
  },
  {
   "cell_type": "code",
   "execution_count": 6,
   "metadata": {
    "collapsed": false
   },
   "outputs": [],
   "source": [
    "str3 = 'https://www.activeingredients.com/work/'"
   ]
  },
  {
   "cell_type": "code",
   "execution_count": 59,
   "metadata": {
    "collapsed": false
   },
   "outputs": [],
   "source": [
    "import urllib.request\n",
    "try:\n",
    "    with urllib.request.urlopen(str3) as response:\n",
    "        html = response.read()\n",
    "except:\n",
    "    print(\"not happy\")\n"
   ]
  },
  {
   "cell_type": "code",
   "execution_count": 8,
   "metadata": {
    "collapsed": false
   },
   "outputs": [],
   "source": [
    "import urllib.request\n",
    "try:\n",
    "    with urllib.request.urlopen('http://onet.pl') as response:\n",
    "        html1 = response.read()\n",
    "except:\n",
    "    print(\"not happy\")"
   ]
  },
  {
   "cell_type": "code",
   "execution_count": 60,
   "metadata": {
    "collapsed": false
   },
   "outputs": [
    {
     "data": {
      "text/plain": [
       "'<!doctype html><html class=\"no-js no-device\" lang=\"en-us\"><head><meta charset=\"utf-8\"><meta name=\"viewport\" content=\"width=device-width,initial-scale=1\"><!--[if IE]><meta http-equiv=\"cleartype\" content=\"on\" /><![endif]--><title>Work \\x1f\\x1f\\x1f&ndash; Active Ingredients</title><meta name=\"description\" content=\"We create beautiful experiences to help you connect with the people that matter most to your business.\"><meta property=\"og:site_name\" content=\"Active Ingredients\"><meta property=\"og:title\" content=\"Work \\x1f\\x1f\\x1f&amp;ndash; Active Ingredients\"><meta property=\"og:description\" content=\"We create beautiful experiences to help you connect with the people that matter most to your business.\"><meta property=\"og:image\" content=\"https://www.activeingredients.com/assets/media/images/work/share.jpg\"><meta name=\"twitter:card\" content=\"summary_large_image\"><meta name=\"twitter:site\" content=\"@teamAI\"><meta name=\"twitter:title\" content=\"Work \\x1f\\x1f\\x1f&amp;ndash; Active Ingredients\"><meta name=\"twitter:description\" content=\"We create beautiful experiences to help you connect with the people that matter most to your business.\"><meta name=\"twitter:image\" content=\"https://www.activeingredients.com/assets/media/images/work/share.jpg\"><script>var body=document.documentElement;!function(e){/(android|bb\\\\d+|meego).+mobile|avantgo|bada\\\\/|blackberry|blazer|compal|elaine|fennec|hiptop|iemobile|webos|ipad|ipod|ip(hone|od)|iris|kindle|lge |maemo|midp|mmp|mobile.+firefox|netfront|opera m(ob|in)i|palm( os)?|phone|p(ixi|re)\\\\/|plucker|pocket|psp|series(4|6)0|symbian|treo|up\\\\.(browser|link)|vodafone|wap|windows ce|xda|xiino/i.test(e)||/1207|6310|6590|3gso|4thp|50[1-6]i|770s|802s|a wa|abac|ac(er|oo|s\\\\-)|ai(ko|rn)|al(av|ca|co)|amoi|an(ex|ny|yw)|aptu|ar(ch|go)|as(te|us)|attw|au(di|\\\\-m|r |s )|avan|be(ck|ll|nq)|bi(lb|rd)|bl(ac|az)|br(e|v)w|bumb|bw\\\\-(n|u)|c55\\\\/|capi|ccwa|cdm\\\\-|cell|chtm|cldc|cmd\\\\-|co(mp|nd)|craw|da(it|ll|ng)|dbte|dc\\\\-s|devi|dica|dmob|do(c|p)o|ds(12|\\\\-d)|el(49|ai)|em(l2|ul)|er(ic|k0)|esl8|ez([4-7]0|os|wa|ze)|fetc|fly(\\\\-|_)|g1 u|g560|gene|gf\\\\-5|g\\\\-mo|go(\\\\.w|od)|gr(ad|un)|haie|hcit|hd\\\\-(m|p|t)|hei\\\\-|hi(pt|ta)|hp( i|ip)|hs\\\\-c|ht(c(\\\\-| |_|a|g|p|s|t)|tp)|hu(aw|tc)|i\\\\-(20|go|ma)|i230|iac( |\\\\-|\\\\/)|ibro|idea|ig01|ikom|im1k|inno|ipaq|iris|ja(t|v)a|jbro|jemu|jigs|kddi|keji|kgt( |\\\\/)|klon|kpt |kwc\\\\-|kyo(c|k)|le(no|xi)|lg( g|\\\\/(k|l|u)|50|54|\\\\-[a-w])|libw|lynx|m1\\\\-w|m3ga|m50\\\\/|ma(te|ui|xo)|mc(01|21|ca)|m\\\\-cr|me(rc|ri)|mi(o8|oa|ts)|mmef|mo(01|02|bi|de|do|t(\\\\-| |o|v)|zz)|mt(50|p1|v )|mwbp|mywa|n10[0-2]|n20[2-3]|n30(0|2)|n50(0|2|5)|n7(0(0|1)|10)|ne((c|m)\\\\-|on|tf|wf|wg|wt)|nok(6|i)|nzph|o2im|op(ti|wv)|oran|owg1|p800|pan(a|d|t)|pdxg|pg(13|\\\\-([1-8]|c))|phil|pire|pl(ay|uc)|pn\\\\-2|po(ck|rt|se)|prox|psio|pt\\\\-g|qa\\\\-a|qc(07|12|21|32|60|\\\\-[2-7]|i\\\\-)|qtek|r380|r600|raks|rim9|ro(ve|zo)|s55\\\\/|sa(ge|ma|mm|ms|ny|va)|sc(01|h\\\\-|oo|p\\\\-)|sdk\\\\/|se(c(\\\\-|0|1)|47|mc|nd|ri)|sgh\\\\-|shar|sie(\\\\-|m)|sk\\\\-0|sl(45|id)|sm(al|ar|b3|it|t5)|so(ft|ny)|sp(01|h\\\\-|v\\\\-|v )|sy(01|mb)|t2(18|50)|t6(00|10|18)|ta(gt|lk)|tcl\\\\-|tdg\\\\-|tel(i|m)|tim\\\\-|t\\\\-mo|to(pl|sh)|ts(70|m\\\\-|m3|m5)|tx\\\\-9|up(\\\\.b|g1|si)|utst|v400|v750|veri|vi(rg|te)|vk(40|5[0-3]|\\\\-v)|vm40|voda|vulc|vx(52|53|60|61|70|80|81|83|85|98)|w3c(\\\\-| )|webc|whit|wi(g |nc|nw)|wmlb|wonu|x700|yas\\\\-|your|zeto|zte\\\\-/i.test(e.substr(0,4))?(window.isMobileDevice=!0,body.className=body.className.replace(/(^|\\\\s)no-device(\\\\s|$)/g,\"$1isMobileDevice$2\")):window.isMobileDevice=!1}(navigator.userAgent||navigator.vendor||window.opera),body.className=body.className.replace(/(^|\\\\s)no-js(\\\\s|$)/g,\"$1js$2\")</script><style>a,body,html{color:#0e1b1f}.footer__other,.footer__social{text-align:center}.hero__bd,.site{table-layout:fixed}.header__close,.icn{text-indent:-9999px}.footer,.wrapper,body{box-sizing:border-box}.header::after,.header__hamburger::after,.header__primary,.tier::after,.wrapper::after{clear:both}a,body,div,footer,h1,h2,header,html,img,li,nav,span,ul{margin:0;padding:0;border:0;font-size:100%;font-weight:inherit;font-style:inherit;font-family:inherit;vertical-align:baseline}.btn,.hdg--alpha,.hdg--beta,.hdg--delta,.hdg--epsilon,.hdg--heavy,.hdg--stat,.hdg--theta,.hdg--zeta,.navprimary__trigger,b,strong{font-weight:700}ul{list-style:none}.branding__logo::before,.footer::after,.header::after,.header::before,.header__nav::after{content:\\' \\'}html{overflow-y:scroll;overflow-x:hidden;background-color:#f2f2f2;background-position:initial initial;background-repeat:initial initial}footer,header,nav{display:block}.branding__logo,.hero,body::before{overflow:hidden}body,html{height:100%;margin:0;font-family:HelveticaNeue-Light,\\'Helvetica Neue Light\\',\\'Helvetica Neue\\',Helvetica,Arial,\\'Lucida Grande\\',sans-serif;font-size:17px;line-height:1.8824;-webkit-font-smoothing:antialiased}.fonts-loaded body,html.fonts-loaded{font-family:\\'Graphik Web\\',HelveticaNeue-Light,\\'Helvetica Neue Light\\',\\'Helvetica Neue\\',Helvetica,Arial,\\'Lucida Grande\\',sans-serif}a{text-decoration:none;transition:color .15s ease-out;-webkit-transition:color .15s ease-out}.isvisuallyhidden{width:1px;height:1px;margin:-1px;padding:0;border:0;position:absolute;clip:rect(0 0 0 0);overflow:hidden}.js .js-highlight{opacity:0}.js.ismobiledevice .js-highlight{opacity:1}.js .js-highlight,.js.ismobiledevice .js-highlight>span{display:inline-block}.js .js-fadeinup-alpha,.js .js-fadeinup-beta,.js .js-fadeinup-delta,.js .js-fadeinup-epsilon,.js .js-fadeinup-eta,.js .js-fadeinup-gamma,.js .js-fadeinup-iota,.js .js-fadeinup-kappa,.js .js-fadeinup-lambda,.js .js-fadeinup-mu,.js .js-fadeinup-nu,.js .js-fadeinup-omicron,.js .js-fadeinup-theta,.js .js-fadeinup-xi,.js .js-fadeinup-zeta{opacity:0;-webkit-transform:translate3d(0,20px,0)}.js.ismobiledevice .js-fadeinup-alpha,.js.ismobiledevice .js-fadeinup-beta,.js.ismobiledevice .js-fadeinup-delta,.js.ismobiledevice .js-fadeinup-epsilon,.js.ismobiledevice .js-fadeinup-eta,.js.ismobiledevice .js-fadeinup-gamma,.js.ismobiledevice .js-fadeinup-iota,.js.ismobiledevice .js-fadeinup-kappa,.js.ismobiledevice .js-fadeinup-lambda,.js.ismobiledevice .js-fadeinup-mu,.js.ismobiledevice .js-fadeinup-nu,.js.ismobiledevice .js-fadeinup-omicron,.js.ismobiledevice .js-fadeinup-theta,.js.ismobiledevice .js-fadeinup-xi,.js.ismobiledevice .js-fadeinup-zeta{opacity:1;-webkit-transform:none}.js .js-fadein,.js-intialload .js-fadein-smoothstate{opacity:0}.js.ismobiledevice .js-fadein,.js.ismobiledevice .js-fadein-smoothstate,.js.ismobiledevice .js-intialload .js-fadein-smoothstate{opacity:1}#smooth{display:table;height:100%}.branding__logo{border:0;background-color:transparent;display:block;background-size:contain;line-height:2;background-position:50% 50%;background-repeat:no-repeat no-repeat}.branding__logo::before{display:block;height:150%;width:0}.branding__fallback{display:none}.branding__fallback--alpha,.branding__logo--alpha{width:210px;height:29px}.footer,.footer::after{width:100%;background-color:#021014;background-position:initial initial;background-repeat:initial initial}.footer{position:relative;padding:25px 20px;color:#fff}.footer::after{height:250px;position:absolute;top:-240px;left:0;z-index:-1}.footer__social{margin-bottom:15px}.header::after,.header::before{display:table}.header__main{position:absolute;top:20px;left:20px;right:20px;z-index:200;font-size:0}.header__branding,.header__hamburger{display:inline-block;vertical-align:middle;font-size:1rem}.header__branding{width:80%;position:relative;top:-8px}.header__hamburger{width:20%;text-align:right}.header__nav,.header__nav::after{width:100%;height:100%;background-color:#021014;z-index:1;top:0;right:0;background-position:initial initial;background-repeat:initial initial}.loading{text-align:center}.header__hamburger::after,.header__hamburger::before{content:\\' \\';display:table}.header__nav{max-width:270px;position:absolute;bottom:0}.header__nav::after{position:fixed}.header__close,.header__primary{position:relative;z-index:2}.header__close{display:block;width:25px;height:25px;float:right;margin:30px 20px 60px 0;font-size:0;cursor:pointer}.reveal__bd{width:100%;position:fixed;bottom:0;left:0;z-index:1}body::before{content:sm;width:1px;height:1px;margin:-1px;padding:0;border:0;position:absolute;clip:rect(0 0 0 0)}.close__bar,.hamburger__bar{background-color:#fff;display:block;background-position:initial initial;background-repeat:initial initial}.close{display:block;width:25px;height:25px;position:relative;cursor:pointer}.close__bar{width:1px;height:25px;position:absolute;top:0;left:50%}.hero,.hero__bd{position:relative}.close__bar--left{-webkit-transform:rotate(135deg)}.close__bar--right{-webkit-transform:rotate(-135deg)}.hamburger{display:block;width:25px;cursor:pointer;float:right}.hamburger__bar{width:100%;height:1px}.hamburger__bar+.hamburger__bar{margin-top:6px}.hero{display:block}.hero__bd{display:table;width:100%;height:380px;z-index:2;transition:-webkit-transform .15s ease-out;-webkit-transition:-webkit-transform .15s ease-out}.hero__row{display:table-row}.hero__cell{display:table-cell}.hero__cell--alpha{vertical-align:bottom;padding-bottom:10px}.hero__md{position:absolute;top:-1px;left:-1px;right:-1px;bottom:-1px;z-index:1;transition:-webkit-transform .15s ease-out;-webkit-transition:-webkit-transform .15s ease-out}.hero__md::after,.imgbg{position:absolute;left:0;z-index:1}.hero__md::after{content:\\' \\';width:100%;height:200px;bottom:0;background-image:linear-gradient(0deg,#021014,rgba(2,16,20,0));background-position:initial initial;background-repeat:initial initial}a.hero{outline:#000;cursor:pointer}a.hero>.hero__md{-webkit-transform:scale3d(1.03,1.03,1)}.icn{display:inline-block;width:16px;height:16px;vertical-align:middle;padding:0;margin:0;background-size:contain;background-position:50% 50%;background-repeat:no-repeat no-repeat}.imgbg{display:block}.icn--loose{width:32px;height:32px}.imgbg{background-size:cover;width:100%;height:100%;top:0;background-position:50% 50%;background-repeat:no-repeat no-repeat}@media (max-width:767px){.isvisuallyhidden\\\\@mobile{width:1px;height:1px;margin:-1px;padding:0;border:0;position:absolute;clip:rect(0 0 0 0);overflow:hidden}.hero__bd .theme-lindsay-hero--hdg{color:#ffc204}}.theme-lindsay-imgbg--hero{background-image:url(https://www.activeingredients.com/assets/media/images/lindsay/hero-sm.jpg);background-position:50% 0}.theme-docusign-imgbg--hero{background-image:url(https://www.activeingredients.com/assets/media/images/docusign/hero-sm.jpg)}.loading{display:none;position:fixed;width:100%;height:100%;top:0;left:0;z-index:10001}.loading__icn{position:absolute;top:50%;left:50%;margin-top:-16px;margin-left:-16px;-webkit-animation:loadingRotate 1.5s linear infinite}.main{position:relative;z-index:2}.navprimary{margin-right:20px}.navprimary>*+*{margin-top:10px}.navprimary__trigger{display:block;position:relative;font-size:2.6471rem;line-height:1;color:#fff;text-align:right}.js.no-touch .navprimary__trigger:focus,.js.no-touch .navprimary__trigger:hover,.js.touch .navprimary__trigger:active,.no-js .navprimary__trigger:focus,.no-js .navprimary__trigger:hover{color:#fff;text-decoration:none;outline:#000}.tier::after,.tier::before,.wrapper::after,.wrapper::before{content:\\' \\'}.skiplink{width:1px;height:1px;margin:-1px;padding:0;border:0;position:absolute;clip:rect(0 0 0 0);overflow:hidden}.tier{position:relative;background-color:#0e1b1f;padding-top:100px;padding-bottom:100px;background-position:initial initial;background-repeat:initial initial}.tier::after,.tier::before{display:table}.tier--clean{background-color:transparent}.tier--flat{padding-top:0;padding-bottom:0}.theme-docusign-tier--sky{background-color:#367fec;background-position:initial initial;background-repeat:initial initial}.theme-lindsay-tier--tomato{background-color:#a10221;background-position:initial initial;background-repeat:initial initial}.site{position:relative}.section__row{margin-bottom:10px}.hdg--center{text-align:center}.section>:last-child{margin-bottom:0}.site,.wrapper{width:100%}.site{display:table;height:100%;z-index:100}.site__bd{display:table-row;width:100%;height:1px}.site__bd{height:auto;z-index:2}.theme-ai-site--sunrise{background-image:linear-gradient(315deg,#f91b59,#f56653);background-position:initial initial;background-repeat:initial initial}.wrapper{max-width:1210px;margin-left:auto;margin-right:auto;padding-left:20px;padding-right:20px}.wrapper::after,.wrapper::before{display:table}.hdg{display:block}.hdg--delta{font-size:2.0588rem;line-height:1.05}.hdg--kappa{font-size:.7059rem;line-height:1.3333}.hdg--inverse{color:#fff}.hdg--lighter{color:#8c8c8c}.txt--gamma{font-size:1rem;line-height:1.8824}.txt--inverse{color:#fff}@media (min-width:768px){.footer{font-size:0}.footer__other,.footer__social{display:inline-block;width:50%;vertical-align:middle;font-size:1rem}.footer__social{margin-bottom:0;text-align:left}.header{position:absolute;top:0;left:20px;right:20px;z-index:200;padding-top:35px;font-size:0}.header__main,.header__nav{position:relative;right:auto;left:auto;top:auto;display:inline-block;vertical-align:middle;font-size:1rem}.header__main{width:50%}.header__branding{display:block;width:100%}.header__hamburger{display:none}.header__nav{width:50%;max-width:none;height:auto;bottom:auto;background-color:transparent}.header__nav::after,.header__nav::before{content:\\' \\';display:table}.header__close,.hero__md::after{display:none}.header__nav::after{clear:both;display:none}body::before{content:med}.hero .hero__bd{height:780px}.hero__cell--alpha{vertical-align:middle;padding-bottom:0}.hero__bd .theme-lindsay-hero--hdg{transition:color .15s ease-out;-webkit-transition:color .15s ease-out}.theme-lindsay-imgbg--hero{background-image:url(https://www.activeingredients.com/assets/media/images/lindsay/hero-lg.jpg)}.theme-docusign-imgbg--hero{background-image:url(https://www.activeingredients.com/assets/media/images/docusign/hero-lg.jpg)}.navprimary{float:right;margin-top:-60px;margin-left:-40px;font-size:0}.navprimary>*{display:inline-block;vertical-align:middle;box-sizing:border-box;padding-top:60px;padding-left:40px}.navprimary>:last-child{margin-right:0}.navprimary>*+*{margin-top:0}.navprimary__trigger{font-weight:400;text-align:left;font-size:.8824rem}.navprimary__trigger::after{content:\\' \\';width:100%;height:0;background-color:#fff;position:absolute;top:-42px;left:0;transition:height .15s ease-out;-webkit-transition:height .15s ease-out;background-position:initial initial;background-repeat:initial initial}.js.no-touch .navprimary__trigger:focus::after,.js.no-touch .navprimary__trigger:hover::after,.js.touch .navprimary__trigger:active::after,.navprimary__trigger-isactive::after,.no-js .navprimary__trigger:focus::after,.no-js .navprimary__trigger:hover::after{height:3px}.hdg--delta{font-size:2.9412rem}.hdg--right\\\\@desktop{text-align:right}}</style><script>!function(e){\"use strict\";var t=function(t,n,o){function s(e){return l.body?e():void setTimeout(function(){s(e)})}function d(){a.addEventListener&&a.removeEventListener(\"load\",d),a.media=o||\"all\"}var i,l=e.document,a=l.createElement(\"link\");if(n)i=n;else{var r=(l.body||l.getElementsByTagName(\"head\")[0]).childNodes;i=r[r.length-1]}var c=l.styleSheets;a.rel=\"stylesheet\",a.href=t,a.media=\"only x\",s(function(){i.parentNode.insertBefore(a,n?i:i.nextSibling)});var f=function(e){for(var t=a.href,n=c.length;n--;)if(c[n].href===t)return e();setTimeout(function(){f(e)})};return a.addEventListener&&a.addEventListener(\"load\",d),a.onloadcssdefined=f,f(d),a};\"undefined\"!=typeof exports?exports.loadCSS=t:e.loadCSS=t}(\"undefined\"!=typeof global?global:this),loadCSS(\"https://www.activeingredients.com/assets/styles/modern.css?v=1.4\",document.getElementById(\"loadcss\")),loadCSS(\"https://fonts.googleapis.com/css?family=Vollkorn:400italic\",document.getElementById(\"loadcss\"))</script><script>!function(e){function t(t,n,s,a){\"use strict\";function r(){for(var e,n=0;c.length>n;n++)c[n].href&&c[n].href.indexOf(t)>-1&&(e=!0);e?o.media=s||\"all\":setTimeout(r)}var o=e.document.createElement(\"link\"),i=n||e.document.getElementsByTagName(\"script\")[0],c=e.document.styleSheets;return o.rel=\"stylesheet\",o.href=t,o.media=\"only x\",o.onload=a||null,i.parentNode.insertBefore(o,i),r(),o}var n=function(s,a){\"use strict\";if(s&&3===s.length){var r=e.navigator,o=e.Image,i=!(!document.createElementNS||!document.createElementNS(\"http://www.w3.org/2000/svg\",\"svg\").createSVGRect||!document.implementation.hasFeature(\"http://www.w3.org/TR/SVG11/feature#Image\",\"1.1\")||e.opera&&-1===r.userAgent.indexOf(\"Chrome\")||-1!==r.userAgent.indexOf(\"Series40\")),c=new o;c.onerror=function(){n.method=\"png\",n.href=s[2],t(s[2])},c.onload=function(){var e=1===c.width&&1===c.height,r=s[e&&i?0:e?1:2];n.method=e&&i?\"svg\":e?\"datapng\":\"png\",n.href=r,t(r,null,null,a)},c.src=\"data:image/gif;base64,R0lGODlhAQABAIAAAAAAAP///ywAAAAAAQABAAACAUwAOw==\",document.documentElement.className+=\" grunticon\"}};n.loadCSS=t,e.grunticon=n}(this),grunticon([\"https://www.activeingredients.com/assets/styles/icons.data.svg.css?v=1.4\",\"https://www.activeingredients.com/assets/styles/icons.data.png.css?v=1.4\",\"https://www.activeingredients.com/assets/styles/icons.fallback.css?v=1.4\"])</script><noscript><link rel=\"stylesheet\" href=\"https://www.activeingredients.com/assets/styles/modern.css?v=1.4\"><link href=\"https://www.activeingredients.com/assets/styles/icons.fallback.css?v=1.4\" rel=\"stylesheet\"></noscript><script>!function(e){var t=function(t,n){\"use strict\";var o=e.document.getElementsByTagName(\"script\")[0],i=e.document.createElement(\"script\");return i.src=t,i.async=!0,o.parentNode.insertBefore(i,o),n&&\"function\"==typeof n&&(i.onload=n),i};\"undefined\"!=typeof module?module.exports=t:e.loadJS=t}(\"undefined\"!=typeof global?global:this),loadJS(\"https://www.activeingredients.com/assets/vendor/polyfills.js\",function(){window.isMobileDevice&&Modernizr.addTest(\"isMobileDevice\",function(){return!0})})</script><link rel=\"icon\" type=\"image/x-icon\" href=\"https://www.activeingredients.com/assets/media/fav/favicon.ico\"><link rel=\"apple-touch-icon\" href=\"https://www.activeingredients.com/assets/media/fav/favicon.ico\"></head><body class=\"\"><div id=\"smooth\" class=\"js-intialload\"><a href=\"#pageContent\" class=\"skiplink\">Skip to Content</a><div class=\"header\"><div class=\"header__main js-slideNav-target\"><header class=\"header__branding\" role=\"banner\"><h2 class=\"branding\" itemscope itemtype=\"http://schema.org/Organization\"><a itemprop=\"url\" href=\"https://www.activeingredients.com/\" class=\"branding__logo branding__logo--alpha\" title=\"Go to the home page.\">Active Ingredients <img src=\"https://www.activeingredients.com/assets/media/icons/fallbacks/logo.png\" alt=\"Active Ingredients\" itemprop=\"logo\" class=\"branding__fallback branding__fallback--alpha\"></a></h2></header><div class=\"header__hamburger js-slideNav-trigger\" data-slidenav-target=\".js-slideNav-target\" data-slidenav-close=\".js-slideNav-close\"><span class=\"hamburger\"><span class=\"hamburger__bar\"></span> <span class=\"hamburger__bar\"></span> <span class=\"hamburger__bar\"></span></span></div></div><div class=\"header__nav\"><div class=\"header__close js-slideNav-close\">Close <span class=\"close\"><span class=\"close__bar close__bar--right\"></span> <span class=\"close__bar close__bar--left\"></span></span></div><nav class=\"header__primary\" role=\"navigation\"><h2 class=\"isvisuallyhidden\">Primary Navigation</h2><div class=\"js-fadein-smoothstate\"><ul class=\"navprimary\"><li><a href=\"javascript:;\" class=\"navprimary__trigger navprimary__trigger-isactive\">Work</a></li><li><a href=\"https://www.activeingredients.com/about\" class=\"navprimary__trigger\">About</a></li><li><a href=\"https://www.activeingredients.com/contact\" class=\"navprimary__trigger\">Contact</a></li></ul></div></nav></div></div><div class=\"site js-slideNav-target\"><div class=\"site__bd\"><div class=\"main\" id=\"pageContent\"><h1 class=\"isvisuallyhidden\">Our Work</h1><div class=\"tier tier--flat theme-lindsay-tier--tomato\"><a href=\"https://www.activeingredients.com/work/lindsay\" class=\"hero\"><div class=\"hero__bd\"><div class=\"hero__row\"><div class=\"hero__cell hero__cell--alpha\"><div class=\"wrapper\"><div class=\"section js-fadeinup\"><div class=\"section__row js-fadeinup-alpha\"><h2 class=\"hdg hdg--delta hdg--inverse theme-lindsay-hero--hdg\">Lindsay</h2></div><div class=\"section__row js-fadeinup-beta isvisuallyhidden@mobile\"><span class=\"txt txt--gamma txt--inverse\">The promise of the bite-size moment</span></div></div></div></div></div></div><div class=\"hero__md\"><div class=\"imgbg theme-lindsay-imgbg--hero\"></div></div></a></div><div class=\"tier tier--flat theme-docusign-tier--sky\"><a href=\"https://www.activeingredients.com/work/docusign\" class=\"hero\"><div class=\"hero__bd\"><div class=\"hero__row\"><div class=\"hero__cell hero__cell--alpha\"><div class=\"wrapper\"><div class=\"section js-fadeinup\"><div class=\"section__row js-fadeinup-alpha\"><h2 class=\"hdg hdg--delta hdg--inverse theme-docusign-hero--hdg\">DocuSign</h2></div><div class=\"section__row js-fadeinup-beta isvisuallyhidden@mobile\"><span class=\"txt txt--gamma txt--inverse\">Redefining the signature</span></div></div></div></div></div></div><div class=\"hero__md\"><div class=\"imgbg theme-docusign-imgbg--hero\"></div></div></a></div><div class=\"tier tier--flat theme-cline-tier--blackhole\"><a href=\"https://www.activeingredients.com/work/cline\" class=\"hero\"><div class=\"hero__bd\"><div class=\"hero__row\"><div class=\"hero__cell hero__cell--alpha\"><div class=\"wrapper\"><div class=\"section js-fadeinup\"><div class=\"section__row js-fadeinup-alpha\"><h2 class=\"hdg hdg--delta hdg--inverse theme-cline-hero--hdg\">Cline Cellars</h2></div><div class=\"section__row js-fadeinup-beta isvisuallyhidden@mobile\"><span class=\"txt txt--gamma txt--inverse\">A modern home for ancient vines</span></div></div></div></div></div></div><div class=\"hero__md\"><div class=\"imgbg theme-cline-imgbg--hero\"></div></div></a></div><div class=\"tier tier--flat theme-comfort-tier--ocean\"><a href=\"https://www.activeingredients.com/work/comfort-zone\" class=\"hero\"><div class=\"hero__bd\"><div class=\"hero__row\"><div class=\"hero__cell hero__cell--alpha\"><div class=\"wrapper\"><div class=\"section js-fadeinup\"><div class=\"section__row js-fadeinup-alpha\"><h2 class=\"hdg hdg--delta hdg--inverse theme-comfort-hero--hdg\">Comfort Zone</h2></div><div class=\"section__row js-fadeinup-beta isvisuallyhidden@mobile\"><span class=\"txt txt--gamma txt--inverse\">Calming the world, one pet at a time.</span></div></div></div></div></div></div><div class=\"hero__md\"><div class=\"imgbg theme-comfort-imgbg--hero\"></div></div></a></div><div class=\"tier tier--flat theme-ai-tier--crush\"><a href=\"https://www.activeingredients.com/work/lithium\" class=\"hero\"><div class=\"hero__bd\"><div class=\"hero__row\"><div class=\"hero__cell hero__cell--alpha\"><div class=\"wrapper\"><div class=\"section js-fadeinup\"><div class=\"section__row js-fadeinup-alpha\"><h2 class=\"hdg hdg--delta hdg--inverse theme-lithium-hero--hdg\">Lithium</h2></div><div class=\"section__row js-fadeinup-beta isvisuallyhidden@mobile\"><span class=\"txt txt--gamma txt--inverse\">Building brands with the power of community</span></div></div></div></div></div></div><div class=\"hero__md\"><div class=\"imgbg theme-lithium-imgbg--hero\"></div></div></a></div><div class=\"tier tier--flat theme-cos-tier--sky\"><a href=\"https://www.activeingredients.com/work/chicken-of-the-sea\" class=\"hero\"><div class=\"hero__bd\"><div class=\"hero__row\"><div class=\"hero__cell hero__cell--alpha\"><div class=\"wrapper\"><div class=\"section js-fadeinup\"><div class=\"section__row js-fadeinup-alpha\"><h2 class=\"hdg hdg--delta hdg--inverse theme-cos-hero--hdg\">Chicken of the Sea</h2></div><div class=\"section__row js-fadeinup-beta isvisuallyhidden@mobile\"><span class=\"txt txt--gamma txt--inverse\">Rejuvenating an american icon</span></div></div></div></div></div></div><div class=\"hero__md\"><div class=\"imgbg theme-cos-imgbg--hero\"></div></div></a></div></div></div><div class=\"site__push\"></div></div><div class=\"reveal\"><div class=\"reveal__bd\"><footer class=\"footer js-slideNav-target\" role=\"contentinfo\"><div class=\"footer__social\"><ul class=\"hList\"><li><a href=\"https://twitter.com/teamAI\" class=\"icn icn--twitter isTrigger\" target=\"_blank\">Twitter</a></li><li><a href=\"https://www.facebook.com/activeingredients\" class=\"icn icn--facebook isTrigger\" target=\"_blank\">Facebook</a></li><li><a href=\"https://www.linkedin.com/company/active-ingredients\" class=\"icn icn--linkedin isTrigger\" target=\"_blank\">LinkedIn</a></li></ul></div><div class=\"footer__other\"><span class=\"hdg hdg--kappa hdg--lighter hdg--center hdg--right@desktop\">&copy; 2016 Active Ingredients.</span></div></footer></div></div></div><div class=\"loading js-loading\"><div class=\"loading__icn\"><span class=\"icn icn--loose icn--bug\"></span></div></div><script>loadJS(\"https://www.activeingredients.com/assets/vendor/requirejs/require.js?v=1.4\",function(){require.config({paths:{requirejs:\"\",jquery:\"../vendor/jquery/dist/jquery\",TweenMax:\"../vendor/greensock/src/uncompressed/TweenMax\",TweenLite:\"../vendor/greensock/src/uncompressed/TweenLite\",TimelineMax:\"../vendor/greensock/src/uncompressed/TimelineMax\",ScrollMagic:\"../vendor/scrollmagic/scrollmagic/uncompressed/ScrollMagic\",\"jquery.ScrollMagic\":\"../vendor/scrollmagic/scrollmagic/uncompressed/plugins/jquery.ScrollMagic\",\"ScrollMagic.debug\":\"../vendor/scrollmagic/scrollmagic/uncompressed/plugins/debug.addIndicators\",\"animation.gsap\":\"../vendor/scrollmagic/scrollmagic/uncompressed/plugins/animation.gsap\",slick:\"../vendor/slick-carousel/slick/slick\",googletagmanager:\"../vendor/googletagmanager/googletagmanager\",smoothstate:\"../vendor/smoothstate/jquery.smoothState.min\"},shim:{jquery:{exports:\"$\"},slick:{deps:[\"jquery\"]},smoothstate:{deps:[\"jquery\"]}},waitSeconds:120}),window.SETTINGS={},SETTINGS.IS_PRODUCTION=!1,SETTINGS.APP_VERSION=\"1.4\",SETTINGS.CACHE_BUSTER=SETTINGS.IS_PRODUCTION?\"\":\"&bust=\"+Math.random(),SETTINGS.SCRIPT_PATH=\"https://www.activeingredients.com/assets/scripts/\",require.config({baseUrl:SETTINGS.SCRIPT_PATH,urlArgs:\"v=\"+SETTINGS.APP_VERSION+SETTINGS.CACHE_BUSTER}),requirejs.onError=function(e){if(\"timeout\"!==e.requireType)throw e;console.log(\"error: \"+e)},require([\"main\"])})</script></body></html>'"
      ]
     },
     "execution_count": 60,
     "metadata": {},
     "output_type": "execute_result"
    }
   ],
   "source": [
    "type(html)\n",
    "h = html.decode(\"utf-8\")\n",
    "h"
   ]
  },
  {
   "cell_type": "code",
   "execution_count": 10,
   "metadata": {
    "collapsed": false
   },
   "outputs": [],
   "source": [
    "h1 = html1.decode(\"utf-8\")"
   ]
  },
  {
   "cell_type": "code",
   "execution_count": 66,
   "metadata": {
    "collapsed": false
   },
   "outputs": [
    {
     "ename": "AttributeError",
     "evalue": "'str' object has no attribute 'add'",
     "output_type": "error",
     "traceback": [
      "\u001b[0;31m---------------------------------------------------------------------------\u001b[0m",
      "\u001b[0;31mAttributeError\u001b[0m                            Traceback (most recent call last)",
      "\u001b[0;32m<ipython-input-66-877c2fdbac32>\u001b[0m in \u001b[0;36m<module>\u001b[0;34m()\u001b[0m\n\u001b[0;32m----> 1\u001b[0;31m \u001b[0;34m\"qq\"\u001b[0m\u001b[0;34m.\u001b[0m\u001b[0madd\u001b[0m\u001b[0;34m(\u001b[0m\u001b[0;34m\"s\"\u001b[0m\u001b[0;34m)\u001b[0m\u001b[0;34m\u001b[0m\u001b[0m\n\u001b[0m",
      "\u001b[0;31mAttributeError\u001b[0m: 'str' object has no attribute 'add'"
     ]
    }
   ],
   "source": [
    "\"qq\".add(\"s\")"
   ]
  },
  {
   "cell_type": "code",
   "execution_count": 30,
   "metadata": {
    "collapsed": false
   },
   "outputs": [
    {
     "ename": "HTTPError",
     "evalue": "HTTP Error 400: Bad Request",
     "output_type": "error",
     "traceback": [
      "\u001b[0;31m---------------------------------------------------------------------------\u001b[0m",
      "\u001b[0;31mHTTPError\u001b[0m                                 Traceback (most recent call last)",
      "\u001b[0;32m<ipython-input-30-ec17b483c16e>\u001b[0m in \u001b[0;36m<module>\u001b[0;34m()\u001b[0m\n\u001b[0;32m----> 1\u001b[0;31m \u001b[0;32mwith\u001b[0m \u001b[0murllib\u001b[0m\u001b[0;34m.\u001b[0m\u001b[0mrequest\u001b[0m\u001b[0;34m.\u001b[0m\u001b[0murlopen\u001b[0m\u001b[0;34m(\u001b[0m\u001b[0;34m'http://csr.onet.pl/'\u001b[0m\u001b[0;34m)\u001b[0m \u001b[0;32mas\u001b[0m \u001b[0mresponse\u001b[0m\u001b[0;34m:\u001b[0m\u001b[0;34m\u001b[0m\u001b[0m\n\u001b[0m\u001b[1;32m      2\u001b[0m        \u001b[0mhtml1\u001b[0m \u001b[0;34m=\u001b[0m \u001b[0mresponse\u001b[0m\u001b[0;34m.\u001b[0m\u001b[0mread\u001b[0m\u001b[0;34m(\u001b[0m\u001b[0;34m)\u001b[0m\u001b[0;34m\u001b[0m\u001b[0m\n",
      "\u001b[0;32m/home/lion/anaconda3/lib/python3.5/urllib/request.py\u001b[0m in \u001b[0;36murlopen\u001b[0;34m(url, data, timeout, cafile, capath, cadefault, context)\u001b[0m\n\u001b[1;32m    161\u001b[0m     \u001b[0;32melse\u001b[0m\u001b[0;34m:\u001b[0m\u001b[0;34m\u001b[0m\u001b[0m\n\u001b[1;32m    162\u001b[0m         \u001b[0mopener\u001b[0m \u001b[0;34m=\u001b[0m \u001b[0m_opener\u001b[0m\u001b[0;34m\u001b[0m\u001b[0m\n\u001b[0;32m--> 163\u001b[0;31m     \u001b[0;32mreturn\u001b[0m \u001b[0mopener\u001b[0m\u001b[0;34m.\u001b[0m\u001b[0mopen\u001b[0m\u001b[0;34m(\u001b[0m\u001b[0murl\u001b[0m\u001b[0;34m,\u001b[0m \u001b[0mdata\u001b[0m\u001b[0;34m,\u001b[0m \u001b[0mtimeout\u001b[0m\u001b[0;34m)\u001b[0m\u001b[0;34m\u001b[0m\u001b[0m\n\u001b[0m\u001b[1;32m    164\u001b[0m \u001b[0;34m\u001b[0m\u001b[0m\n\u001b[1;32m    165\u001b[0m \u001b[0;32mdef\u001b[0m \u001b[0minstall_opener\u001b[0m\u001b[0;34m(\u001b[0m\u001b[0mopener\u001b[0m\u001b[0;34m)\u001b[0m\u001b[0;34m:\u001b[0m\u001b[0;34m\u001b[0m\u001b[0m\n",
      "\u001b[0;32m/home/lion/anaconda3/lib/python3.5/urllib/request.py\u001b[0m in \u001b[0;36mopen\u001b[0;34m(self, fullurl, data, timeout)\u001b[0m\n\u001b[1;32m    470\u001b[0m         \u001b[0;32mfor\u001b[0m \u001b[0mprocessor\u001b[0m \u001b[0;32min\u001b[0m \u001b[0mself\u001b[0m\u001b[0;34m.\u001b[0m\u001b[0mprocess_response\u001b[0m\u001b[0;34m.\u001b[0m\u001b[0mget\u001b[0m\u001b[0;34m(\u001b[0m\u001b[0mprotocol\u001b[0m\u001b[0;34m,\u001b[0m \u001b[0;34m[\u001b[0m\u001b[0;34m]\u001b[0m\u001b[0;34m)\u001b[0m\u001b[0;34m:\u001b[0m\u001b[0;34m\u001b[0m\u001b[0m\n\u001b[1;32m    471\u001b[0m             \u001b[0mmeth\u001b[0m \u001b[0;34m=\u001b[0m \u001b[0mgetattr\u001b[0m\u001b[0;34m(\u001b[0m\u001b[0mprocessor\u001b[0m\u001b[0;34m,\u001b[0m \u001b[0mmeth_name\u001b[0m\u001b[0;34m)\u001b[0m\u001b[0;34m\u001b[0m\u001b[0m\n\u001b[0;32m--> 472\u001b[0;31m             \u001b[0mresponse\u001b[0m \u001b[0;34m=\u001b[0m \u001b[0mmeth\u001b[0m\u001b[0;34m(\u001b[0m\u001b[0mreq\u001b[0m\u001b[0;34m,\u001b[0m \u001b[0mresponse\u001b[0m\u001b[0;34m)\u001b[0m\u001b[0;34m\u001b[0m\u001b[0m\n\u001b[0m\u001b[1;32m    473\u001b[0m \u001b[0;34m\u001b[0m\u001b[0m\n\u001b[1;32m    474\u001b[0m         \u001b[0;32mreturn\u001b[0m \u001b[0mresponse\u001b[0m\u001b[0;34m\u001b[0m\u001b[0m\n",
      "\u001b[0;32m/home/lion/anaconda3/lib/python3.5/urllib/request.py\u001b[0m in \u001b[0;36mhttp_response\u001b[0;34m(self, request, response)\u001b[0m\n\u001b[1;32m    580\u001b[0m         \u001b[0;32mif\u001b[0m \u001b[0;32mnot\u001b[0m \u001b[0;34m(\u001b[0m\u001b[0;36m200\u001b[0m \u001b[0;34m<=\u001b[0m \u001b[0mcode\u001b[0m \u001b[0;34m<\u001b[0m \u001b[0;36m300\u001b[0m\u001b[0;34m)\u001b[0m\u001b[0;34m:\u001b[0m\u001b[0;34m\u001b[0m\u001b[0m\n\u001b[1;32m    581\u001b[0m             response = self.parent.error(\n\u001b[0;32m--> 582\u001b[0;31m                 'http', request, response, code, msg, hdrs)\n\u001b[0m\u001b[1;32m    583\u001b[0m \u001b[0;34m\u001b[0m\u001b[0m\n\u001b[1;32m    584\u001b[0m         \u001b[0;32mreturn\u001b[0m \u001b[0mresponse\u001b[0m\u001b[0;34m\u001b[0m\u001b[0m\n",
      "\u001b[0;32m/home/lion/anaconda3/lib/python3.5/urllib/request.py\u001b[0m in \u001b[0;36merror\u001b[0;34m(self, proto, *args)\u001b[0m\n\u001b[1;32m    508\u001b[0m         \u001b[0;32mif\u001b[0m \u001b[0mhttp_err\u001b[0m\u001b[0;34m:\u001b[0m\u001b[0;34m\u001b[0m\u001b[0m\n\u001b[1;32m    509\u001b[0m             \u001b[0margs\u001b[0m \u001b[0;34m=\u001b[0m \u001b[0;34m(\u001b[0m\u001b[0mdict\u001b[0m\u001b[0;34m,\u001b[0m \u001b[0;34m'default'\u001b[0m\u001b[0;34m,\u001b[0m \u001b[0;34m'http_error_default'\u001b[0m\u001b[0;34m)\u001b[0m \u001b[0;34m+\u001b[0m \u001b[0morig_args\u001b[0m\u001b[0;34m\u001b[0m\u001b[0m\n\u001b[0;32m--> 510\u001b[0;31m             \u001b[0;32mreturn\u001b[0m \u001b[0mself\u001b[0m\u001b[0;34m.\u001b[0m\u001b[0m_call_chain\u001b[0m\u001b[0;34m(\u001b[0m\u001b[0;34m*\u001b[0m\u001b[0margs\u001b[0m\u001b[0;34m)\u001b[0m\u001b[0;34m\u001b[0m\u001b[0m\n\u001b[0m\u001b[1;32m    511\u001b[0m \u001b[0;34m\u001b[0m\u001b[0m\n\u001b[1;32m    512\u001b[0m \u001b[0;31m# XXX probably also want an abstract factory that knows when it makes\u001b[0m\u001b[0;34m\u001b[0m\u001b[0;34m\u001b[0m\u001b[0m\n",
      "\u001b[0;32m/home/lion/anaconda3/lib/python3.5/urllib/request.py\u001b[0m in \u001b[0;36m_call_chain\u001b[0;34m(self, chain, kind, meth_name, *args)\u001b[0m\n\u001b[1;32m    442\u001b[0m         \u001b[0;32mfor\u001b[0m \u001b[0mhandler\u001b[0m \u001b[0;32min\u001b[0m \u001b[0mhandlers\u001b[0m\u001b[0;34m:\u001b[0m\u001b[0;34m\u001b[0m\u001b[0m\n\u001b[1;32m    443\u001b[0m             \u001b[0mfunc\u001b[0m \u001b[0;34m=\u001b[0m \u001b[0mgetattr\u001b[0m\u001b[0;34m(\u001b[0m\u001b[0mhandler\u001b[0m\u001b[0;34m,\u001b[0m \u001b[0mmeth_name\u001b[0m\u001b[0;34m)\u001b[0m\u001b[0;34m\u001b[0m\u001b[0m\n\u001b[0;32m--> 444\u001b[0;31m             \u001b[0mresult\u001b[0m \u001b[0;34m=\u001b[0m \u001b[0mfunc\u001b[0m\u001b[0;34m(\u001b[0m\u001b[0;34m*\u001b[0m\u001b[0margs\u001b[0m\u001b[0;34m)\u001b[0m\u001b[0;34m\u001b[0m\u001b[0m\n\u001b[0m\u001b[1;32m    445\u001b[0m             \u001b[0;32mif\u001b[0m \u001b[0mresult\u001b[0m \u001b[0;32mis\u001b[0m \u001b[0;32mnot\u001b[0m \u001b[0;32mNone\u001b[0m\u001b[0;34m:\u001b[0m\u001b[0;34m\u001b[0m\u001b[0m\n\u001b[1;32m    446\u001b[0m                 \u001b[0;32mreturn\u001b[0m \u001b[0mresult\u001b[0m\u001b[0;34m\u001b[0m\u001b[0m\n",
      "\u001b[0;32m/home/lion/anaconda3/lib/python3.5/urllib/request.py\u001b[0m in \u001b[0;36mhttp_error_default\u001b[0;34m(self, req, fp, code, msg, hdrs)\u001b[0m\n\u001b[1;32m    588\u001b[0m \u001b[0;32mclass\u001b[0m \u001b[0mHTTPDefaultErrorHandler\u001b[0m\u001b[0;34m(\u001b[0m\u001b[0mBaseHandler\u001b[0m\u001b[0;34m)\u001b[0m\u001b[0;34m:\u001b[0m\u001b[0;34m\u001b[0m\u001b[0m\n\u001b[1;32m    589\u001b[0m     \u001b[0;32mdef\u001b[0m \u001b[0mhttp_error_default\u001b[0m\u001b[0;34m(\u001b[0m\u001b[0mself\u001b[0m\u001b[0;34m,\u001b[0m \u001b[0mreq\u001b[0m\u001b[0;34m,\u001b[0m \u001b[0mfp\u001b[0m\u001b[0;34m,\u001b[0m \u001b[0mcode\u001b[0m\u001b[0;34m,\u001b[0m \u001b[0mmsg\u001b[0m\u001b[0;34m,\u001b[0m \u001b[0mhdrs\u001b[0m\u001b[0;34m)\u001b[0m\u001b[0;34m:\u001b[0m\u001b[0;34m\u001b[0m\u001b[0m\n\u001b[0;32m--> 590\u001b[0;31m         \u001b[0;32mraise\u001b[0m \u001b[0mHTTPError\u001b[0m\u001b[0;34m(\u001b[0m\u001b[0mreq\u001b[0m\u001b[0;34m.\u001b[0m\u001b[0mfull_url\u001b[0m\u001b[0;34m,\u001b[0m \u001b[0mcode\u001b[0m\u001b[0;34m,\u001b[0m \u001b[0mmsg\u001b[0m\u001b[0;34m,\u001b[0m \u001b[0mhdrs\u001b[0m\u001b[0;34m,\u001b[0m \u001b[0mfp\u001b[0m\u001b[0;34m)\u001b[0m\u001b[0;34m\u001b[0m\u001b[0m\n\u001b[0m\u001b[1;32m    591\u001b[0m \u001b[0;34m\u001b[0m\u001b[0m\n\u001b[1;32m    592\u001b[0m \u001b[0;32mclass\u001b[0m \u001b[0mHTTPRedirectHandler\u001b[0m\u001b[0;34m(\u001b[0m\u001b[0mBaseHandler\u001b[0m\u001b[0;34m)\u001b[0m\u001b[0;34m:\u001b[0m\u001b[0;34m\u001b[0m\u001b[0m\n",
      "\u001b[0;31mHTTPError\u001b[0m: HTTP Error 400: Bad Request"
     ]
    }
   ],
   "source": [
    " with urllib.request.urlopen('http://csr.onet.pl/') as response:\n",
    "        html1 = response.read()"
   ]
  }
 ],
 "metadata": {
  "anaconda-cloud": {},
  "kernelspec": {
   "display_name": "Python [default]",
   "language": "python",
   "name": "python3"
  },
  "language_info": {
   "codemirror_mode": {
    "name": "ipython",
    "version": 3
   },
   "file_extension": ".py",
   "mimetype": "text/x-python",
   "name": "python",
   "nbconvert_exporter": "python",
   "pygments_lexer": "ipython3",
   "version": "3.5.2"
  }
 },
 "nbformat": 4,
 "nbformat_minor": 1
}
